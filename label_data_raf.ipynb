{
 "cells": [
  {
   "cell_type": "code",
   "execution_count": 2,
   "metadata": {},
   "outputs": [],
   "source": [
    "import os\n",
    "\n",
    "import random\n",
    "from shutil import copyfile\n"
   ]
  },
  {
   "cell_type": "code",
   "execution_count": 3,
   "metadata": {},
   "outputs": [],
   "source": [
    "emotion_output_dir = \"emotions_5\"\n",
    "db_path = \"RAF_database\\\\Image\\\\aligned\""
   ]
  },
  {
   "cell_type": "code",
   "execution_count": 10,
   "metadata": {},
   "outputs": [],
   "source": [
    "for root, dirs, files in os.walk(\"emotions_5_test\"):\n",
    "    for x in files:\n",
    "        os.remove(os.path.join(root, x))"
   ]
  },
  {
   "cell_type": "code",
   "execution_count": 5,
   "metadata": {},
   "outputs": [],
   "source": [
    "train_image_dictionary = {}\n",
    "validation_image_dictionary = {}\n",
    "test_image_dictionary = {}\n",
    "\n",
    "read_file = \"RAF_database\\EmoLabel\\list_patition_label.txt\"\n",
    "\n",
    "train_percent = 0.8\n",
    "validation_percent = 0.9\n",
    "\n",
    "with open(read_file) as rf:\n",
    "    li = rf.read().splitlines()\n",
    "    random.shuffle(li)\n",
    "    for row in li:\n",
    "        randint = random.random()\n",
    "        img, label = row.split(\" \")\n",
    "        img = img.rstrip(\".jpg\")\n",
    "        img += \"_aligned.jpg\"\n",
    "        if randint < train_percent:\n",
    "            train_image_dictionary[img] = label\n",
    "        if randint >= train_percent and randint < validation_percent:\n",
    "            validation_image_dictionary[img] = label\n",
    "        if randint >= validation_percent:\n",
    "            test_image_dictionary[img] = label"
   ]
  },
  {
   "cell_type": "code",
   "execution_count": 6,
   "metadata": {
    "tags": []
   },
   "outputs": [
    {
     "output_type": "stream",
     "name": "stdout",
     "text": "12213\n1586\n1540\n"
    }
   ],
   "source": [
    "print(len(train_image_dictionary))\n",
    "print(len(validation_image_dictionary))\n",
    "print(len(test_image_dictionary))\n",
    "# print(train_image_dictionary)"
   ]
  },
  {
   "cell_type": "code",
   "execution_count": 7,
   "metadata": {},
   "outputs": [],
   "source": [
    "def copy_files(pic, orignal_path, emotion, final_dir):\n",
    "    file_ = os.path.join(orignal_path, pic)\n",
    "    emotion_dir = os.path.join(final_dir, emotion)\n",
    "    dest_ = os.path.join(emotion_dir, pic)\n",
    "    if os.path.getsize(file_) != 0:\n",
    "        copyfile(file_, dest_)"
   ]
  },
  {
   "cell_type": "code",
   "execution_count": 8,
   "metadata": {},
   "outputs": [],
   "source": [
    "def sort_images(image_dictionary, train_val_test):\n",
    "    for key, value in image_dictionary.items():\n",
    "        if value == \"6\" or value == \"3\":\n",
    "            final_dir = os.path.join(emotion_output_dir, train_val_test)\n",
    "            copy_files(key, db_path, \"anger_disgust\", final_dir)\n",
    "        elif value == \"1\" or value ==\"2\":\n",
    "            final_dir = os.path.join(emotion_output_dir, train_val_test)\n",
    "            copy_files(key, db_path, \"surprise_fear\", final_dir)\n",
    "        elif value == \"4\":\n",
    "            final_dir = os.path.join(emotion_output_dir, train_val_test)\n",
    "            copy_files(key, db_path, \"joy\", final_dir)\n",
    "        elif value == \"5\":\n",
    "            final_dir = os.path.join(emotion_output_dir, train_val_test)\n",
    "            copy_files(key, db_path, \"sadness\", final_dir)\n",
    "        elif value == \"7\":\n",
    "            final_dir = os.path.join(emotion_output_dir, train_val_test)\n",
    "            copy_files(key, db_path, \"neutral\", final_dir)\n",
    "        else:\n",
    "            continue\n"
   ]
  },
  {
   "cell_type": "code",
   "execution_count": 9,
   "metadata": {},
   "outputs": [],
   "source": [
    "sort_images(train_image_dictionary, \"train\")\n",
    "sort_images(test_image_dictionary, \"test\")\n",
    "sort_images(validation_image_dictionary, \"validation\")"
   ]
  },
  {
   "cell_type": "code",
   "execution_count": null,
   "metadata": {},
   "outputs": [],
   "source": []
  }
 ],
 "metadata": {
  "language_info": {
   "codemirror_mode": {
    "name": "ipython",
    "version": 3
   },
   "file_extension": ".py",
   "mimetype": "text/x-python",
   "name": "python",
   "nbconvert_exporter": "python",
   "pygments_lexer": "ipython3",
   "version": 3
  },
  "orig_nbformat": 2,
  "kernelspec": {
   "name": "python_defaultSpec_1594616011114",
   "display_name": "Python 3.8.1 64-bit ('tfe': virtualenv)"
  }
 },
 "nbformat": 4,
 "nbformat_minor": 2
}