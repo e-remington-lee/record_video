{
 "metadata": {
  "language_info": {
   "codemirror_mode": {
    "name": "ipython",
    "version": 3
   },
   "file_extension": ".py",
   "mimetype": "text/x-python",
   "name": "python",
   "nbconvert_exporter": "python",
   "pygments_lexer": "ipython3",
   "version": "3.7.7-final"
  },
  "orig_nbformat": 2,
  "kernelspec": {
   "name": "python_defaultSpec_1598241736064",
   "display_name": "Python 3.7.7 64-bit ('venv': venv)"
  }
 },
 "nbformat": 4,
 "nbformat_minor": 2,
 "cells": [
  {
   "cell_type": "code",
   "execution_count": 1,
   "metadata": {},
   "outputs": [],
   "source": [
    "import librosa\n",
    "import numpy as np\n",
    "anger = \"../../databases/TESS_and_RAVDESS/Emotions/Disgusted/03-01-07-01-01-01-01.wav\"\n",
    "anger2 = \"../../databases/TESS_and_RAVDESS/Emotions/Angry/03-01-05-01-01-02-05.wav\"\n",
    "disgust = \"../../databases/TESS_and_RAVDESS/Emotions/Disgusted/03-01-07-01-01-01-04.wav\"\n",
    "happy2 = \"../../databases/TESS_and_RAVDESS/Emotions/Happy/03-01-03-01-01-01-16.wav\"\n",
    "happy = \"../../databases/TESS_and_RAVDESS/Emotions/Happy/03-01-03-01-01-01-20.wav\"\n",
    "neutral = \"../../databases/TESS_and_RAVDESS/Emotions/Neutral/03-01-01-01-01-01-11.wav\""
   ]
  },
  {
   "cell_type": "code",
   "execution_count": 11,
   "metadata": {
    "tags": []
   },
   "outputs": [
    {
     "output_type": "stream",
     "name": "stdout",
     "text": "[[-1.         -0.97979798  1.        ]\n [-0.93939394 -0.91919192 -0.8989899 ]\n [-0.85858586 -0.83838384 -0.81818182]]\n"
    }
   ],
   "source": [
    "li = [[1,2,100],[4,5,6],[8,9,10]]\n",
    "li = np.array(li)\n",
    "li = 2*((li-1)/(100-1))-1\n",
    "print(li)"
   ]
  },
  {
   "cell_type": "code",
   "execution_count": 6,
   "metadata": {
    "tags": []
   },
   "outputs": [
    {
     "output_type": "stream",
     "name": "stdout",
     "text": "-51.657715\n-69.060776\n[-0.9868815 -0.9868815 -0.9868815 ... -0.9868815 -0.9868815 -0.9868815]\n"
    }
   ],
   "source": [
    "sample_rate=220250\n",
    "signal, sr = librosa.load(anger, sr=sample_rate)\n",
    "mfcc = np.mean(librosa.feature.mfcc(signal, n_mfcc=13, n_fft=1024, hop_length=256, sr=sample_rate), axis=0)\n",
    "m = np.amax(mfcc)\n",
    "mi = np.amin(mfcc)\n",
    "print(m)\n",
    "print(mi)\n",
    "final = 2*((mfcc-mi)/(m-mi))-1\n",
    "print(final)"
   ]
  },
  {
   "cell_type": "code",
   "execution_count": 29,
   "metadata": {
    "tags": []
   },
   "outputs": [
    {
     "output_type": "stream",
     "name": "stdout",
     "text": "[-61.47505 -61.47505 -61.47505 ... -61.47505 -61.47505 -61.47505]\n"
    }
   ],
   "source": [
    "signal, sr = librosa.load(anger2, sr=sample_rate)\n",
    "mfcc = np.mean(librosa.feature.mfcc(signal, n_mfcc=13, n_fft=1024, hop_length=256, sr=sample_rate), axis=0)\n",
    "print(mfcc)"
   ]
  },
  {
   "cell_type": "code",
   "execution_count": 31,
   "metadata": {
    "tags": []
   },
   "outputs": [
    {
     "output_type": "stream",
     "name": "stdout",
     "text": "(13, 3331)\n"
    }
   ],
   "source": [
    "signal, sr = librosa.load(anger, sr=sample_rate)\n",
    "mfcc = librosa.feature.mfcc(signal, n_mfcc=13, n_fft=1024, hop_length=256, sr=sample_rate)\n",
    "print(mfcc.shape)"
   ]
  },
  {
   "cell_type": "code",
   "execution_count": 23,
   "metadata": {
    "tags": []
   },
   "outputs": [
    {
     "output_type": "stream",
     "name": "stdout",
     "text": "[-64.74193 -64.74193 -64.74193 ... -64.02045 -64.63354 -64.74193]\n"
    }
   ],
   "source": [
    "signal, sr = librosa.load(disgust, sr=sample_rate)\n",
    "mfcc = np.mean(librosa.feature.mfcc(signal, n_mfcc=13, n_fft=1024, hop_length=256, sr=sample_rate), axis=0)\n",
    "print(mfcc)"
   ]
  },
  {
   "cell_type": "code",
   "execution_count": 24,
   "metadata": {
    "tags": []
   },
   "outputs": [
    {
     "output_type": "stream",
     "name": "stdout",
     "text": "[-70.9596   -71.01826  -71.413765 ... -67.2841   -67.67648  -67.95984 ]\n"
    }
   ],
   "source": [
    "signal, sr = librosa.load(neutral, sr=sample_rate)\n",
    "mfcc = np.mean(librosa.feature.mfcc(signal, n_mfcc=13, n_fft=1024, hop_length=256, sr=sample_rate), axis=0)\n",
    "print(mfcc)"
   ]
  },
  {
   "cell_type": "code",
   "execution_count": 25,
   "metadata": {
    "tags": []
   },
   "outputs": [
    {
     "output_type": "stream",
     "name": "stdout",
     "text": "[-59.207504 -59.207504 -59.207504 ... -59.207504 -59.207504 -59.207504]\n"
    }
   ],
   "source": [
    "signal, sr = librosa.load(happy, sr=sample_rate)\n",
    "mfcc = np.mean(librosa.feature.mfcc(signal, n_mfcc=13, n_fft=1024, hop_length=256, sr=sample_rate), axis=0)\n",
    "print(mfcc)"
   ]
  },
  {
   "cell_type": "code",
   "execution_count": 27,
   "metadata": {
    "tags": []
   },
   "outputs": [
    {
     "output_type": "stream",
     "name": "stdout",
     "text": "[-61.551273 -61.551273 -61.551273 ... -60.453552 -60.430473 -60.51554 ]\n"
    }
   ],
   "source": [
    "signal, sr = librosa.load(happy2, sr=sample_rate)\n",
    "mfcc = np.mean(librosa.feature.mfcc(signal, n_mfcc=13, n_fft=1024, hop_length=256, sr=sample_rate), axis=0)\n",
    "print(mfcc)"
   ]
  },
  {
   "cell_type": "code",
   "execution_count": null,
   "metadata": {},
   "outputs": [],
   "source": []
  }
 ]
}