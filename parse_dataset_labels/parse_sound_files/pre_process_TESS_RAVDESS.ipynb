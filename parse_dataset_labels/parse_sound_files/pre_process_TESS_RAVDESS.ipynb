{
 "metadata": {
  "language_info": {
   "codemirror_mode": {
    "name": "ipython",
    "version": 3
   },
   "file_extension": ".py",
   "mimetype": "text/x-python",
   "name": "python",
   "nbconvert_exporter": "python",
   "pygments_lexer": "ipython3",
   "version": "3.7.5-final"
  },
  "orig_nbformat": 2,
  "kernelspec": {
   "name": "python_defaultSpec_1599085188192",
   "display_name": "Python 3.7.5 64-bit ('venv2': virtualenv)"
  }
 },
 "nbformat": 4,
 "nbformat_minor": 2,
 "cells": [
  {
   "cell_type": "code",
   "execution_count": 1,
   "metadata": {},
   "outputs": [],
   "source": [
    "import os\n",
    "import csv\n",
    "import json\n",
    "import sys\n",
    "import numpy as np\n",
    "import random\n",
    "\n",
    "import librosa"
   ]
  },
  {
   "cell_type": "code",
   "execution_count": 2,
   "metadata": {
    "tags": []
   },
   "outputs": [],
   "source": [
    "sound_emotion_path = \"../../databases/TESS_and_RAVDESS/\"\n",
    "train_data = {\n",
    "    \"mfcc\": [],\n",
    "    \"label\": [],\n",
    "    \"emotion\": []\n",
    "}\n",
    "\n",
    "validation_data = {\n",
    "    \"mfcc\": [],\n",
    "    \"label\": [],\n",
    "    \"emotion\": []\n",
    "}\n",
    "\n",
    "test_data = {\n",
    "    \"mfcc\": [],\n",
    "    \"label\": [],\n",
    "    \"emotion\": []\n",
    "}\n",
    "\n",
    "max_value = 0\n",
    "min_value = 0"
   ]
  },
  {
   "cell_type": "code",
   "execution_count": 3,
   "metadata": {},
   "outputs": [],
   "source": [
    "def process_sound(filename, dirpath, emotion, label, sample_rate, n_mfcc, n_fft, hop_length):\n",
    "    file_path = os.path.join(dirpath, filename)\n",
    "    # sample rate is per-second, signal.size/sample rate = time\n",
    "    signal, sr = librosa.load(file_path, sr=sample_rate)\n",
    "    # Option to round this so we get more samples, but having consistent 1 second samples is important too\n",
    "    intervals = int(signal.size / sample_rate)\n",
    "    for x in range(intervals):\n",
    "        start = x * sample_rate\n",
    "        stop = start + sample_rate\n",
    "        mfcc = np.mean(librosa.feature.mfcc(signal[start:stop], sr=sample_rate, n_fft=n_fft, hop_length=hop_length, n_mfcc=n_mfcc),axis=0)      \n",
    "        # max_value = np.amax(mfcc)\n",
    "        # min_value = np.amin(mfcc)\n",
    "        # mfcc = 2*((mfcc-min_value)/(max_value-min_value))-1        \n",
    "        # global max_value, min_value\n",
    "\n",
    "        randint = random.random()\n",
    "        if randint < 0.8:\n",
    "            # max_value = max(max_value, np.amax(mfcc))\n",
    "            # min_value = min(min_value, np.amin(mfcc))\n",
    "\n",
    "            train_data[\"mfcc\"].append(mfcc.tolist())\n",
    "            train_data[\"label\"].append(label)\n",
    "            train_data[\"emotion\"].append(emotion)\n",
    "        elif randint >= 0.8 and randint < 0.9:\n",
    "            # max_value = max(max_value, np.amax(mfcc))\n",
    "            # min_value = min(min_value, np.amin(mfcc))\n",
    "\n",
    "            validation_data[\"mfcc\"].append(mfcc.tolist())\n",
    "            validation_data[\"label\"].append(label)\n",
    "            validation_data[\"emotion\"].append(emotion)            \n",
    "        else:       \n",
    "            test_data[\"mfcc\"].append(mfcc.tolist())\n",
    "            test_data[\"label\"].append(label)\n",
    "            test_data[\"emotion\"].append(emotion)"
   ]
  },
  {
   "cell_type": "code",
   "execution_count": null,
   "metadata": {
    "tags": []
   },
   "outputs": [],
   "source": [
    "def save_mfcc(dataset_path, n_mfcc=13, n_fft=1024, hop_length=256, sample_rate=22050):\n",
    "    # count: 0=Angry, 1=Disgusted, 2=Fearful, 3=Happy, 4=Netural, 5=Sad, 6=Surprised\n",
    "    for count, (dirpath, dirnames, filenames) in enumerate(os.walk(dataset_path)):\n",
    "        # print(filenames)\n",
    "        # print(dirnames)\n",
    "        print(dirpath)\n",
    "        if dirpath is not sound_emotion_path:\n",
    "            if \"Angry\" in dirpath:\n",
    "                for f in filenames:\n",
    "                    process_sound(f, dirpath, \"anger_disgust\", 0, sample_rate, n_mfcc, n_fft, hop_length)\n",
    "            elif \"Disgusted\" in dirpath:\n",
    "                for f in filenames:\n",
    "                    process_sound(f, dirpath, \"anger_disgust\", 0, sample_rate, n_mfcc, n_fft, hop_length)\n",
    "            elif \"Suprised\" in dirpath:\n",
    "                for f in filenames:\n",
    "                    process_sound(f, dirpath, \"surprised_fear\", 4, sample_rate, n_mfcc, n_fft, hop_length)\n",
    "            elif \"Fearful\" in dirpath:\n",
    "                for f in filenames:\n",
    "                    process_sound(f, dirpath, \"surprised_fear\", 4, sample_rate, n_mfcc, n_fft, hop_length)\n",
    "            elif \"Happy\" in dirpath:\n",
    "                for f in filenames:\n",
    "                    process_sound(f, dirpath, \"joy\", 1, sample_rate, n_mfcc, n_fft, hop_length)\n",
    "            elif \"Sad\" in dirpath:\n",
    "                for f in filenames:\n",
    "                    process_sound(f, dirpath, \"sadness\", 3, sample_rate, n_mfcc, n_fft, hop_length)\n",
    "            elif \"Neutral\" in dirpath:\n",
    "                for f in filenames:\n",
    "                    process_sound(f, dirpath, \"neutral\", 2, sample_rate, n_mfcc, n_fft, hop_length)\n",
    "            else:\n",
    "                continue\n",
    "\n",
    "save_mfcc(sound_emotion_path)"
   ]
  },
  {
   "cell_type": "code",
   "execution_count": null,
   "metadata": {},
   "outputs": [],
   "source": [
    "with open(\"./tess_ravdess_train_norm.json\", \"w\") as fp:\n",
    "    json.dump(train_data, fp, indent=4)\n",
    "with open(\"./tess_ravdess_validation_norm.json\", \"w\") as fp:\n",
    "    json.dump(validation_data, fp, indent=4)\n",
    "with open(\"./tess_ravdess_test_norm.json\", \"w\") as fp:\n",
    "    json.dump(test_data, fp, indent=4)\n"
   ]
  },
  {
   "cell_type": "code",
   "execution_count": null,
   "metadata": {},
   "outputs": [],
   "source": []
  }
 ]
}