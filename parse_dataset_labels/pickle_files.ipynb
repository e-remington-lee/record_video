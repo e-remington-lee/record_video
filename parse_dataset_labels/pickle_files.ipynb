{
 "metadata": {
  "language_info": {
   "codemirror_mode": {
    "name": "ipython",
    "version": 3
   },
   "file_extension": ".py",
   "mimetype": "text/x-python",
   "name": "python",
   "nbconvert_exporter": "python",
   "pygments_lexer": "ipython3",
   "version": "3.7.7-final"
  },
  "orig_nbformat": 2,
  "kernelspec": {
   "name": "Python 3.7.7 64-bit ('venv')",
   "display_name": "Python 3.7.7 64-bit ('venv')",
   "metadata": {
    "interpreter": {
     "hash": "0ccd6c582c9a76e057095d94821e135e22982a469d4000f0b42c2f79ec6ee6ee"
    }
   }
  }
 },
 "nbformat": 4,
 "nbformat_minor": 2,
 "cells": [
  {
   "cell_type": "code",
   "execution_count": null,
   "metadata": {},
   "outputs": [],
   "source": [
    "import pickle        \n",
    "import base64\n",
    "import csv\n",
    "import json\n",
    "import numpy as np\n",
    "import pandas as pd"
   ]
  },
  {
   "cell_type": "code",
   "execution_count": null,
   "metadata": {},
   "outputs": [],
   "source": [
    "pckl = \"../databases/mosei_senti_data.pkl\"\n",
    "\n",
    "with open(pckl, \"rb\") as r:\n",
    "    data = pickle.load(r)"
   ]
  },
  {
   "source": [
    "There is train, test, and validation data. "
   ],
   "cell_type": "markdown",
   "metadata": {}
  },
  {
   "cell_type": "code",
   "execution_count": 67,
   "metadata": {},
   "outputs": [
    {
     "output_type": "stream",
     "name": "stdout",
     "text": [
      "16265\n4643\n1869\n[[-3.]] [[3.]]\n"
     ]
    }
   ],
   "source": [
    "row = \"vision\"\n",
    "\n",
    "train = data[\"train\"][row]\n",
    "test = data[\"test\"][row]\n",
    "valid = data[\"valid\"][row]\n",
    "print(len(train))\n",
    "print(len(test))\n",
    "print(len(valid))\n",
    "min_1 = 1000\n",
    "max_1 = -1000\n",
    "for x in range(1,10000):\n",
    "    min_ = min(idk[x], min_1)\n",
    "    max_ = max(idk[x], max_1)\n",
    "    min_1, max_1 = min_, max_\n",
    "print(min_, max_)"
   ]
  },
  {
   "cell_type": "code",
   "execution_count": 82,
   "metadata": {},
   "outputs": [
    {
     "output_type": "execute_result",
     "data": {
      "text/plain": [
       "array(['-3g5yACwYnA', '119.919', '125.299'], dtype='<U15')"
      ]
     },
     "metadata": {},
     "execution_count": 82
    }
   ],
   "source": [
    "data[\"train\"][\"id\"][1]"
   ]
  },
  {
   "cell_type": "code",
   "execution_count": 61,
   "metadata": {},
   "outputs": [
    {
     "output_type": "execute_result",
     "data": {
      "text/plain": [
       "                                                    train  \\\n",
       "vision  [[[-1.2993063926696777, -0.030334796756505966,...   \n",
       "audio   [[[142.99107360839844, 0.0357142873108387, 0.0...   \n",
       "text    [[[0.31872, 0.24959, 0.0051373, -0.078027, -0....   \n",
       "labels  [[[1.0]], [[0.6666667]], [[0.0]], [[0.0]], [[1...   \n",
       "id      [[-3g5yACwYnA, 82.753, 100.555], [-3g5yACwYnA,...   \n",
       "\n",
       "                                                     test  \\\n",
       "vision  [[[0.0, 0.0, 0.0, 0.0, 0.0, 0.0, 0.0, 0.0, 0.0...   \n",
       "audio   [[[0.0, 0.0, 0.0, 0.0, 0.0, 0.0, 0.0, 0.0, 0.0...   \n",
       "text    [[[0.0, 0.0, 0.0, 0.0, 0.0, 0.0, 0.0, 0.0, 0.0...   \n",
       "labels  [[[0.33333334]], [[-1.0]], [[0.0]], [[1.333333...   \n",
       "id      [[-6rXp3zJ3kc, 58.109, 71.96], [-6rXp3zJ3kc, 4...   \n",
       "\n",
       "                                                    valid  \n",
       "vision  [[[0.0, 0.0, 0.0, 0.0, 0.0, 0.0, 0.0, 0.0, 0.0...  \n",
       "audio   [[[0.0, 0.0, 0.0, 0.0, 0.0, 0.0, 0.0, 0.0, 0.0...  \n",
       "text    [[[0.0, 0.0, 0.0, 0.0, 0.0, 0.0, 0.0, 0.0, 0.0...  \n",
       "labels  [[[1.0]], [[0.0]], [[-0.6666667]], [[0.3333333...  \n",
       "id      [[--qXJuDtHPw, 23.199, 30.325], [-571d8cVauQ, ...  "
      ],
      "text/html": "<div>\n<style scoped>\n    .dataframe tbody tr th:only-of-type {\n        vertical-align: middle;\n    }\n\n    .dataframe tbody tr th {\n        vertical-align: top;\n    }\n\n    .dataframe thead th {\n        text-align: right;\n    }\n</style>\n<table border=\"1\" class=\"dataframe\">\n  <thead>\n    <tr style=\"text-align: right;\">\n      <th></th>\n      <th>train</th>\n      <th>test</th>\n      <th>valid</th>\n    </tr>\n  </thead>\n  <tbody>\n    <tr>\n      <th>vision</th>\n      <td>[[[-1.2993063926696777, -0.030334796756505966,...</td>\n      <td>[[[0.0, 0.0, 0.0, 0.0, 0.0, 0.0, 0.0, 0.0, 0.0...</td>\n      <td>[[[0.0, 0.0, 0.0, 0.0, 0.0, 0.0, 0.0, 0.0, 0.0...</td>\n    </tr>\n    <tr>\n      <th>audio</th>\n      <td>[[[142.99107360839844, 0.0357142873108387, 0.0...</td>\n      <td>[[[0.0, 0.0, 0.0, 0.0, 0.0, 0.0, 0.0, 0.0, 0.0...</td>\n      <td>[[[0.0, 0.0, 0.0, 0.0, 0.0, 0.0, 0.0, 0.0, 0.0...</td>\n    </tr>\n    <tr>\n      <th>text</th>\n      <td>[[[0.31872, 0.24959, 0.0051373, -0.078027, -0....</td>\n      <td>[[[0.0, 0.0, 0.0, 0.0, 0.0, 0.0, 0.0, 0.0, 0.0...</td>\n      <td>[[[0.0, 0.0, 0.0, 0.0, 0.0, 0.0, 0.0, 0.0, 0.0...</td>\n    </tr>\n    <tr>\n      <th>labels</th>\n      <td>[[[1.0]], [[0.6666667]], [[0.0]], [[0.0]], [[1...</td>\n      <td>[[[0.33333334]], [[-1.0]], [[0.0]], [[1.333333...</td>\n      <td>[[[1.0]], [[0.0]], [[-0.6666667]], [[0.3333333...</td>\n    </tr>\n    <tr>\n      <th>id</th>\n      <td>[[-3g5yACwYnA, 82.753, 100.555], [-3g5yACwYnA,...</td>\n      <td>[[-6rXp3zJ3kc, 58.109, 71.96], [-6rXp3zJ3kc, 4...</td>\n      <td>[[--qXJuDtHPw, 23.199, 30.325], [-571d8cVauQ, ...</td>\n    </tr>\n  </tbody>\n</table>\n</div>"
     },
     "metadata": {},
     "execution_count": 61
    }
   ],
   "source": [
    "# print(data)\n",
    "pd.DataFrame.from_dict(data)"
   ]
  },
  {
   "cell_type": "code",
   "execution_count": null,
   "metadata": {},
   "outputs": [],
   "source": []
  }
 ]
}