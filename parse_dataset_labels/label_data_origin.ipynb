{
 "metadata": {
  "language_info": {
   "codemirror_mode": {
    "name": "ipython",
    "version": 3
   },
   "file_extension": ".py",
   "mimetype": "text/x-python",
   "name": "python",
   "nbconvert_exporter": "python",
   "pygments_lexer": "ipython3",
   "version": 3
  },
  "orig_nbformat": 2,
  "kernelspec": {
   "name": "python_defaultSpec_1595340576675",
   "display_name": "Python 3.8.1 64-bit ('tfe': virtualenv)"
  }
 },
 "nbformat": 4,
 "nbformat_minor": 2,
 "cells": [
  {
   "cell_type": "code",
   "execution_count": 51,
   "metadata": {},
   "outputs": [],
   "source": [
    "import os\n",
    "\n",
    "import random\n",
    "from shutil import copyfile\n",
    "import numpy\n",
    "import csv\n",
    "from PIL import Image"
   ]
  },
  {
   "cell_type": "code",
   "execution_count": 52,
   "metadata": {},
   "outputs": [],
   "source": [
    "# for root, dirs, files in os.walk(\"emotions_5_test\"):\n",
    "#     for x in files:\n",
    "#         os.remove(os.path.join(root, x))"
   ]
  },
  {
   "cell_type": "code",
   "execution_count": 53,
   "metadata": {},
   "outputs": [],
   "source": [
    "global_emotion_dir = \"emotions_5\"\n",
    "origin_dir = \"origin\\\\origin\"\n",
    "\n",
    "# pic = path to picture\n",
    "# original_dir = the directory this image is stored in\n",
    "# emotion_ = which emotion it is to match the directory\n",
    "# global_emotion_dir = the directory we wish to save the image in\n",
    "# ttv = train, test, or validation folder\n",
    "def copy_files(pic, file_name, orignal_dir, emotion_, global_emotion_dir, ttv):\n",
    "    file_ = os.path.join(orignal_dir, pic)\n",
    "    ttv_dir = os.path.join(global_emotion_dir, ttv)\n",
    "    emotion_dir = os.path.join(ttv_dir, emotion_)\n",
    "    dest_ = os.path.join(emotion_dir, file_name)\n",
    "    if os.path.getsize(file_) != 0:\n",
    "        copyfile(file_, dest_)\n",
    "\n",
    "def crop_image(csv_row, baes_dir):\n",
    "    img_path = os.path.join(base_dir, csv_row[0])\n",
    "    img = Image.open(img_path)\n",
    "    im1 = img.crop((float(csv_row[3]), float(csv_row[2]), float(csv_row[4]), float(csv_row[5])))\n",
    "\n",
    "    saved_img_location = \"place_holder.jpg\" \n",
    "    im1.save(saved_img_location)\n",
    "    return saved_img_location\n",
    "\n",
    "\n"
   ]
  },
  {
   "cell_type": "code",
   "execution_count": 54,
   "metadata": {
    "tags": []
   },
   "outputs": [],
   "source": [
    "text_file = \"origin\\\\label.csv\"\n",
    "\n",
    "# for expression label：\n",
    "# \"0\" \"angry\"\n",
    "# \"1\" \"disgust\"\n",
    "# \"2\" \"fear\"\n",
    "# \"3\" \"happy\"\n",
    "# \"4\" \"sad\"\n",
    "# \"5\" \"surprise\"\n",
    "# \"6\" \"neutral\"\n",
    "with open(text_file) as rf:\n",
    "    rows = csv.reader(rf, delimiter=\" \")\n",
    "    for row in rows:\n",
    "\n",
    "        #Randomize int to choose train, test, or validate \n",
    "        randint = random.random()\n",
    "        ttv_split = 0.8\n",
    "        test_val_split = (1-ttv_split)/2 + ttv_split\n",
    "        train_test_validate = None\n",
    "        if randint < ttv_split:\n",
    "            train_test_validate = \"train\"\n",
    "        elif randint >= ttv_split and randint < test_val_split:\n",
    "            train_test_validate = \"validation\"\n",
    "        else:       \n",
    "            train_test_validate = \"test\" \n",
    "\n",
    "        # parse the emotion label\n",
    "        emotion_ = None\n",
    "        if row[7] == \"0\":\n",
    "            emotion_ = \"anger_disgust\"\n",
    "        elif row[7] == \"1\":\n",
    "            emotion_ = \"anger_disgust\"\n",
    "        elif row[7] == \"2\":\n",
    "            emotion_ = \"surprise_fear\"\n",
    "        elif row[7] == \"3\":\n",
    "            emotion_ = \"joy\"\n",
    "        elif row[7] == \"4\":\n",
    "            emotion_ = \"sadness\"\n",
    "        elif row[7] == \"5\":\n",
    "            emotion_ = \"surprise_fear\"\n",
    "        elif row[7] == \"6\":\n",
    "            emotion_ = \"neutral\"\n",
    "        else:\n",
    "            continue\n",
    "\n",
    "        # crop image based off of CSV row\n",
    "        image = crop_image(row, origin_dir)\n",
    "\n",
    "        # copy to final directory\n",
    "        copy_files(image, row[0], os.getcwd(), emotion_, global_emotion_dir, train_test_validate)"
   ]
  },
  {
   "cell_type": "code",
   "execution_count": 50,
   "metadata": {
    "tags": []
   },
   "outputs": [
    {
     "output_type": "stream",
     "name": "stdout",
     "text": "(450, 450, 3)\n(270, 270, 3)\n"
    }
   ],
   "source": [
    "li = ['surprised_expression_266.jpg', '0', '67', '180', '450', '337', '55.028', '5']\n",
    "# li = [\"crying_student_177.jpg\", \"2\", \"276\", \"16\", \"64\", \"324\", \"20\", \"0465\", \"4\"]\n",
    "\n",
    "base_dir = \"origin\\\\origin\\\\\"\n",
    "img_path = os.path.join(base_dir, li[0])\n",
    "img = Image.open(img_path)\n",
    "im1 = img.crop((float(li[3]), float(li[2]), float(li[4]), float(li[5])))\n",
    "abc = numpy.asarray(im1)\n",
    "original_shape = numpy.asarray(img)\n",
    "print(original_shape.shape)\n",
    "s_abc = abc.shape\n",
    "print(s_abc)\n",
    "if s_abc[0]>80:\n",
    "    im1.show()"
   ]
  },
  {
   "cell_type": "code",
   "execution_count": null,
   "metadata": {},
   "outputs": [],
   "source": []
  }
 ]
}