{
 "metadata": {
  "language_info": {
   "codemirror_mode": {
    "name": "ipython",
    "version": 3
   },
   "file_extension": ".py",
   "mimetype": "text/x-python",
   "name": "python",
   "nbconvert_exporter": "python",
   "pygments_lexer": "ipython3",
   "version": "3.7.7-final"
  },
  "orig_nbformat": 2,
  "kernelspec": {
   "name": "Python 3.7.7 64-bit ('venv')",
   "display_name": "Python 3.7.7 64-bit ('venv')",
   "metadata": {
    "interpreter": {
     "hash": "0ccd6c582c9a76e057095d94821e135e22982a469d4000f0b42c2f79ec6ee6ee"
    }
   }
  }
 },
 "nbformat": 4,
 "nbformat_minor": 2,
 "cells": [
  {
   "cell_type": "code",
   "execution_count": 1,
   "metadata": {},
   "outputs": [],
   "source": [
    "import os\n",
    "import sys\n",
    "import csv \n",
    "import h5py\n",
    "import numpy as np\n",
    "import pandas as pd\n",
    "import pickle\n",
    "# python.dataSciense.textOutputLimit = 0"
   ]
  },
  {
   "cell_type": "code",
   "execution_count": 2,
   "metadata": {},
   "outputs": [],
   "source": [
    "_5000_batch_raw =\"D:/Software/reluu_extra_space/CMU_MOSEI/Raw/Labels/5000_batch_raw.csv\"\n",
    "batch_298_result = \"D:/Software/reluu_extra_space/CMU_MOSEI/Raw/Labels/Batch_2980374_batch_results.csv\"\n",
    "extreme_sentiment = \"D:/Software/reluu_extra_space/CMU_MOSEI/Raw/Labels/extreme_sentiment_results.csv\"\n",
    "mosi_pom_output = \"D:/Software/reluu_extra_space/CMU_MOSEI/Raw/Labels/mosi_pom_output.csv\"\n",
    "mturk_extra_v2 = \"D:/Software/reluu_extra_space/CMU_MOSEI/Raw/Labels/mturk_extra_v2.csv\"\n",
    "pom_extra_sqa_mono_result = \"D:/Software/reluu_extra_space/CMU_MOSEI/Raw/Labels/pom_extra_sqa_mono_results.csv\""
   ]
  },
  {
   "cell_type": "code",
   "execution_count": 4,
   "metadata": {},
   "outputs": [],
   "source": [
    "pd.set_option('display.max_rows', 20)\n",
    "pd.set_option('display.max_columns', None)\n",
    "class ShowData:\n",
    "    def __init__(self, data_set_path):        \n",
    "        self.data_frame = pd.DataFrame()\n",
    "        self.data_frame = pd.read_csv(data_set_path)  \n",
    "    \n",
    "    def __call__(self):\n",
    "        return self.data_frame.head()\n",
    "\n",
    "    def any(self, column, value):\n",
    "        return self.data_frame.loc[(self.data_frame[column]==value)]"
   ]
  },
  {
   "cell_type": "code",
   "execution_count": null,
   "metadata": {},
   "outputs": [],
   "source": [
    "_pom_extra_sqa_mono_result = ShowData(pom_extra_sqa_mono_result)\n",
    "_pom_extra_sqa_mono_result()\n",
    "# _pom_extra_sqa_mono_result.any(\"Input.VIDEO_ID\", \"pom_extra/257277\")\n",
    "_pom_extra_sqa_mono_result.any(\"Input.VIDEO_ID\", \"sqa_mosi/eE8Qr9fOvVA\")\n",
    "# _pom_extra_sqa_mono_result.any(\"Answer.anger\", 3)"
   ]
  },
  {
   "cell_type": "code",
   "execution_count": 5,
   "metadata": {},
   "outputs": [
    {
     "output_type": "execute_result",
     "data": {
      "text/plain": [
       "                            HITId                       HITTypeId  \\\n",
       "0  3XUSYT70ITD42GQKT9TDGVDH7MS0DB  310F0WGLWJM86SJMYKLR3YFKF1FLT9   \n",
       "1  3XUSYT70ITD42GQKT9TDGVDH7MS0DB  310F0WGLWJM86SJMYKLR3YFKF1FLT9   \n",
       "2  3XUSYT70ITD42GQKT9TDGVDH7MS0DB  310F0WGLWJM86SJMYKLR3YFKF1FLT9   \n",
       "3  3YO4AH2FPDWYRPUPYVZXGUKGQ1GQ05  310F0WGLWJM86SJMYKLR3YFKF1FLT9   \n",
       "4  3YO4AH2FPDWYRPUPYVZXGUKGQ1GQ05  310F0WGLWJM86SJMYKLR3YFKF1FLT9   \n",
       "\n",
       "                    Title                                        Description  \\\n",
       "0  MOSI2 Video Annotation  Watch a short video clip and answer a single s...   \n",
       "1  MOSI2 Video Annotation  Watch a short video clip and answer a single s...   \n",
       "2  MOSI2 Video Annotation  Watch a short video clip and answer a single s...   \n",
       "3  MOSI2 Video Annotation  Watch a short video clip and answer a single s...   \n",
       "4  MOSI2 Video Annotation  Watch a short video clip and answer a single s...   \n",
       "\n",
       "    Keywords Reward                  CreationTime  MaxAssignments  \\\n",
       "0  sentiment  $0.10  Sat Oct 28 15:33:29 PDT 2017               3   \n",
       "1  sentiment  $0.10  Sat Oct 28 15:33:29 PDT 2017               3   \n",
       "2  sentiment  $0.10  Sat Oct 28 15:33:29 PDT 2017               3   \n",
       "3  sentiment  $0.10  Sat Oct 28 15:32:54 PDT 2017               3   \n",
       "4  sentiment  $0.10  Sat Oct 28 15:32:54 PDT 2017               3   \n",
       "\n",
       "                                RequesterAnnotation  \\\n",
       "0  BatchId:2988081;OriginalHitTemplateId:926051491;   \n",
       "1  BatchId:2988081;OriginalHitTemplateId:926051491;   \n",
       "2  BatchId:2988081;OriginalHitTemplateId:926051491;   \n",
       "3  BatchId:2988081;OriginalHitTemplateId:926051491;   \n",
       "4  BatchId:2988081;OriginalHitTemplateId:926051491;   \n",
       "\n",
       "   AssignmentDurationInSeconds  AutoApprovalDelayInSeconds  \\\n",
       "0                          900                      259200   \n",
       "1                          900                      259200   \n",
       "2                          900                      259200   \n",
       "3                          900                      259200   \n",
       "4                          900                      259200   \n",
       "\n",
       "                     Expiration  NumberOfSimilarHITs  LifetimeInSeconds  \\\n",
       "0  Sat Nov 04 15:33:29 PDT 2017                  NaN                NaN   \n",
       "1  Sat Nov 04 15:33:29 PDT 2017                  NaN                NaN   \n",
       "2  Sat Nov 04 15:33:29 PDT 2017                  NaN                NaN   \n",
       "3  Sat Nov 04 15:32:54 PDT 2017                  NaN                NaN   \n",
       "4  Sat Nov 04 15:32:54 PDT 2017                  NaN                NaN   \n",
       "\n",
       "                     AssignmentId        WorkerId AssignmentStatus  \\\n",
       "0  37TRT2X24R3LC9QGRNHFRTZXMEBBJA  A2WNW8A4MOR7T7        Submitted   \n",
       "1  3DL65MZB8ERWBYWURM2J5XSNZRKCE2  A3CAF7LTD3ORSG        Submitted   \n",
       "2  3ZOTGHDK5JNYU6YFIMVFPEQJPVKSOM  A2R0YYUAWNT7UD        Submitted   \n",
       "3  33IZTU6J82DLOFC7JDIB8RHC1Y7SX7  A2R0YYUAWNT7UD        Submitted   \n",
       "4  3ATPCQ38J9M6OOGN79IM65UFHYTAYY  A1AZAC9CPBEP6K        Submitted   \n",
       "\n",
       "                     AcceptTime                    SubmitTime  \\\n",
       "0  Sat Oct 28 19:29:06 PDT 2017  Sat Oct 28 19:29:56 PDT 2017   \n",
       "1  Sat Oct 28 19:48:19 PDT 2017  Sat Oct 28 19:55:52 PDT 2017   \n",
       "2  Sat Oct 28 17:58:07 PDT 2017  Sat Oct 28 17:58:19 PDT 2017   \n",
       "3  Sat Oct 28 16:25:43 PDT 2017  Sat Oct 28 16:25:55 PDT 2017   \n",
       "4  Sat Oct 28 16:20:36 PDT 2017  Sat Oct 28 16:20:58 PDT 2017   \n",
       "\n",
       "               AutoApprovalTime  ApprovalTime  RejectionTime  \\\n",
       "0  Tue Oct 31 19:29:56 PDT 2017           NaN            NaN   \n",
       "1  Tue Oct 31 19:55:52 PDT 2017           NaN            NaN   \n",
       "2  Tue Oct 31 17:58:19 PDT 2017           NaN            NaN   \n",
       "3  Tue Oct 31 16:25:55 PDT 2017           NaN            NaN   \n",
       "4  Tue Oct 31 16:20:58 PDT 2017           NaN            NaN   \n",
       "\n",
       "   RequesterFeedback  WorkTimeInSeconds LifetimeApprovalRate  \\\n",
       "0                NaN                 50       100% (123/123)   \n",
       "1                NaN                453     100% (1553/1553)   \n",
       "2                NaN                 12     100% (3072/3072)   \n",
       "3                NaN                 12     100% (3072/3072)   \n",
       "4                NaN                 22     100% (1215/1215)   \n",
       "\n",
       "  Last30DaysApprovalRate Last7DaysApprovalRate Input.VIDEO_ID  Input.CLIP  \\\n",
       "0         100% (123/123)        100% (123/123)    xSCvspXYU9k           5   \n",
       "1         100% (956/956)        100% (471/471)    xSCvspXYU9k           5   \n",
       "2       100% (2862/2862)      100% (2336/2336)    xSCvspXYU9k           5   \n",
       "3       100% (2862/2862)      100% (2336/2336)    _UNQDdiAbWI           0   \n",
       "4       100% (1214/1214)        100% (726/726)    _UNQDdiAbWI           0   \n",
       "\n",
       "   Answer.anger  Answer.disgust  Answer.fear  Answer.gender  Answer.happiness  \\\n",
       "0           0.0             1.0          0.0            0.0               0.0   \n",
       "1           0.0             0.0          0.0            0.0               0.0   \n",
       "2           0.0             0.0          0.0            0.0               0.0   \n",
       "3           0.0             0.0          0.0            0.0               0.0   \n",
       "4           0.0             0.0          0.0            0.0               1.0   \n",
       "\n",
       "   Answer.sadness Answer.secret_word1 Answer.secret_word2 Answer.secret_word3  \\\n",
       "0             0.0                  {}                  {}                  {}   \n",
       "1             1.0              morsel              healer            district   \n",
       "2             0.0                  {}                  {}                  {}   \n",
       "3             0.0                  {}                  {}                  {}   \n",
       "4             0.0              morsel              healer            district   \n",
       "\n",
       "   Answer.sentiment  Answer.surprise  Answer.video_load  Approve  Reject  \n",
       "0              -2.0              0.0                0.0      NaN     NaN  \n",
       "1              -1.0              1.0                0.0      NaN     NaN  \n",
       "2               0.0              0.0                0.0      NaN     NaN  \n",
       "3               0.0              0.0                0.0      NaN     NaN  \n",
       "4               0.0              0.0                0.0      NaN     NaN  "
      ],
      "text/html": "<div>\n<style scoped>\n    .dataframe tbody tr th:only-of-type {\n        vertical-align: middle;\n    }\n\n    .dataframe tbody tr th {\n        vertical-align: top;\n    }\n\n    .dataframe thead th {\n        text-align: right;\n    }\n</style>\n<table border=\"1\" class=\"dataframe\">\n  <thead>\n    <tr style=\"text-align: right;\">\n      <th></th>\n      <th>HITId</th>\n      <th>HITTypeId</th>\n      <th>Title</th>\n      <th>Description</th>\n      <th>Keywords</th>\n      <th>Reward</th>\n      <th>CreationTime</th>\n      <th>MaxAssignments</th>\n      <th>RequesterAnnotation</th>\n      <th>AssignmentDurationInSeconds</th>\n      <th>AutoApprovalDelayInSeconds</th>\n      <th>Expiration</th>\n      <th>NumberOfSimilarHITs</th>\n      <th>LifetimeInSeconds</th>\n      <th>AssignmentId</th>\n      <th>WorkerId</th>\n      <th>AssignmentStatus</th>\n      <th>AcceptTime</th>\n      <th>SubmitTime</th>\n      <th>AutoApprovalTime</th>\n      <th>ApprovalTime</th>\n      <th>RejectionTime</th>\n      <th>RequesterFeedback</th>\n      <th>WorkTimeInSeconds</th>\n      <th>LifetimeApprovalRate</th>\n      <th>Last30DaysApprovalRate</th>\n      <th>Last7DaysApprovalRate</th>\n      <th>Input.VIDEO_ID</th>\n      <th>Input.CLIP</th>\n      <th>Answer.anger</th>\n      <th>Answer.disgust</th>\n      <th>Answer.fear</th>\n      <th>Answer.gender</th>\n      <th>Answer.happiness</th>\n      <th>Answer.sadness</th>\n      <th>Answer.secret_word1</th>\n      <th>Answer.secret_word2</th>\n      <th>Answer.secret_word3</th>\n      <th>Answer.sentiment</th>\n      <th>Answer.surprise</th>\n      <th>Answer.video_load</th>\n      <th>Approve</th>\n      <th>Reject</th>\n    </tr>\n  </thead>\n  <tbody>\n    <tr>\n      <th>0</th>\n      <td>3XUSYT70ITD42GQKT9TDGVDH7MS0DB</td>\n      <td>310F0WGLWJM86SJMYKLR3YFKF1FLT9</td>\n      <td>MOSI2 Video Annotation</td>\n      <td>Watch a short video clip and answer a single s...</td>\n      <td>sentiment</td>\n      <td>$0.10</td>\n      <td>Sat Oct 28 15:33:29 PDT 2017</td>\n      <td>3</td>\n      <td>BatchId:2988081;OriginalHitTemplateId:926051491;</td>\n      <td>900</td>\n      <td>259200</td>\n      <td>Sat Nov 04 15:33:29 PDT 2017</td>\n      <td>NaN</td>\n      <td>NaN</td>\n      <td>37TRT2X24R3LC9QGRNHFRTZXMEBBJA</td>\n      <td>A2WNW8A4MOR7T7</td>\n      <td>Submitted</td>\n      <td>Sat Oct 28 19:29:06 PDT 2017</td>\n      <td>Sat Oct 28 19:29:56 PDT 2017</td>\n      <td>Tue Oct 31 19:29:56 PDT 2017</td>\n      <td>NaN</td>\n      <td>NaN</td>\n      <td>NaN</td>\n      <td>50</td>\n      <td>100% (123/123)</td>\n      <td>100% (123/123)</td>\n      <td>100% (123/123)</td>\n      <td>xSCvspXYU9k</td>\n      <td>5</td>\n      <td>0.0</td>\n      <td>1.0</td>\n      <td>0.0</td>\n      <td>0.0</td>\n      <td>0.0</td>\n      <td>0.0</td>\n      <td>{}</td>\n      <td>{}</td>\n      <td>{}</td>\n      <td>-2.0</td>\n      <td>0.0</td>\n      <td>0.0</td>\n      <td>NaN</td>\n      <td>NaN</td>\n    </tr>\n    <tr>\n      <th>1</th>\n      <td>3XUSYT70ITD42GQKT9TDGVDH7MS0DB</td>\n      <td>310F0WGLWJM86SJMYKLR3YFKF1FLT9</td>\n      <td>MOSI2 Video Annotation</td>\n      <td>Watch a short video clip and answer a single s...</td>\n      <td>sentiment</td>\n      <td>$0.10</td>\n      <td>Sat Oct 28 15:33:29 PDT 2017</td>\n      <td>3</td>\n      <td>BatchId:2988081;OriginalHitTemplateId:926051491;</td>\n      <td>900</td>\n      <td>259200</td>\n      <td>Sat Nov 04 15:33:29 PDT 2017</td>\n      <td>NaN</td>\n      <td>NaN</td>\n      <td>3DL65MZB8ERWBYWURM2J5XSNZRKCE2</td>\n      <td>A3CAF7LTD3ORSG</td>\n      <td>Submitted</td>\n      <td>Sat Oct 28 19:48:19 PDT 2017</td>\n      <td>Sat Oct 28 19:55:52 PDT 2017</td>\n      <td>Tue Oct 31 19:55:52 PDT 2017</td>\n      <td>NaN</td>\n      <td>NaN</td>\n      <td>NaN</td>\n      <td>453</td>\n      <td>100% (1553/1553)</td>\n      <td>100% (956/956)</td>\n      <td>100% (471/471)</td>\n      <td>xSCvspXYU9k</td>\n      <td>5</td>\n      <td>0.0</td>\n      <td>0.0</td>\n      <td>0.0</td>\n      <td>0.0</td>\n      <td>0.0</td>\n      <td>1.0</td>\n      <td>morsel</td>\n      <td>healer</td>\n      <td>district</td>\n      <td>-1.0</td>\n      <td>1.0</td>\n      <td>0.0</td>\n      <td>NaN</td>\n      <td>NaN</td>\n    </tr>\n    <tr>\n      <th>2</th>\n      <td>3XUSYT70ITD42GQKT9TDGVDH7MS0DB</td>\n      <td>310F0WGLWJM86SJMYKLR3YFKF1FLT9</td>\n      <td>MOSI2 Video Annotation</td>\n      <td>Watch a short video clip and answer a single s...</td>\n      <td>sentiment</td>\n      <td>$0.10</td>\n      <td>Sat Oct 28 15:33:29 PDT 2017</td>\n      <td>3</td>\n      <td>BatchId:2988081;OriginalHitTemplateId:926051491;</td>\n      <td>900</td>\n      <td>259200</td>\n      <td>Sat Nov 04 15:33:29 PDT 2017</td>\n      <td>NaN</td>\n      <td>NaN</td>\n      <td>3ZOTGHDK5JNYU6YFIMVFPEQJPVKSOM</td>\n      <td>A2R0YYUAWNT7UD</td>\n      <td>Submitted</td>\n      <td>Sat Oct 28 17:58:07 PDT 2017</td>\n      <td>Sat Oct 28 17:58:19 PDT 2017</td>\n      <td>Tue Oct 31 17:58:19 PDT 2017</td>\n      <td>NaN</td>\n      <td>NaN</td>\n      <td>NaN</td>\n      <td>12</td>\n      <td>100% (3072/3072)</td>\n      <td>100% (2862/2862)</td>\n      <td>100% (2336/2336)</td>\n      <td>xSCvspXYU9k</td>\n      <td>5</td>\n      <td>0.0</td>\n      <td>0.0</td>\n      <td>0.0</td>\n      <td>0.0</td>\n      <td>0.0</td>\n      <td>0.0</td>\n      <td>{}</td>\n      <td>{}</td>\n      <td>{}</td>\n      <td>0.0</td>\n      <td>0.0</td>\n      <td>0.0</td>\n      <td>NaN</td>\n      <td>NaN</td>\n    </tr>\n    <tr>\n      <th>3</th>\n      <td>3YO4AH2FPDWYRPUPYVZXGUKGQ1GQ05</td>\n      <td>310F0WGLWJM86SJMYKLR3YFKF1FLT9</td>\n      <td>MOSI2 Video Annotation</td>\n      <td>Watch a short video clip and answer a single s...</td>\n      <td>sentiment</td>\n      <td>$0.10</td>\n      <td>Sat Oct 28 15:32:54 PDT 2017</td>\n      <td>3</td>\n      <td>BatchId:2988081;OriginalHitTemplateId:926051491;</td>\n      <td>900</td>\n      <td>259200</td>\n      <td>Sat Nov 04 15:32:54 PDT 2017</td>\n      <td>NaN</td>\n      <td>NaN</td>\n      <td>33IZTU6J82DLOFC7JDIB8RHC1Y7SX7</td>\n      <td>A2R0YYUAWNT7UD</td>\n      <td>Submitted</td>\n      <td>Sat Oct 28 16:25:43 PDT 2017</td>\n      <td>Sat Oct 28 16:25:55 PDT 2017</td>\n      <td>Tue Oct 31 16:25:55 PDT 2017</td>\n      <td>NaN</td>\n      <td>NaN</td>\n      <td>NaN</td>\n      <td>12</td>\n      <td>100% (3072/3072)</td>\n      <td>100% (2862/2862)</td>\n      <td>100% (2336/2336)</td>\n      <td>_UNQDdiAbWI</td>\n      <td>0</td>\n      <td>0.0</td>\n      <td>0.0</td>\n      <td>0.0</td>\n      <td>0.0</td>\n      <td>0.0</td>\n      <td>0.0</td>\n      <td>{}</td>\n      <td>{}</td>\n      <td>{}</td>\n      <td>0.0</td>\n      <td>0.0</td>\n      <td>0.0</td>\n      <td>NaN</td>\n      <td>NaN</td>\n    </tr>\n    <tr>\n      <th>4</th>\n      <td>3YO4AH2FPDWYRPUPYVZXGUKGQ1GQ05</td>\n      <td>310F0WGLWJM86SJMYKLR3YFKF1FLT9</td>\n      <td>MOSI2 Video Annotation</td>\n      <td>Watch a short video clip and answer a single s...</td>\n      <td>sentiment</td>\n      <td>$0.10</td>\n      <td>Sat Oct 28 15:32:54 PDT 2017</td>\n      <td>3</td>\n      <td>BatchId:2988081;OriginalHitTemplateId:926051491;</td>\n      <td>900</td>\n      <td>259200</td>\n      <td>Sat Nov 04 15:32:54 PDT 2017</td>\n      <td>NaN</td>\n      <td>NaN</td>\n      <td>3ATPCQ38J9M6OOGN79IM65UFHYTAYY</td>\n      <td>A1AZAC9CPBEP6K</td>\n      <td>Submitted</td>\n      <td>Sat Oct 28 16:20:36 PDT 2017</td>\n      <td>Sat Oct 28 16:20:58 PDT 2017</td>\n      <td>Tue Oct 31 16:20:58 PDT 2017</td>\n      <td>NaN</td>\n      <td>NaN</td>\n      <td>NaN</td>\n      <td>22</td>\n      <td>100% (1215/1215)</td>\n      <td>100% (1214/1214)</td>\n      <td>100% (726/726)</td>\n      <td>_UNQDdiAbWI</td>\n      <td>0</td>\n      <td>0.0</td>\n      <td>0.0</td>\n      <td>0.0</td>\n      <td>0.0</td>\n      <td>1.0</td>\n      <td>0.0</td>\n      <td>morsel</td>\n      <td>healer</td>\n      <td>district</td>\n      <td>0.0</td>\n      <td>0.0</td>\n      <td>0.0</td>\n      <td>NaN</td>\n      <td>NaN</td>\n    </tr>\n  </tbody>\n</table>\n</div>"
     },
     "metadata": {},
     "execution_count": 5
    }
   ],
   "source": [
    "_5000_batch_raw_ = ShowData(_5000_batch_raw)\n",
    "_5000_batch_raw_()"
   ]
  },
  {
   "cell_type": "code",
   "execution_count": null,
   "metadata": {},
   "outputs": [],
   "source": [
    "_batch_298_result = ShowData(batch_298_result)\n",
    "_batch_298_result()"
   ]
  },
  {
   "cell_type": "code",
   "execution_count": null,
   "metadata": {},
   "outputs": [],
   "source": [
    "_extreme_sentiment = ShowData(extreme_sentiment)\n",
    "_extreme_sentiment()"
   ]
  },
  {
   "cell_type": "code",
   "execution_count": null,
   "metadata": {},
   "outputs": [],
   "source": [
    "_mosi_pom_output = ShowData(mosi_pom_output)\n",
    "_mosi_pom_output()"
   ]
  },
  {
   "cell_type": "code",
   "execution_count": null,
   "metadata": {},
   "outputs": [],
   "source": [
    "_mturk_extra_v2= ShowData(mturk_extra_v2)\n",
    "_mturk_extra_v2()"
   ]
  },
  {
   "cell_type": "code",
   "execution_count": null,
   "metadata": {},
   "outputs": [],
   "source": [
    "from scipy.io import loadmat\n",
    "x = loadmat('../CMU_MOSEI/Raw/Audio/Full/COVAREP/_0efYOjQYRc.mat')\n",
    "print(x['names'])"
   ]
  },
  {
   "cell_type": "code",
   "execution_count": null,
   "metadata": {},
   "outputs": [],
   "source": []
  }
 ]
}