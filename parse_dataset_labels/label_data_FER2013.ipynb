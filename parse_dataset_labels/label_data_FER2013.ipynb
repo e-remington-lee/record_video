{
 "cells": [
  {
   "cell_type": "code",
   "execution_count": null,
   "metadata": {},
   "outputs": [],
   "source": [
    "import os\n",
    "from pathlib import Path\n",
    "import numpy as np\n",
    "from PIL import Image\n",
    "import csv\n",
    "import random\n",
    "import tensorflow as tf\n",
    "import matplotlib.pyplot as plt\n",
    "import matplotlib.image as mpimg\n"
   ]
  },
  {
   "cell_type": "markdown",
   "metadata": {},
   "source": [
    "(0=Angry, 1=Disgust, 2=Fear, 3=Happy, 4=Sad, 5=Surprise, 6=Neutral)."
   ]
  },
  {
   "cell_type": "code",
   "execution_count": null,
   "metadata": {},
   "outputs": [],
   "source": [
    "# DELETES ALL FILES IN DIRECTORY LABELED\n",
    "# for root, dirs, files in os.walk(\"emotions_copy_test_dir\"):\n",
    "#     for x in files:\n",
    "#         os.remove(os.path.join(root, x))"
   ]
  },
  {
   "cell_type": "code",
   "execution_count": null,
   "metadata": {
    "tags": []
   },
   "outputs": [],
   "source": [
    "labels = []\n",
    "images = []\n",
    "with open(\"fer2013.csv\") as rf:\n",
    "    next(rf)\n",
    "    rows = csv.reader(rf, delimiter=\",\")\n",
    "    count=0\n",
    "    for row in rows:\n",
    "        labels.append(row[0])\n",
    "        pixels = row[1]\n",
    "        pixels = pixels.split(\" \")\n",
    "        images.append(np.array_split(pixels, 48))"
   ]
  },
  {
   "cell_type": "code",
   "execution_count": null,
   "metadata": {
    "tags": []
   },
   "outputs": [],
   "source": [
    "# zips the images and labels together\n",
    "zipped_data = list(zip(labels, images))\n",
    "random.shuffle(zipped_data)"
   ]
  },
  {
   "cell_type": "code",
   "execution_count": null,
   "metadata": {},
   "outputs": [],
   "source": [
    "# count = 0\n",
    "# fig = plt.gcf()\n",
    "# fig.set_size_inches(24,48)\n",
    "# for label, image in zipped_data:\n",
    "#     sb = plt.subplot(20,4,count+1)\n",
    "#     sb.set_title(str(label))\n",
    "#     sb.axis(\"off\")\n",
    "#     xyz = np.array(image).astype(float)\n",
    "#     count +=1\n",
    "#     if count > 50:\n",
    "#         break\n",
    "#     plt.imshow(xyz)\n",
    "# plt.show()"
   ]
  },
  {
   "cell_type": "code",
   "execution_count": null,
   "metadata": {},
   "outputs": [],
   "source": [
    "train=\"emotions_5/train/\"\n",
    "test=\"emotions_5/test/\"\n",
    "validation=\"emotions_5/validation/\"\n",
    "\n",
    "# train=\"emotions/train/\"\n",
    "# test=\"emotions/test/\"\n",
    "# validation=\"emotions/validation/\""
   ]
  },
  {
   "cell_type": "code",
   "execution_count": null,
   "metadata": {
    "tags": []
   },
   "outputs": [],
   "source": [
    "length = len(images)\n",
    "split = 0.7\n",
    "train_length = int(length*split)\n",
    "# v_t_length\n",
    "\n",
    "train_pics = images[0:train_length]\n",
    "train_labels = labels[0:train_length]\n",
    "train_zip = zip(train_labels, train_pics)\n",
    "\n",
    "test_and_val_pics = images[train_length:]\n",
    "test_and_val_labels = labels[train_length:]\n",
    "\n",
    "validation_pics = test_and_val_pics[:int(len(test_and_val_pics)//2)]\n",
    "validation_labels = test_and_val_labels[:int(len(test_and_val_labels)//2)]\n",
    "validation_zip = zip(validation_labels, validation_pics)\n",
    "\n",
    "test_pics = test_and_val_pics[int(len(test_and_val_pics)//2):]\n",
    "test_labels = test_and_val_labels[int(len(test_and_val_labels)//2):]\n",
    "test_zip = zip(test_labels, test_pics)\n",
    "\n",
    "print(len(train_pics))\n",
    "print(len(test_and_val_pics))\n",
    "print(len(test_pics))"
   ]
  },
  {
   "cell_type": "code",
   "execution_count": null,
   "metadata": {},
   "outputs": [],
   "source": [
    "## Check to make sure the zip function kept labels/images together\n",
    "# count = 0\n",
    "# fig = plt.gcf()\n",
    "# fig.set_size_inches(24,48)\n",
    "# for label, image in validation_zip:\n",
    "\n",
    "#     sb = plt.subplot(20,4,count+1)\n",
    "#     sb.set_title(str(label))\n",
    "#     sb.axis(\"off\")\n",
    "#     xyz = np.array(image).astype(float)\n",
    "#     count +=1\n",
    "#     if count > 50:\n",
    "#         break\n",
    "#     plt.imshow(xyz)\n",
    "# plt.show()"
   ]
  },
  {
   "cell_type": "code",
   "execution_count": null,
   "metadata": {},
   "outputs": [],
   "source": [
    "def save_images(directory, data_set, zip_file):\n",
    "    count = 0\n",
    "    for label, image in zip_file:\n",
    "        img_array = np.array(image).astype(float)\n",
    "\n",
    "        img_array = np.expand_dims(img_array, 2)\n",
    "        x = tf.image.resize(img_array,(96,96))\n",
    "        zeros = np.ones((1,1,3))\n",
    "        img_array = img_array*zeros\n",
    "\n",
    "        saved_img = np.array(img_array, dtype=np.uint8)\n",
    "        img = Image.fromarray(saved_img)\n",
    "        \n",
    "        img_name = f\"{data_set}_fer2013_img_{count}.png\"\n",
    "        ## 0=anger\n",
    "        if label == \"0\":\n",
    "            emotion = os.path.join(directory, \"anger_disgust\")\n",
    "            destination = os.path.join(emotion, img_name)\n",
    "            img.save(destination)\n",
    "        ## 1=disgust\n",
    "        elif label == \"1\":\n",
    "            emotion = os.path.join(directory, \"anger_disgust\")\n",
    "            destination = os.path.join(emotion, img_name)\n",
    "            img.save(destination)\n",
    "        elif label == \"2\":\n",
    "            emotion = os.path.join(directory, \"surprise_fear\")\n",
    "            destination = os.path.join(emotion, img_name)\n",
    "            img.save(destination)\n",
    "        elif label == \"3\":\n",
    "            emotion = os.path.join(directory, \"joy\")\n",
    "            destination = os.path.join(emotion, img_name)\n",
    "            img.save(destination)\n",
    "        elif label == \"4\":\n",
    "            emotion = os.path.join(directory, \"sadness\")\n",
    "            destination = os.path.join(emotion, img_name)\n",
    "            img.save(destination)\n",
    "        elif label == \"5\":\n",
    "            emotion = os.path.join(directory, \"surprise_fear\")\n",
    "            destination = os.path.join(emotion, img_name)\n",
    "            img.save(destination)\n",
    "        elif label == \"6\":\n",
    "            emotion = os.path.join(directory, \"neutral\")\n",
    "            destination = os.path.join(emotion, img_name)\n",
    "            img.save(destination)\n",
    "        count+=1"
   ]
  },
  {
   "cell_type": "code",
   "execution_count": 11,
   "metadata": {
    "tags": []
   },
   "outputs": [],
   "source": [
    "save_images(train, \"train\", train_zip)\n",
    "save_images(validation, \"validation\", validation_zip)\n",
    "save_images(test, \"test\", test_zip)"
   ]
  },
  {
   "cell_type": "code",
   "execution_count": null,
   "metadata": {},
   "outputs": [],
   "source": [
    "# xyz = np.array(images).astype(float)\n",
    "# print(xyz)\n",
    "# x = xyz[2]\n",
    "# plt.imshow(x)\n",
    "\n",
    "# x = np.expand_dims(x, 2)\n",
    "# x = tf.image.resize(x,(256,256))\n",
    "# zeros = np.ones((1,1,3))\n",
    "# x = x*zeros\n",
    "# print(x.shape)\n",
    "# print(x)\n",
    "\n",
    "# fdg = np.array(x, dtype=np.uint8)\n",
    "# img = Image.fromarray(fdg)\n",
    "# img.save(\"random2.png\")"
   ]
  },
  {
   "cell_type": "code",
   "execution_count": null,
   "metadata": {},
   "outputs": [],
   "source": [
    "# from PIL import Image\n",
    "# import numpy as np\n",
    "\n",
    "# def random_img(output, width, height):\n",
    "\n",
    "#     array = np.random.random_integers(0,255, (height,width,3))\n",
    "#     print(array) \n",
    "#     print(array.shape)\n",
    "#     print(type(array))\n",
    "#     array = np.array(array, dtype=np.uint8)\n",
    "#     img = Image.fromarray(array)\n",
    "#     img.save(output)\n",
    "\n",
    "\n",
    "# random_img('random.png', 256, 256)"
   ]
  }
 ],
 "metadata": {
  "language_info": {
   "codemirror_mode": {
    "name": "ipython",
    "version": 3
   },
   "file_extension": ".py",
   "mimetype": "text/x-python",
   "name": "python",
   "nbconvert_exporter": "python",
   "pygments_lexer": "ipython3",
   "version": "3.8.1-final"
  },
  "orig_nbformat": 2,
  "kernelspec": {
   "name": "tfe",
   "display_name": "tfe"
  }
 },
 "nbformat": 4,
 "nbformat_minor": 2
}