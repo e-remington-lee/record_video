{
 "metadata": {
  "language_info": {
   "codemirror_mode": {
    "name": "ipython",
    "version": 3
   },
   "file_extension": ".py",
   "mimetype": "text/x-python",
   "name": "python",
   "nbconvert_exporter": "python",
   "pygments_lexer": "ipython3",
   "version": "3.7.5-final"
  },
  "orig_nbformat": 2,
  "kernelspec": {
   "name": "python_defaultSpec_1599094829516",
   "display_name": "Python 3.7.5 64-bit ('venv2': virtualenv)"
  }
 },
 "nbformat": 4,
 "nbformat_minor": 2,
 "cells": [
  {
   "cell_type": "code",
   "execution_count": 13,
   "metadata": {},
   "outputs": [],
   "source": [
    "import os\n",
    "import random\n",
    "from shutil import copyfile"
   ]
  },
  {
   "cell_type": "code",
   "execution_count": 14,
   "metadata": {},
   "outputs": [],
   "source": [
    "# Train directory is split into train/validation\n",
    "# Validation directory is only test\n",
    "\n",
    "train_path = \"../databases/affectNet_Images/train\"\n",
    "global_emotion_path = \"../labeled_data/emotions_5\""
   ]
  },
  {
   "cell_type": "code",
   "execution_count": 15,
   "metadata": {},
   "outputs": [],
   "source": [
    "# pic = path to picture\n",
    "# original_dir = the directory this image is stored in\n",
    "# emotion_ = which emotion it is to match the directory\n",
    "# global_emotion_dir = the directory we wish to save the image in\n",
    "# ttv = train, test, or validation folder\n",
    "def copy_files(pic, file_name, orignal_dir, emotion_, global_emotion_dir, ttv):\n",
    "    file_ = os.path.join(orignal_dir, pic)\n",
    "    ttv_dir = os.path.join(global_emotion_dir, ttv)\n",
    "    emotion_dir = os.path.join(ttv_dir, emotion_)\n",
    "    dest_ = os.path.join(emotion_dir, file_name)\n",
    "    if os.path.getsize(file_) != 0:\n",
    "        copyfile(file_, dest_)"
   ]
  },
  {
   "cell_type": "code",
   "execution_count": 16,
   "metadata": {},
   "outputs": [],
   "source": [
    "def process_copy_data(emotion_label_path, emotion, global_emotion_dir, test=False):\n",
    "    for dirpath, dirnames, filenames in os.walk(emotion_label_path):\n",
    "        for file_ in filenames:\n",
    "            if not test:\n",
    "                randint = random.random()\n",
    "                if randint < 0.85:\n",
    "                    train_test_validate = \"train\"\n",
    "                else:\n",
    "                    train_test_validate = \"validation\"\n",
    "            else:\n",
    "                train_test_validate = \"test\"\n",
    "            pic_path = os.path.join(emotion_label_path, file_)\n",
    "            copy_files(file_, file_, emotion_label_path, emotion, global_emotion_dir, train_test_validate)"
   ]
  },
  {
   "cell_type": "code",
   "execution_count": 17,
   "metadata": {
    "tags": []
   },
   "outputs": [],
   "source": [
    "# 0: Neutral\n",
    "# 1: Happy\n",
    "# 2: Sad\n",
    "# 3: Surprise\n",
    "# 4: Fear\n",
    "# 5: Disgust\n",
    "# 6: Anger\n",
    "emotion_directories = os.listdir(train_path)\n",
    "\n",
    "for folder in emotion_directories:\n",
    "    emotion_label_path = os.path.join(train_path, folder)\n",
    "    if folder == \"0\":\n",
    "        process_copy_data(emotion_label_path, \"neutral\", global_emotion_path,)\n",
    "    elif folder == \"1\":\n",
    "        process_copy_data(emotion_label_path, \"joy\", global_emotion_path)\n",
    "    elif folder == \"2\":\n",
    "        process_copy_data(emotion_label_path, \"sadness\", global_emotion_path)\n",
    "    elif folder == \"3\":\n",
    "        process_copy_data(emotion_label_path, \"surprise_fear\", global_emotion_path)\n",
    "    elif folder == \"4\":\n",
    "        process_copy_data(emotion_label_path, \"surprise_fear\", global_emotion_path)\n",
    "    elif folder == \"5\":\n",
    "        process_copy_data(emotion_label_path, \"anger_disgust\", global_emotion_path)\n",
    "    elif folder == \"6\":\n",
    "        process_copy_data(emotion_label_path, \"anger_disgust\", global_emotion_path)\n",
    "    else:\n",
    "        continue"
   ]
  },
  {
   "cell_type": "code",
   "execution_count": 18,
   "metadata": {},
   "outputs": [],
   "source": [
    "test_path = \"../databases/affectNet_Images/val\"\n",
    "# 0: Neutral\n",
    "# 1: Happy\n",
    "# 2: Sad\n",
    "# 3: Surprise\n",
    "# 4: Fear\n",
    "# 5: Disgust\n",
    "# 6: Anger\n",
    "emotion_directories = os.listdir(test_path)\n",
    "\n",
    "for folder in emotion_directories:\n",
    "    emotion_label_path = os.path.join(test_path, folder)\n",
    "    if folder == \"0\":\n",
    "        process_copy_data(emotion_label_path, \"neutral\", global_emotion_path, test=True)\n",
    "    elif folder == \"1\":\n",
    "        process_copy_data(emotion_label_path, \"joy\", global_emotion_path, test=True)\n",
    "    elif folder == \"2\":\n",
    "        process_copy_data(emotion_label_path, \"sadness\", global_emotion_path, test=True)\n",
    "    elif folder == \"3\":\n",
    "        process_copy_data(emotion_label_path, \"surprise_fear\", global_emotion_path, test=True)\n",
    "    elif folder == \"4\":\n",
    "        process_copy_data(emotion_label_path, \"surprise_fear\", global_emotion_path, test=True)\n",
    "    elif folder == \"5\":\n",
    "        process_copy_data(emotion_label_path, \"anger_disgust\", global_emotion_path, test=True)\n",
    "    elif folder == \"6\":\n",
    "        process_copy_data(emotion_label_path, \"anger_disgust\", global_emotion_path, test=True)\n",
    "    else:\n",
    "        continue"
   ]
  },
  {
   "cell_type": "code",
   "execution_count": 19,
   "metadata": {},
   "outputs": [],
   "source": [
    "for root, dirs, files in os.walk(\"../labeled_data/emotions_5_test\"):\n",
    "    for x in files:\n",
    "        os.remove(os.path.join(root, x))"
   ]
  },
  {
   "cell_type": "code",
   "execution_count": null,
   "metadata": {},
   "outputs": [],
   "source": []
  }
 ]
}