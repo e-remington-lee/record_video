{
 "metadata": {
  "language_info": {
   "codemirror_mode": {
    "name": "ipython",
    "version": 3
   },
   "file_extension": ".py",
   "mimetype": "text/x-python",
   "name": "python",
   "nbconvert_exporter": "python",
   "pygments_lexer": "ipython3",
   "version": "3.7.7-final"
  },
  "orig_nbformat": 2,
  "kernelspec": {
   "name": "Python 3.7.7 64-bit ('venv')",
   "display_name": "Python 3.7.7 64-bit ('venv')",
   "metadata": {
    "interpreter": {
     "hash": "0ccd6c582c9a76e057095d94821e135e22982a469d4000f0b42c2f79ec6ee6ee"
    }
   }
  }
 },
 "nbformat": 4,
 "nbformat_minor": 2,
 "cells": [
  {
   "cell_type": "code",
   "execution_count": null,
   "metadata": {},
   "outputs": [],
   "source": [
    "# import validators\n",
    "import numpy\n",
    "import tensorflow as tf\n",
    "from mmsdk import mmdatasdk"
   ]
  },
  {
   "cell_type": "code",
   "execution_count": null,
   "metadata": {},
   "outputs": [],
   "source": [
    "def myavg(intervals,features):\n",
    "        return numpy.average(features,axis=0)"
   ]
  },
  {
   "cell_type": "code",
   "execution_count": null,
   "metadata": {
    "tags": [
     "outputPrepend"
    ]
   },
   "outputs": [],
   "source": [
    "cmumosi_highlevel=mmdatasdk.mmdataset(mmdatasdk.cmu_mosi.highlevel,'cmumosi/')\n",
    "print(\"done######\")\n",
    "print(type(cmumosi_highlevel))\n",
    "\n"
   ]
  },
  {
   "cell_type": "code",
   "execution_count": null,
   "metadata": {},
   "outputs": [],
   "source": [
    "cmumosi_highlevel.align('glove_vectors',collapse_functions=[myavg])\n",
    "print(\"done######\")\n",
    "cmumosi_highlevel.add_computational_sequences(mmdatasdk.cmu_mosi.labels,'cmumosi/')\n",
    "print(\"done######\")\n",
    "cmumosi_highlevel.align('Opinion Segment Labels')\n",
    "print(\"done######\")"
   ]
  }
 ]
}