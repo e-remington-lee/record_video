{
 "cells": [
  {
   "cell_type": "code",
   "execution_count": 2,
   "metadata": {},
   "outputs": [],
   "source": [
    "import os\n",
    "import random\n",
    "import shutil\n",
    "from shutil import copyfile\n",
    "import csv"
   ]
  },
  {
   "cell_type": "code",
   "execution_count": 18,
   "metadata": {},
   "outputs": [],
   "source": [
    "root_dir = \"ISAFE MAIN DATABASE FOR PUBLIC/\"\n",
    "data = \"Database/\"\n",
    "# global_emotion_dir = \"emotions_copy_test_dir/\"\n",
    "global_emotion_dir = \"emotions/\""
   ]
  },
  {
   "cell_type": "code",
   "execution_count": 19,
   "metadata": {
    "tags": []
   },
   "outputs": [],
   "source": [
    "subject_list = os.path.join(root_dir, data)\n",
    "x = os.listdir(subject_list)\n",
    "csv_file = \"ISAFE MAIN DATABASE FOR PUBLIC\\Annotations\\self-annotation.csv\"\n"
   ]
  },
  {
   "cell_type": "code",
   "execution_count": 20,
   "metadata": {},
   "outputs": [],
   "source": [
    "labels_dictionary = {}\n",
    "with open(csv_file) as rf:\n",
    "    rows = csv.reader(rf, delimiter=\",\")\n",
    "    for row in rows:\n",
    "        labels_dictionary[row[0]]=row[1]"
   ]
  },
  {
   "cell_type": "code",
   "execution_count": 21,
   "metadata": {},
   "outputs": [],
   "source": [
    "def parse_labels(directory, cut_images):\n",
    "    li = os.listdir(directory)\n",
    "    string_directory = str(directory)\n",
    "    label_key = string_directory[-6:]\n",
    "    if not \"S\" in label_key:\n",
    "        label_key = \"S\"+label_key\n",
    "    for item in li:   \n",
    "        path = os.path.join(directory,item)\n",
    "        if os.path.isdir(path):\n",
    "            parse_labels(path, cut_images)\n",
    "        elif item.endswith(\".jpg\"):\n",
    "            if cut_images:\n",
    "                if (item.endswith(\"_0.jpg\") or item.endswith(\"_1.jpg\") or\n",
    "                    item.endswith(\"_2.jpg\") or\n",
    "                    item.endswith(\"_3.jpg\") or\n",
    "                    item.endswith(\"_4.jpg\") or\n",
    "                    item.endswith(\"_5.jpg\") or\n",
    "                    item.endswith(\"_6.jpg\") or\n",
    "                    item.endswith(\"_7.jpg\") or\n",
    "                    item.endswith(\"_8.jpg\") or\n",
    "                    item.endswith(\"_9.jpg\") or\n",
    "                    item.endswith(\"_10.jpg\") or\n",
    "                    item.endswith(\"_11.jpg\") or\n",
    "                    item.endswith(\"_12.jpg\") or\n",
    "                    item.endswith(\"_13.jpg\") or\n",
    "                    item.endswith(\"_14.jpg\")):\n",
    "                    continue\n",
    "            randint = random.random()\n",
    "            \n",
    "            whydoineedtodothisshit = label_key.replace(\"\\\\\", \"/\")\n",
    "            emotion = labels_dictionary[whydoineedtodothisshit]\n",
    "            identifier = label_key.replace(\"\\\\\", \"_\")\n",
    "            pic_id = identifier+item\n",
    "\n",
    "            # randomizes the images in real time\n",
    "            if randint < 0.8:\n",
    "                train_test_validate = \"train\"\n",
    "            elif randint >= 0.8 and randint < 0.9:\n",
    "                train_test_validate = \"validation\"\n",
    "            else:       \n",
    "                train_test_validate = \"test\"   \n",
    "\n",
    "            if emotion == \"1\":\n",
    "                emotion_ = \"joy\"\n",
    "                copy_files(item, pic_id, directory, emotion_, global_emotion_dir, train_test_validate)\n",
    "            elif emotion == \"2\":\n",
    "                emotion_ = \"sadness\"\n",
    "                copy_files(item, pic_id, directory, emotion_, global_emotion_dir, train_test_validate)\n",
    "            elif emotion == \"3\":\n",
    "                emotion_ = \"surprise\"\n",
    "                copy_files(item, pic_id, directory, emotion_, global_emotion_dir, train_test_validate)\n",
    "            elif emotion == \"4\":\n",
    "                emotion_ = \"disgust\"\n",
    "                copy_files(item, pic_id, directory, emotion_, global_emotion_dir, train_test_validate)\n",
    "            elif emotion == \"5\":\n",
    "                emotion_ = \"fear\"\n",
    "                copy_files(item, pic_id, directory, emotion_, global_emotion_dir, train_test_validate)\n",
    "            elif emotion == \"6\":\n",
    "                emotion_ = \"anger\"\n",
    "                copy_files(item, pic_id, directory, emotion_, global_emotion_dir, train_test_validate)\n",
    "            # elif emotion == \"7\":\n",
    "                # unceratin, I do not have a classification for this\n",
    "                # emotion_ = \"joy\"\n",
    "                # copy_files(item, pic_id, directory, emotion_, global_emotion_dir, train_test_validate)\n",
    "            elif emotion == \"8\":\n",
    "                emotion_ = \"neutral\"\n",
    "                copy_files(item, pic_id, directory, emotion_, global_emotion_dir, train_test_validate)\n",
    "            else:\n",
    "                continue\n",
    " "
   ]
  },
  {
   "cell_type": "code",
   "execution_count": 22,
   "metadata": {
    "tags": []
   },
   "outputs": [],
   "source": [
    "def copy_files(pic, pic_id, orignal_dir, emotion_, global_emotion_dir, ttv):\n",
    "    file_ = os.path.join(orignal_dir, pic)\n",
    "    ttv_dir = os.path.join(global_emotion_dir, ttv)\n",
    "    emotion_dir = os.path.join(ttv_dir, emotion_)\n",
    "    dest_ = os.path.join(emotion_dir, pic_id)\n",
    "    if os.path.getsize(file_) != 0:\n",
    "        copyfile(file_, dest_)\n",
    "    "
   ]
  },
  {
   "cell_type": "code",
   "execution_count": 23,
   "metadata": {
    "tags": []
   },
   "outputs": [],
   "source": [
    "for root, dirs, files in os.walk(\"emotions_copy_test_dir\"):\n",
    "    for x in files:\n",
    "        os.remove(os.path.join(root, x))"
   ]
  },
  {
   "cell_type": "code",
   "execution_count": 24,
   "metadata": {
    "tags": []
   },
   "outputs": [],
   "source": [
    "parse_labels(subject_list, True)"
   ]
  },
  {
   "cell_type": "code",
   "execution_count": null,
   "metadata": {},
   "outputs": [],
   "source": []
  },
  {
   "cell_type": "code",
   "execution_count": null,
   "metadata": {},
   "outputs": [],
   "source": []
  }
 ],
 "metadata": {
  "language_info": {
   "codemirror_mode": {
    "name": "ipython",
    "version": 3
   },
   "file_extension": ".py",
   "mimetype": "text/x-python",
   "name": "python",
   "nbconvert_exporter": "python",
   "pygments_lexer": "ipython3",
   "version": "3.8.1-final"
  },
  "orig_nbformat": 2,
  "kernelspec": {
   "name": "tfe",
   "display_name": "tfe"
  }
 },
 "nbformat": 4,
 "nbformat_minor": 2
}