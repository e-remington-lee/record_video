{
 "cells": [
  {
   "cell_type": "code",
   "execution_count": null,
   "metadata": {},
   "outputs": [],
   "source": [
    "import os\n",
    "import random\n",
    "import shutil\n",
    "from shutil import copyfile\n",
    "import csv"
   ]
  },
  {
   "cell_type": "code",
   "execution_count": null,
   "metadata": {},
   "outputs": [],
   "source": [
    "root_dir = \"ISAFE MAIN DATABASE FOR PUBLIC/\"\n",
    "data = \"Database/\"\n",
    "global_emotion_dir = \"emotions_copy_test_dir/\""
   ]
  },
  {
   "cell_type": "code",
   "execution_count": null,
   "metadata": {
    "tags": []
   },
   "outputs": [],
   "source": [
    "subject_list = os.path.join(root_dir, data)\n",
    "x = os.listdir(subject_list)\n",
    "csv_file = \"ISAFE MAIN DATABASE FOR PUBLIC\\Annotations\\self-annotation.csv\"\n",
    "print(x)"
   ]
  },
  {
   "cell_type": "code",
   "execution_count": null,
   "metadata": {},
   "outputs": [],
   "source": [
    "labels_dictionary = {}\n",
    "with open(csv_file) as rf:\n",
    "    rows = csv.reader(rf, delimiter=\",\")\n",
    "    for row in rows:\n",
    "        labels_dictionary[row[0]]=row[1]"
   ]
  },
  {
   "cell_type": "code",
   "execution_count": null,
   "metadata": {},
   "outputs": [],
   "source": [
    "labels_dictionary"
   ]
  },
  {
   "cell_type": "code",
   "execution_count": 127,
   "metadata": {},
   "outputs": [],
   "source": [
    "def parse_labels(directory):\n",
    "    li = os.listdir(directory)\n",
    "    string_directory = str(directory)\n",
    "    label_key = string_directory[-6:]\n",
    "    if not \"S\" in label_key:\n",
    "        label_key = \"S\"+label_key\n",
    "    \n",
    "    for item in li:\n",
    "        path = os.path.join(directory,item)\n",
    "        if os.path.isdir(path):\n",
    "            parse_labels(path)\n",
    "        elif \".jpg\" in item:\n",
    "            randint = random.random()\n",
    "            \n",
    "            whydoineedtodothisshit = label_key.replace(\"\\\\\", \"/\")\n",
    "            emotion = labels_dictionary[whydoineedtodothisshit]\n",
    "            identifier = label_key.replace(\"\\\\\", \"_\")\n",
    "            pic_id = identifier+item\n",
    "\n",
    "            # randomizes the images in real time\n",
    "            if randint < 0.8:\n",
    "                train_test_validate = \"train\"\n",
    "            elif randint >= 0.8 and randint < 0.9:\n",
    "                train_test_validate = \"validation\"\n",
    "            else:       \n",
    "                train_test_validate = \"test\"   \n",
    "\n",
    "            if emotion == \"1\":\n",
    "                emotion_ = \"joy\"\n",
    "                copy_files(item, pic_id, directory, emotion_, global_emotion_dir, train_test_validate)\n",
    "            \n",
    "              \n",
    "\n",
    "            # print(label_key)"
   ]
  },
  {
   "cell_type": "code",
   "execution_count": 128,
   "metadata": {
    "tags": []
   },
   "outputs": [],
   "source": [
    "def copy_files(pic, pic_id, orignal_dir, emotion_, global_emotion_dir, ttv):\n",
    "    print(pic, pic_id, orignal_dir, emotion_, global_emotion_dir, ttv)\n",
    "    file_ = os.path.join(orignal_dir, pic)\n",
    "    ttv_dir = os.path.join(global_emotion_dir, ttv)\n",
    "    emotion_dir = os.path.join(ttv_dir, emotion_)\n",
    "    dest_ = os.path.join(emotion_dir, pic_id)\n",
    "    if os.path.getsize(file_) != 0:\n",
    "        copyfile(file_, dest_)\n",
    "    "
   ]
  },
  {
   "cell_type": "code",
   "execution_count": 129,
   "metadata": {
    "tags": [
     "outputPrepend"
    ]
   },
   "outputs": [
    {
     "output_type": "stream",
     "name": "stdout",
     "text": "_2frame_56.jpg ISAFE MAIN DATABASE FOR PUBLIC/Database/S044\\2 joy emotions_copy_test_dir/ train\nframe_57.jpg S044_2frame_57.jpg ISAFE MAIN DATABASE FOR PUBLIC/Database/S044\\2 joy emotions_copy_test_dir/ train\nframe_58.jpg S044_2frame_58.jpg ISAFE MAIN DATABASE FOR PUBLIC/Database/S044\\2 joy emotions_copy_test_dir/ train\nframe_59.jpg S044_2frame_59.jpg ISAFE MAIN DATABASE FOR PUBLIC/Database/S044\\2 joy emotions_copy_test_dir/ train\nframe_6.jpg S044_2frame_6.jpg ISAFE MAIN DATABASE FOR PUBLIC/Database/S044\\2 joy emotions_copy_test_dir/ train\nframe_60.jpg S044_2frame_60.jpg ISAFE MAIN DATABASE FOR PUBLIC/Database/S044\\2 joy emotions_copy_test_dir/ train\nframe_7.jpg S044_2frame_7.jpg ISAFE MAIN DATABASE FOR PUBLIC/Database/S044\\2 joy emotions_copy_test_dir/ train\nframe_8.jpg S044_2frame_8.jpg ISAFE MAIN DATABASE FOR PUBLIC/Database/S044\\2 joy emotions_copy_test_dir/ train\nframe_9.jpg S044_2frame_9.jpg ISAFE MAIN DATABASE FOR PUBLIC/Database/S044\\2 joy emotions_copy_test_dir/ test\nframe_0.jpg S044_5frame_0.jpg ISAFE MAIN DATABASE FOR PUBLIC/Database/S044\\5 joy emotions_copy_test_dir/ train\nframe_1.jpg S044_5frame_1.jpg ISAFE MAIN DATABASE FOR PUBLIC/Database/S044\\5 joy emotions_copy_test_dir/ train\nframe_10.jpg S044_5frame_10.jpg ISAFE MAIN DATABASE FOR PUBLIC/Database/S044\\5 joy emotions_copy_test_dir/ train\nframe_11.jpg S044_5frame_11.jpg ISAFE MAIN DATABASE FOR PUBLIC/Database/S044\\5 joy emotions_copy_test_dir/ train\nframe_12.jpg S044_5frame_12.jpg ISAFE MAIN DATABASE FOR PUBLIC/Database/S044\\5 joy emotions_copy_test_dir/ train\nframe_13.jpg S044_5frame_13.jpg ISAFE MAIN DATABASE FOR PUBLIC/Database/S044\\5 joy emotions_copy_test_dir/ train\nframe_14.jpg S044_5frame_14.jpg ISAFE MAIN DATABASE FOR PUBLIC/Database/S044\\5 joy emotions_copy_test_dir/ train\nframe_15.jpg S044_5frame_15.jpg ISAFE MAIN DATABASE FOR PUBLIC/Database/S044\\5 joy emotions_copy_test_dir/ train\nframe_16.jpg S044_5frame_16.jpg ISAFE MAIN DATABASE FOR PUBLIC/Database/S044\\5 joy emotions_copy_test_dir/ train\nframe_17.jpg S044_5frame_17.jpg ISAFE MAIN DATABASE FOR PUBLIC/Database/S044\\5 joy emotions_copy_test_dir/ train\nframe_18.jpg S044_5frame_18.jpg ISAFE MAIN DATABASE FOR PUBLIC/Database/S044\\5 joy emotions_copy_test_dir/ train\nframe_19.jpg S044_5frame_19.jpg ISAFE MAIN DATABASE FOR PUBLIC/Database/S044\\5 joy emotions_copy_test_dir/ train\nframe_2.jpg S044_5frame_2.jpg ISAFE MAIN DATABASE FOR PUBLIC/Database/S044\\5 joy emotions_copy_test_dir/ train\nframe_20.jpg S044_5frame_20.jpg ISAFE MAIN DATABASE FOR PUBLIC/Database/S044\\5 joy emotions_copy_test_dir/ train\nframe_21.jpg S044_5frame_21.jpg ISAFE MAIN DATABASE FOR PUBLIC/Database/S044\\5 joy emotions_copy_test_dir/ train\nframe_22.jpg S044_5frame_22.jpg ISAFE MAIN DATABASE FOR PUBLIC/Database/S044\\5 joy emotions_copy_test_dir/ train\nframe_23.jpg S044_5frame_23.jpg ISAFE MAIN DATABASE FOR PUBLIC/Database/S044\\5 joy emotions_copy_test_dir/ validation\nframe_24.jpg S044_5frame_24.jpg ISAFE MAIN DATABASE FOR PUBLIC/Database/S044\\5 joy emotions_copy_test_dir/ validation\nframe_25.jpg S044_5frame_25.jpg ISAFE MAIN DATABASE FOR PUBLIC/Database/S044\\5 joy emotions_copy_test_dir/ test\nframe_26.jpg S044_5frame_26.jpg ISAFE MAIN DATABASE FOR PUBLIC/Database/S044\\5 joy emotions_copy_test_dir/ train\nframe_27.jpg S044_5frame_27.jpg ISAFE MAIN DATABASE FOR PUBLIC/Database/S044\\5 joy emotions_copy_test_dir/ train\nframe_28.jpg S044_5frame_28.jpg ISAFE MAIN DATABASE FOR PUBLIC/Database/S044\\5 joy emotions_copy_test_dir/ train\nframe_29.jpg S044_5frame_29.jpg ISAFE MAIN DATABASE FOR PUBLIC/Database/S044\\5 joy emotions_copy_test_dir/ train\nframe_3.jpg S044_5frame_3.jpg ISAFE MAIN DATABASE FOR PUBLIC/Database/S044\\5 joy emotions_copy_test_dir/ train\nframe_30.jpg S044_5frame_30.jpg ISAFE MAIN DATABASE FOR PUBLIC/Database/S044\\5 joy emotions_copy_test_dir/ train\nframe_31.jpg S044_5frame_31.jpg ISAFE MAIN DATABASE FOR PUBLIC/Database/S044\\5 joy emotions_copy_test_dir/ train\nframe_32.jpg S044_5frame_32.jpg ISAFE MAIN DATABASE FOR PUBLIC/Database/S044\\5 joy emotions_copy_test_dir/ test\nframe_33.jpg S044_5frame_33.jpg ISAFE MAIN DATABASE FOR PUBLIC/Database/S044\\5 joy emotions_copy_test_dir/ train\nframe_34.jpg S044_5frame_34.jpg ISAFE MAIN DATABASE FOR PUBLIC/Database/S044\\5 joy emotions_copy_test_dir/ train\nframe_35.jpg S044_5frame_35.jpg ISAFE MAIN DATABASE FOR PUBLIC/Database/S044\\5 joy emotions_copy_test_dir/ train\nframe_36.jpg S044_5frame_36.jpg ISAFE MAIN DATABASE FOR PUBLIC/Database/S044\\5 joy emotions_copy_test_dir/ test\nframe_37.jpg S044_5frame_37.jpg ISAFE MAIN DATABASE FOR PUBLIC/Database/S044\\5 joy emotions_copy_test_dir/ train\nframe_38.jpg S044_5frame_38.jpg ISAFE MAIN DATABASE FOR PUBLIC/Database/S044\\5 joy emotions_copy_test_dir/ train\nframe_39.jpg S044_5frame_39.jpg ISAFE MAIN DATABASE FOR PUBLIC/Database/S044\\5 joy emotions_copy_test_dir/ train\nframe_4.jpg S044_5frame_4.jpg ISAFE MAIN DATABASE FOR PUBLIC/Database/S044\\5 joy emotions_copy_test_dir/ test\nframe_40.jpg S044_5frame_40.jpg ISAFE MAIN DATABASE FOR PUBLIC/Database/S044\\5 joy emotions_copy_test_dir/ train\nframe_41.jpg S044_5frame_41.jpg ISAFE MAIN DATABASE FOR PUBLIC/Database/S044\\5 joy emotions_copy_test_dir/ train\nframe_42.jpg S044_5frame_42.jpg ISAFE MAIN DATABASE FOR PUBLIC/Database/S044\\5 joy emotions_copy_test_dir/ validation\nframe_43.jpg S044_5frame_43.jpg ISAFE MAIN DATABASE FOR PUBLIC/Database/S044\\5 joy emotions_copy_test_dir/ train\nframe_44.jpg S044_5frame_44.jpg ISAFE MAIN DATABASE FOR PUBLIC/Database/S044\\5 joy emotions_copy_test_dir/ train\nframe_45.jpg S044_5frame_45.jpg ISAFE MAIN DATABASE FOR PUBLIC/Database/S044\\5 joy emotions_copy_test_dir/ train\nframe_46.jpg S044_5frame_46.jpg ISAFE MAIN DATABASE FOR PUBLIC/Database/S044\\5 joy emotions_copy_test_dir/ train\nframe_47.jpg S044_5frame_47.jpg ISAFE MAIN DATABASE FOR PUBLIC/Database/S044\\5 joy emotions_copy_test_dir/ train\nframe_48.jpg S044_5frame_48.jpg ISAFE MAIN DATABASE FOR PUBLIC/Database/S044\\5 joy emotions_copy_test_dir/ train\nframe_49.jpg S044_5frame_49.jpg ISAFE MAIN DATABASE FOR PUBLIC/Database/S044\\5 joy emotions_copy_test_dir/ validation\nframe_5.jpg S044_5frame_5.jpg ISAFE MAIN DATABASE FOR PUBLIC/Database/S044\\5 joy emotions_copy_test_dir/ train\nframe_50.jpg S044_5frame_50.jpg ISAFE MAIN DATABASE FOR PUBLIC/Database/S044\\5 joy emotions_copy_test_dir/ train\nframe_51.jpg S044_5frame_51.jpg ISAFE MAIN DATABASE FOR PUBLIC/Database/S044\\5 joy emotions_copy_test_dir/ test\nframe_52.jpg S044_5frame_52.jpg ISAFE MAIN DATABASE FOR PUBLIC/Database/S044\\5 joy emotions_copy_test_dir/ train\nframe_53.jpg S044_5frame_53.jpg ISAFE MAIN DATABASE FOR PUBLIC/Database/S044\\5 joy emotions_copy_test_dir/ train\nframe_54.jpg S044_5frame_54.jpg ISAFE MAIN DATABASE FOR PUBLIC/Database/S044\\5 joy emotions_copy_test_dir/ train\nframe_55.jpg S044_5frame_55.jpg ISAFE MAIN DATABASE FOR PUBLIC/Database/S044\\5 joy emotions_copy_test_dir/ validation\nframe_56.jpg S044_5frame_56.jpg ISAFE MAIN DATABASE FOR PUBLIC/Database/S044\\5 joy emotions_copy_test_dir/ train\nframe_57.jpg S044_5frame_57.jpg ISAFE MAIN DATABASE FOR PUBLIC/Database/S044\\5 joy emotions_copy_test_dir/ train\nframe_58.jpg S044_5frame_58.jpg ISAFE MAIN DATABASE FOR PUBLIC/Database/S044\\5 joy emotions_copy_test_dir/ train\nframe_59.jpg S044_5frame_59.jpg ISAFE MAIN DATABASE FOR PUBLIC/Database/S044\\5 joy emotions_copy_test_dir/ train\nframe_6.jpg S044_5frame_6.jpg ISAFE MAIN DATABASE FOR PUBLIC/Database/S044\\5 joy emotions_copy_test_dir/ train\nframe_60.jpg S044_5frame_60.jpg ISAFE MAIN DATABASE FOR PUBLIC/Database/S044\\5 joy emotions_copy_test_dir/ train\nframe_61.jpg S044_5frame_61.jpg ISAFE MAIN DATABASE FOR PUBLIC/Database/S044\\5 joy emotions_copy_test_dir/ train\nframe_62.jpg S044_5frame_62.jpg ISAFE MAIN DATABASE FOR PUBLIC/Database/S044\\5 joy emotions_copy_test_dir/ train\nframe_63.jpg S044_5frame_63.jpg ISAFE MAIN DATABASE FOR PUBLIC/Database/S044\\5 joy emotions_copy_test_dir/ train\nframe_64.jpg S044_5frame_64.jpg ISAFE MAIN DATABASE FOR PUBLIC/Database/S044\\5 joy emotions_copy_test_dir/ validation\nframe_65.jpg S044_5frame_65.jpg ISAFE MAIN DATABASE FOR PUBLIC/Database/S044\\5 joy emotions_copy_test_dir/ train\nframe_66.jpg S044_5frame_66.jpg ISAFE MAIN DATABASE FOR PUBLIC/Database/S044\\5 joy emotions_copy_test_dir/ train\nframe_67.jpg S044_5frame_67.jpg ISAFE MAIN DATABASE FOR PUBLIC/Database/S044\\5 joy emotions_copy_test_dir/ train\nframe_68.jpg S044_5frame_68.jpg ISAFE MAIN DATABASE FOR PUBLIC/Database/S044\\5 joy emotions_copy_test_dir/ train\nframe_69.jpg S044_5frame_69.jpg ISAFE MAIN DATABASE FOR PUBLIC/Database/S044\\5 joy emotions_copy_test_dir/ train\nframe_7.jpg S044_5frame_7.jpg ISAFE MAIN DATABASE FOR PUBLIC/Database/S044\\5 joy emotions_copy_test_dir/ validation\nframe_70.jpg S044_5frame_70.jpg ISAFE MAIN DATABASE FOR PUBLIC/Database/S044\\5 joy emotions_copy_test_dir/ train\nframe_71.jpg S044_5frame_71.jpg ISAFE MAIN DATABASE FOR PUBLIC/Database/S044\\5 joy emotions_copy_test_dir/ train\nframe_72.jpg S044_5frame_72.jpg ISAFE MAIN DATABASE FOR PUBLIC/Database/S044\\5 joy emotions_copy_test_dir/ train\nframe_73.jpg S044_5frame_73.jpg ISAFE MAIN DATABASE FOR PUBLIC/Database/S044\\5 joy emotions_copy_test_dir/ train\nframe_74.jpg S044_5frame_74.jpg ISAFE MAIN DATABASE FOR PUBLIC/Database/S044\\5 joy emotions_copy_test_dir/ validation\nframe_75.jpg S044_5frame_75.jpg ISAFE MAIN DATABASE FOR PUBLIC/Database/S044\\5 joy emotions_copy_test_dir/ train\nframe_76.jpg S044_5frame_76.jpg ISAFE MAIN DATABASE FOR PUBLIC/Database/S044\\5 joy emotions_copy_test_dir/ train\nframe_77.jpg S044_5frame_77.jpg ISAFE MAIN DATABASE FOR PUBLIC/Database/S044\\5 joy emotions_copy_test_dir/ train\nframe_78.jpg S044_5frame_78.jpg ISAFE MAIN DATABASE FOR PUBLIC/Database/S044\\5 joy emotions_copy_test_dir/ train\nframe_79.jpg S044_5frame_79.jpg ISAFE MAIN DATABASE FOR PUBLIC/Database/S044\\5 joy emotions_copy_test_dir/ train\nframe_8.jpg S044_5frame_8.jpg ISAFE MAIN DATABASE FOR PUBLIC/Database/S044\\5 joy emotions_copy_test_dir/ train\nframe_80.jpg S044_5frame_80.jpg ISAFE MAIN DATABASE FOR PUBLIC/Database/S044\\5 joy emotions_copy_test_dir/ train\nframe_81.jpg S044_5frame_81.jpg ISAFE MAIN DATABASE FOR PUBLIC/Database/S044\\5 joy emotions_copy_test_dir/ train\nframe_82.jpg S044_5frame_82.jpg ISAFE MAIN DATABASE FOR PUBLIC/Database/S044\\5 joy emotions_copy_test_dir/ train\nframe_83.jpg S044_5frame_83.jpg ISAFE MAIN DATABASE FOR PUBLIC/Database/S044\\5 joy emotions_copy_test_dir/ train\nframe_84.jpg S044_5frame_84.jpg ISAFE MAIN DATABASE FOR PUBLIC/Database/S044\\5 joy emotions_copy_test_dir/ test\nframe_85.jpg S044_5frame_85.jpg ISAFE MAIN DATABASE FOR PUBLIC/Database/S044\\5 joy emotions_copy_test_dir/ test\nframe_86.jpg S044_5frame_86.jpg ISAFE MAIN DATABASE FOR PUBLIC/Database/S044\\5 joy emotions_copy_test_dir/ train\nframe_87.jpg S044_5frame_87.jpg ISAFE MAIN DATABASE FOR PUBLIC/Database/S044\\5 joy emotions_copy_test_dir/ validation\nframe_88.jpg S044_5frame_88.jpg ISAFE MAIN DATABASE FOR PUBLIC/Database/S044\\5 joy emotions_copy_test_dir/ test\nframe_89.jpg S044_5frame_89.jpg ISAFE MAIN DATABASE FOR PUBLIC/Database/S044\\5 joy emotions_copy_test_dir/ train\nframe_9.jpg S044_5frame_9.jpg ISAFE MAIN DATABASE FOR PUBLIC/Database/S044\\5 joy emotions_copy_test_dir/ test\nframe_90.jpg S044_5frame_90.jpg ISAFE MAIN DATABASE FOR PUBLIC/Database/S044\\5 joy emotions_copy_test_dir/ train\nframe_91.jpg S044_5frame_91.jpg ISAFE MAIN DATABASE FOR PUBLIC/Database/S044\\5 joy emotions_copy_test_dir/ train\nframe_0.jpg S044_8frame_0.jpg ISAFE MAIN DATABASE FOR PUBLIC/Database/S044\\8 joy emotions_copy_test_dir/ train\nframe_1.jpg S044_8frame_1.jpg ISAFE MAIN DATABASE FOR PUBLIC/Database/S044\\8 joy emotions_copy_test_dir/ train\nframe_10.jpg S044_8frame_10.jpg ISAFE MAIN DATABASE FOR PUBLIC/Database/S044\\8 joy emotions_copy_test_dir/ test\nframe_11.jpg S044_8frame_11.jpg ISAFE MAIN DATABASE FOR PUBLIC/Database/S044\\8 joy emotions_copy_test_dir/ train\nframe_12.jpg S044_8frame_12.jpg ISAFE MAIN DATABASE FOR PUBLIC/Database/S044\\8 joy emotions_copy_test_dir/ train\nframe_13.jpg S044_8frame_13.jpg ISAFE MAIN DATABASE FOR PUBLIC/Database/S044\\8 joy emotions_copy_test_dir/ train\nframe_14.jpg S044_8frame_14.jpg ISAFE MAIN DATABASE FOR PUBLIC/Database/S044\\8 joy emotions_copy_test_dir/ train\nframe_15.jpg S044_8frame_15.jpg ISAFE MAIN DATABASE FOR PUBLIC/Database/S044\\8 joy emotions_copy_test_dir/ train\nframe_16.jpg S044_8frame_16.jpg ISAFE MAIN DATABASE FOR PUBLIC/Database/S044\\8 joy emotions_copy_test_dir/ train\nframe_17.jpg S044_8frame_17.jpg ISAFE MAIN DATABASE FOR PUBLIC/Database/S044\\8 joy emotions_copy_test_dir/ train\nframe_18.jpg S044_8frame_18.jpg ISAFE MAIN DATABASE FOR PUBLIC/Database/S044\\8 joy emotions_copy_test_dir/ train\nframe_19.jpg S044_8frame_19.jpg ISAFE MAIN DATABASE FOR PUBLIC/Database/S044\\8 joy emotions_copy_test_dir/ train\nframe_2.jpg S044_8frame_2.jpg ISAFE MAIN DATABASE FOR PUBLIC/Database/S044\\8 joy emotions_copy_test_dir/ train\nframe_20.jpg S044_8frame_20.jpg ISAFE MAIN DATABASE FOR PUBLIC/Database/S044\\8 joy emotions_copy_test_dir/ train\nframe_21.jpg S044_8frame_21.jpg ISAFE MAIN DATABASE FOR PUBLIC/Database/S044\\8 joy emotions_copy_test_dir/ train\nframe_22.jpg S044_8frame_22.jpg ISAFE MAIN DATABASE FOR PUBLIC/Database/S044\\8 joy emotions_copy_test_dir/ train\nframe_23.jpg S044_8frame_23.jpg ISAFE MAIN DATABASE FOR PUBLIC/Database/S044\\8 joy emotions_copy_test_dir/ validation\nframe_24.jpg S044_8frame_24.jpg ISAFE MAIN DATABASE FOR PUBLIC/Database/S044\\8 joy emotions_copy_test_dir/ validation\nframe_25.jpg S044_8frame_25.jpg ISAFE MAIN DATABASE FOR PUBLIC/Database/S044\\8 joy emotions_copy_test_dir/ train\nframe_26.jpg S044_8frame_26.jpg ISAFE MAIN DATABASE FOR PUBLIC/Database/S044\\8 joy emotions_copy_test_dir/ train\nframe_27.jpg S044_8frame_27.jpg ISAFE MAIN DATABASE FOR PUBLIC/Database/S044\\8 joy emotions_copy_test_dir/ test\nframe_28.jpg S044_8frame_28.jpg ISAFE MAIN DATABASE FOR PUBLIC/Database/S044\\8 joy emotions_copy_test_dir/ validation\nframe_29.jpg S044_8frame_29.jpg ISAFE MAIN DATABASE FOR PUBLIC/Database/S044\\8 joy emotions_copy_test_dir/ train\nframe_3.jpg S044_8frame_3.jpg ISAFE MAIN DATABASE FOR PUBLIC/Database/S044\\8 joy emotions_copy_test_dir/ train\nframe_30.jpg S044_8frame_30.jpg ISAFE MAIN DATABASE FOR PUBLIC/Database/S044\\8 joy emotions_copy_test_dir/ train\nframe_31.jpg S044_8frame_31.jpg ISAFE MAIN DATABASE FOR PUBLIC/Database/S044\\8 joy emotions_copy_test_dir/ train\nframe_32.jpg S044_8frame_32.jpg ISAFE MAIN DATABASE FOR PUBLIC/Database/S044\\8 joy emotions_copy_test_dir/ train\nframe_33.jpg S044_8frame_33.jpg ISAFE MAIN DATABASE FOR PUBLIC/Database/S044\\8 joy emotions_copy_test_dir/ train\nframe_34.jpg S044_8frame_34.jpg ISAFE MAIN DATABASE FOR PUBLIC/Database/S044\\8 joy emotions_copy_test_dir/ train\nframe_35.jpg S044_8frame_35.jpg ISAFE MAIN DATABASE FOR PUBLIC/Database/S044\\8 joy emotions_copy_test_dir/ train\nframe_36.jpg S044_8frame_36.jpg ISAFE MAIN DATABASE FOR PUBLIC/Database/S044\\8 joy emotions_copy_test_dir/ train\nframe_37.jpg S044_8frame_37.jpg ISAFE MAIN DATABASE FOR PUBLIC/Database/S044\\8 joy emotions_copy_test_dir/ train\nframe_38.jpg S044_8frame_38.jpg ISAFE MAIN DATABASE FOR PUBLIC/Database/S044\\8 joy emotions_copy_test_dir/ train\nframe_39.jpg S044_8frame_39.jpg ISAFE MAIN DATABASE FOR PUBLIC/Database/S044\\8 joy emotions_copy_test_dir/ train\nframe_4.jpg S044_8frame_4.jpg ISAFE MAIN DATABASE FOR PUBLIC/Database/S044\\8 joy emotions_copy_test_dir/ train\nframe_40.jpg S044_8frame_40.jpg ISAFE MAIN DATABASE FOR PUBLIC/Database/S044\\8 joy emotions_copy_test_dir/ train\nframe_41.jpg S044_8frame_41.jpg ISAFE MAIN DATABASE FOR PUBLIC/Database/S044\\8 joy emotions_copy_test_dir/ train\nframe_42.jpg S044_8frame_42.jpg ISAFE MAIN DATABASE FOR PUBLIC/Database/S044\\8 joy emotions_copy_test_dir/ validation\nframe_43.jpg S044_8frame_43.jpg ISAFE MAIN DATABASE FOR PUBLIC/Database/S044\\8 joy emotions_copy_test_dir/ train\nframe_44.jpg S044_8frame_44.jpg ISAFE MAIN DATABASE FOR PUBLIC/Database/S044\\8 joy emotions_copy_test_dir/ validation\nframe_45.jpg S044_8frame_45.jpg ISAFE MAIN DATABASE FOR PUBLIC/Database/S044\\8 joy emotions_copy_test_dir/ validation\nframe_46.jpg S044_8frame_46.jpg ISAFE MAIN DATABASE FOR PUBLIC/Database/S044\\8 joy emotions_copy_test_dir/ train\nframe_47.jpg S044_8frame_47.jpg ISAFE MAIN DATABASE FOR PUBLIC/Database/S044\\8 joy emotions_copy_test_dir/ test\nframe_48.jpg S044_8frame_48.jpg ISAFE MAIN DATABASE FOR PUBLIC/Database/S044\\8 joy emotions_copy_test_dir/ train\nframe_49.jpg S044_8frame_49.jpg ISAFE MAIN DATABASE FOR PUBLIC/Database/S044\\8 joy emotions_copy_test_dir/ train\nframe_5.jpg S044_8frame_5.jpg ISAFE MAIN DATABASE FOR PUBLIC/Database/S044\\8 joy emotions_copy_test_dir/ train\nframe_50.jpg S044_8frame_50.jpg ISAFE MAIN DATABASE FOR PUBLIC/Database/S044\\8 joy emotions_copy_test_dir/ train\nframe_51.jpg S044_8frame_51.jpg ISAFE MAIN DATABASE FOR PUBLIC/Database/S044\\8 joy emotions_copy_test_dir/ train\nframe_52.jpg S044_8frame_52.jpg ISAFE MAIN DATABASE FOR PUBLIC/Database/S044\\8 joy emotions_copy_test_dir/ train\nframe_53.jpg S044_8frame_53.jpg ISAFE MAIN DATABASE FOR PUBLIC/Database/S044\\8 joy emotions_copy_test_dir/ train\nframe_54.jpg S044_8frame_54.jpg ISAFE MAIN DATABASE FOR PUBLIC/Database/S044\\8 joy emotions_copy_test_dir/ test\nframe_55.jpg S044_8frame_55.jpg ISAFE MAIN DATABASE FOR PUBLIC/Database/S044\\8 joy emotions_copy_test_dir/ test\nframe_56.jpg S044_8frame_56.jpg ISAFE MAIN DATABASE FOR PUBLIC/Database/S044\\8 joy emotions_copy_test_dir/ train\nframe_57.jpg S044_8frame_57.jpg ISAFE MAIN DATABASE FOR PUBLIC/Database/S044\\8 joy emotions_copy_test_dir/ test\nframe_58.jpg S044_8frame_58.jpg ISAFE MAIN DATABASE FOR PUBLIC/Database/S044\\8 joy emotions_copy_test_dir/ train\nframe_59.jpg S044_8frame_59.jpg ISAFE MAIN DATABASE FOR PUBLIC/Database/S044\\8 joy emotions_copy_test_dir/ train\nframe_6.jpg S044_8frame_6.jpg ISAFE MAIN DATABASE FOR PUBLIC/Database/S044\\8 joy emotions_copy_test_dir/ train\nframe_60.jpg S044_8frame_60.jpg ISAFE MAIN DATABASE FOR PUBLIC/Database/S044\\8 joy emotions_copy_test_dir/ test\nframe_61.jpg S044_8frame_61.jpg ISAFE MAIN DATABASE FOR PUBLIC/Database/S044\\8 joy emotions_copy_test_dir/ train\nframe_62.jpg S044_8frame_62.jpg ISAFE MAIN DATABASE FOR PUBLIC/Database/S044\\8 joy emotions_copy_test_dir/ test\nframe_63.jpg S044_8frame_63.jpg ISAFE MAIN DATABASE FOR PUBLIC/Database/S044\\8 joy emotions_copy_test_dir/ train\nframe_64.jpg S044_8frame_64.jpg ISAFE MAIN DATABASE FOR PUBLIC/Database/S044\\8 joy emotions_copy_test_dir/ train\nframe_65.jpg S044_8frame_65.jpg ISAFE MAIN DATABASE FOR PUBLIC/Database/S044\\8 joy emotions_copy_test_dir/ train\nframe_66.jpg S044_8frame_66.jpg ISAFE MAIN DATABASE FOR PUBLIC/Database/S044\\8 joy emotions_copy_test_dir/ test\nframe_67.jpg S044_8frame_67.jpg ISAFE MAIN DATABASE FOR PUBLIC/Database/S044\\8 joy emotions_copy_test_dir/ test\nframe_68.jpg S044_8frame_68.jpg ISAFE MAIN DATABASE FOR PUBLIC/Database/S044\\8 joy emotions_copy_test_dir/ validation\nframe_69.jpg S044_8frame_69.jpg ISAFE MAIN DATABASE FOR PUBLIC/Database/S044\\8 joy emotions_copy_test_dir/ train\nframe_7.jpg S044_8frame_7.jpg ISAFE MAIN DATABASE FOR PUBLIC/Database/S044\\8 joy emotions_copy_test_dir/ validation\nframe_70.jpg S044_8frame_70.jpg ISAFE MAIN DATABASE FOR PUBLIC/Database/S044\\8 joy emotions_copy_test_dir/ train\nframe_71.jpg S044_8frame_71.jpg ISAFE MAIN DATABASE FOR PUBLIC/Database/S044\\8 joy emotions_copy_test_dir/ train\nframe_72.jpg S044_8frame_72.jpg ISAFE MAIN DATABASE FOR PUBLIC/Database/S044\\8 joy emotions_copy_test_dir/ train\nframe_73.jpg S044_8frame_73.jpg ISAFE MAIN DATABASE FOR PUBLIC/Database/S044\\8 joy emotions_copy_test_dir/ test\nframe_74.jpg S044_8frame_74.jpg ISAFE MAIN DATABASE FOR PUBLIC/Database/S044\\8 joy emotions_copy_test_dir/ train\nframe_75.jpg S044_8frame_75.jpg ISAFE MAIN DATABASE FOR PUBLIC/Database/S044\\8 joy emotions_copy_test_dir/ train\nframe_8.jpg S044_8frame_8.jpg ISAFE MAIN DATABASE FOR PUBLIC/Database/S044\\8 joy emotions_copy_test_dir/ train\nframe_9.jpg S044_8frame_9.jpg ISAFE MAIN DATABASE FOR PUBLIC/Database/S044\\8 joy emotions_copy_test_dir/ train\n"
    }
   ],
   "source": [
    "parse_labels(subject_list)"
   ]
  },
  {
   "cell_type": "code",
   "execution_count": null,
   "metadata": {},
   "outputs": [],
   "source": []
  }
 ],
 "metadata": {
  "language_info": {
   "codemirror_mode": {
    "name": "ipython",
    "version": 3
   },
   "file_extension": ".py",
   "mimetype": "text/x-python",
   "name": "python",
   "nbconvert_exporter": "python",
   "pygments_lexer": "ipython3",
   "version": "3.8.1-final"
  },
  "orig_nbformat": 2,
  "kernelspec": {
   "name": "tfe",
   "display_name": "tfe"
  }
 },
 "nbformat": 4,
 "nbformat_minor": 2
}