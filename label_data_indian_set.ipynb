{
 "cells": [
  {
   "cell_type": "code",
   "execution_count": null,
   "metadata": {},
   "outputs": [],
   "source": [
    "import os\n",
    "import random\n",
    "import shutil\n",
    "from shutil import copyfile\n",
    "import csv"
   ]
  },
  {
   "cell_type": "code",
   "execution_count": null,
   "metadata": {},
   "outputs": [],
   "source": [
    "root_dir = \"ISAFE MAIN DATABASE FOR PUBLIC/\"\n",
    "data = \"Database/\""
   ]
  },
  {
   "cell_type": "code",
   "execution_count": null,
   "metadata": {
    "tags": []
   },
   "outputs": [],
   "source": [
    "subject_list = os.path.join(root_dir, data)\n",
    "x = os.listdir(subject_list)\n",
    "csv_file = \"ISAFE MAIN DATABASE FOR PUBLIC\\Annotations\\psy-annotation.csv\"\n",
    "print(x)"
   ]
  },
  {
   "cell_type": "code",
   "execution_count": null,
   "metadata": {},
   "outputs": [],
   "source": [
    "labels_dictionary = {}\n",
    "with open(csv_file) as rf:\n",
    "    rows = csv.reader(rf, delimiter=\",\")\n",
    "    for row in rows:\n",
    "        labels_dictionary[row[0]]=row[1]"
   ]
  },
  {
   "cell_type": "code",
   "execution_count": null,
   "metadata": {},
   "outputs": [],
   "source": [
    "labels_dictionary"
   ]
  },
  {
   "cell_type": "code",
   "execution_count": null,
   "metadata": {},
   "outputs": [],
   "source": [
    "def parse_labels(directory):\n",
    "    li = os.listdir(directory)\n",
    "    string_directory = str(directory)\n",
    "    label_key = string_directory[-6:]\n",
    "    if not \"S\" in label_key:\n",
    "        label_key = \"S\"+label_key\n",
    "    \n",
    "    for item in li:\n",
    "        path = os.path.join(directory,item)\n",
    "        if os.path.isdir(path):\n",
    "            parse_labels(path)\n",
    "        elif \".jpg\" in item:\n",
    "            randint = random.random()\n",
    "            whydoineedtodothisshit = label_key.replace(\"\\\\\", \"/\")\n",
    "            emotion = labels_dictionary[whydoineedtodothisshit]\n",
    "            if emotion == \"1\":\n",
    "                print(os.path.join(directory, item))\n",
    "            if randint < 0.8:\n",
    "                pass\n",
    "            elif randint >= 0.8 or randint < 0.9:\n",
    "                pass\n",
    "            else:       \n",
    "                pass     \n",
    "\n",
    "            # print(label_key)"
   ]
  },
  {
   "cell_type": "code",
   "execution_count": null,
   "metadata": {
    "tags": [
     "outputPrepend"
    ]
   },
   "outputs": [],
   "source": [
    "parse_labels(subject_list)"
   ]
  },
  {
   "cell_type": "code",
   "execution_count": null,
   "metadata": {
    "tags": []
   },
   "outputs": [],
   "source": [
    "def copy_files(pic, orignal_path, final_dir, emotion):\n",
    "    file_ = os.path.join(orignal_path, pic)\n",
    "    emotion_dir = os.path.join(final_dir, emotion)\n",
    "    dest_ = os.path.join(emotion_dir, pic)\n",
    "    if os.path.getsize(file_) != 0:\n",
    "        copyfile(file_, dest_)\n",
    "    "
   ]
  }
 ],
 "metadata": {
  "language_info": {
   "codemirror_mode": {
    "name": "ipython",
    "version": 3
   },
   "file_extension": ".py",
   "mimetype": "text/x-python",
   "name": "python",
   "nbconvert_exporter": "python",
   "pygments_lexer": "ipython3",
   "version": "3.8.1-final"
  },
  "orig_nbformat": 2,
  "kernelspec": {
   "name": "tfe",
   "display_name": "tfe"
  }
 },
 "nbformat": 4,
 "nbformat_minor": 2
}