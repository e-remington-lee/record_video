{
 "cells": [
  {
   "cell_type": "code",
   "execution_count": null,
   "metadata": {},
   "outputs": [],
   "source": [
    "import os\n",
    "import random\n",
    "import shutil\n",
    "from shutil import copyfile\n",
    "import csv"
   ]
  },
  {
   "cell_type": "code",
   "execution_count": null,
   "metadata": {},
   "outputs": [],
   "source": [
    "root_dir = \"ISAFE MAIN DATABASE FOR PUBLIC/\"\n",
    "data = \"Database/\"\n",
    "global_emotion_dir = \"emotions_copy_test_dir/\""
   ]
  },
  {
   "cell_type": "code",
   "execution_count": null,
   "metadata": {
    "tags": []
   },
   "outputs": [],
   "source": [
    "subject_list = os.path.join(root_dir, data)\n",
    "x = os.listdir(subject_list)\n",
    "csv_file = \"ISAFE MAIN DATABASE FOR PUBLIC\\Annotations\\self-annotation.csv\"\n",
    "print(x)"
   ]
  },
  {
   "cell_type": "code",
   "execution_count": null,
   "metadata": {},
   "outputs": [],
   "source": [
    "labels_dictionary = {}\n",
    "with open(csv_file) as rf:\n",
    "    rows = csv.reader(rf, delimiter=\",\")\n",
    "    for row in rows:\n",
    "        labels_dictionary[row[0]]=row[1]"
   ]
  },
  {
   "cell_type": "code",
   "execution_count": null,
   "metadata": {},
   "outputs": [],
   "source": [
    "labels_dictionary"
   ]
  },
  {
   "cell_type": "code",
   "execution_count": 236,
   "metadata": {},
   "outputs": [],
   "source": [
    "def parse_labels(directory, cut_images):\n",
    "    li = os.listdir(directory)\n",
    "    string_directory = str(directory)\n",
    "    label_key = string_directory[-6:]\n",
    "    if not \"S\" in label_key:\n",
    "        label_key = \"S\"+label_key\n",
    "    for item in li:   \n",
    "        path = os.path.join(directory,item)\n",
    "        if os.path.isdir(path):\n",
    "            parse_labels(path, cut_images)\n",
    "        elif item.endswith(\".jpg\"):\n",
    "            if cut_images:\n",
    "                if (item.endswith(\"_0.jpg\") or item.endswith(\"_1.jpg\") or\n",
    "                    item.endswith(\"_2.jpg\") or\n",
    "                    item.endswith(\"_3.jpg\") or\n",
    "                    item.endswith(\"_4.jpg\") or\n",
    "                    item.endswith(\"_5.jpg\") or\n",
    "                    item.endswith(\"_6.jpg\") or\n",
    "                    item.endswith(\"_7.jpg\") or\n",
    "                    item.endswith(\"_8.jpg\") or\n",
    "                    item.endswith(\"_9.jpg\") or\n",
    "                    item.endswith(\"_10.jpg\") or\n",
    "                    item.endswith(\"_11.jpg\") or\n",
    "                    item.endswith(\"_12.jpg\") or\n",
    "                    item.endswith(\"_13.jpg\") or\n",
    "                    item.endswith(\"_14.jpg\")):\n",
    "                    continue\n",
    "            randint = random.random()\n",
    "            \n",
    "            whydoineedtodothisshit = label_key.replace(\"\\\\\", \"/\")\n",
    "            emotion = labels_dictionary[whydoineedtodothisshit]\n",
    "            identifier = label_key.replace(\"\\\\\", \"_\")\n",
    "            pic_id = identifier+item\n",
    "\n",
    "            # randomizes the images in real time\n",
    "            if randint < 1.01:\n",
    "                train_test_validate = \"train\"\n",
    "            # elif randint >= 0.8 and randint < 0.9:\n",
    "            #     train_test_validate = \"validation\"\n",
    "            # else:       \n",
    "            #     train_test_validate = \"test\"   \n",
    "\n",
    "            if emotion == \"1\":\n",
    "                emotion_ = \"joy\"\n",
    "                copy_files(item, pic_id, directory, emotion_, global_emotion_dir, train_test_validate)\n",
    "            \n",
    "            # print(label_key)"
   ]
  },
  {
   "cell_type": "code",
   "execution_count": 237,
   "metadata": {
    "tags": []
   },
   "outputs": [],
   "source": [
    "def copy_files(pic, pic_id, orignal_dir, emotion_, global_emotion_dir, ttv):\n",
    "    file_ = os.path.join(orignal_dir, pic)\n",
    "    ttv_dir = os.path.join(global_emotion_dir, ttv)\n",
    "    emotion_dir = os.path.join(ttv_dir, emotion_)\n",
    "    dest_ = os.path.join(emotion_dir, pic_id)\n",
    "    if os.path.getsize(file_) != 0:\n",
    "        copyfile(file_, dest_)\n",
    "    "
   ]
  },
  {
   "cell_type": "code",
   "execution_count": 238,
   "metadata": {
    "tags": []
   },
   "outputs": [],
   "source": [
    "for root, dirs, files in os.walk(\"emotions_copy_test_dir\"):\n",
    "    for x in files:\n",
    "        os.remove(os.path.join(root, x))"
   ]
  },
  {
   "cell_type": "code",
   "execution_count": 239,
   "metadata": {
    "tags": [
     "outputPrepend"
    ]
   },
   "outputs": [
    {
     "output_type": "stream",
     "name": "stdout",
     "text": "66.jpg\nframe_67.jpg\nframe_68.jpg\nframe_69.jpg\nframe_70.jpg\nframe_71.jpg\nframe_72.jpg\nframe_73.jpg\nframe_74.jpg\nframe_75.jpg\nframe_76.jpg\nframe_77.jpg\nframe_78.jpg\nframe_79.jpg\nframe_80.jpg\nframe_81.jpg\nframe_82.jpg\nframe_83.jpg\nframe_100.jpg\nframe_101.jpg\nframe_102.jpg\nframe_103.jpg\nframe_104.jpg\nframe_105.jpg\nframe_106.jpg\nframe_15.jpg\nframe_16.jpg\nframe_17.jpg\nframe_18.jpg\nframe_19.jpg\nframe_20.jpg\nframe_21.jpg\nframe_22.jpg\nframe_23.jpg\nframe_24.jpg\nframe_25.jpg\nframe_26.jpg\nframe_27.jpg\nframe_28.jpg\nframe_29.jpg\nframe_30.jpg\nframe_31.jpg\nframe_32.jpg\nframe_33.jpg\nframe_34.jpg\nframe_35.jpg\nframe_36.jpg\nframe_37.jpg\nframe_38.jpg\nframe_39.jpg\nframe_40.jpg\nframe_41.jpg\nframe_42.jpg\nframe_43.jpg\nframe_44.jpg\nframe_45.jpg\nframe_46.jpg\nframe_47.jpg\nframe_48.jpg\nframe_49.jpg\nframe_50.jpg\nframe_51.jpg\nframe_52.jpg\nframe_53.jpg\nframe_54.jpg\nframe_55.jpg\nframe_56.jpg\nframe_57.jpg\nframe_58.jpg\nframe_59.jpg\nframe_60.jpg\nframe_61.jpg\nframe_62.jpg\nframe_63.jpg\nframe_64.jpg\nframe_65.jpg\nframe_66.jpg\nframe_67.jpg\nframe_68.jpg\nframe_69.jpg\nframe_70.jpg\nframe_71.jpg\nframe_72.jpg\nframe_73.jpg\nframe_74.jpg\nframe_75.jpg\nframe_76.jpg\nframe_77.jpg\nframe_78.jpg\nframe_79.jpg\nframe_80.jpg\nframe_81.jpg\nframe_82.jpg\nframe_83.jpg\nframe_84.jpg\nframe_85.jpg\nframe_86.jpg\nframe_87.jpg\nframe_88.jpg\nframe_89.jpg\nframe_90.jpg\nframe_91.jpg\nframe_92.jpg\nframe_93.jpg\nframe_94.jpg\nframe_95.jpg\nframe_96.jpg\nframe_97.jpg\nframe_98.jpg\nframe_99.jpg\nframe_15.jpg\nframe_16.jpg\nframe_17.jpg\nframe_18.jpg\nframe_19.jpg\nframe_20.jpg\nframe_21.jpg\nframe_22.jpg\nframe_23.jpg\nframe_24.jpg\nframe_25.jpg\nframe_26.jpg\nframe_27.jpg\nframe_28.jpg\nframe_29.jpg\nframe_30.jpg\nframe_31.jpg\nframe_32.jpg\nframe_33.jpg\nframe_34.jpg\nframe_35.jpg\nframe_36.jpg\nframe_37.jpg\nframe_38.jpg\nframe_39.jpg\nframe_40.jpg\nframe_41.jpg\nframe_42.jpg\nframe_43.jpg\nframe_44.jpg\nframe_45.jpg\nframe_46.jpg\nframe_47.jpg\nframe_48.jpg\nframe_49.jpg\nframe_50.jpg\nframe_51.jpg\nframe_52.jpg\nframe_53.jpg\nframe_54.jpg\nframe_55.jpg\nframe_56.jpg\nframe_57.jpg\nframe_58.jpg\nframe_59.jpg\nframe_60.jpg\nframe_61.jpg\nframe_62.jpg\nframe_63.jpg\nframe_64.jpg\nframe_65.jpg\nframe_100.jpg\nframe_101.jpg\nframe_102.jpg\nframe_103.jpg\nframe_104.jpg\nframe_105.jpg\nframe_106.jpg\nframe_107.jpg\nframe_108.jpg\nframe_109.jpg\nframe_110.jpg\nframe_111.jpg\nframe_112.jpg\nframe_113.jpg\nframe_15.jpg\nframe_16.jpg\nframe_17.jpg\nframe_18.jpg\nframe_19.jpg\nframe_20.jpg\nframe_21.jpg\nframe_22.jpg\nframe_23.jpg\nframe_24.jpg\nframe_25.jpg\nframe_26.jpg\nframe_27.jpg\nframe_28.jpg\nframe_29.jpg\nframe_30.jpg\nframe_31.jpg\nframe_32.jpg\nframe_33.jpg\nframe_34.jpg\nframe_35.jpg\nframe_36.jpg\nframe_37.jpg\nframe_38.jpg\nframe_39.jpg\nframe_40.jpg\nframe_41.jpg\nframe_42.jpg\nframe_43.jpg\nframe_44.jpg\nframe_45.jpg\nframe_46.jpg\nframe_47.jpg\nframe_48.jpg\nframe_49.jpg\nframe_50.jpg\nframe_51.jpg\nframe_52.jpg\nframe_53.jpg\nframe_54.jpg\nframe_55.jpg\nframe_56.jpg\nframe_57.jpg\nframe_58.jpg\nframe_59.jpg\nframe_60.jpg\nframe_61.jpg\nframe_62.jpg\nframe_63.jpg\nframe_64.jpg\nframe_65.jpg\nframe_66.jpg\nframe_67.jpg\nframe_68.jpg\nframe_69.jpg\nframe_70.jpg\nframe_71.jpg\nframe_72.jpg\nframe_73.jpg\nframe_74.jpg\nframe_75.jpg\nframe_76.jpg\nframe_77.jpg\nframe_78.jpg\nframe_79.jpg\nframe_80.jpg\nframe_81.jpg\nframe_82.jpg\nframe_83.jpg\nframe_84.jpg\nframe_85.jpg\nframe_86.jpg\nframe_87.jpg\nframe_88.jpg\nframe_89.jpg\nframe_90.jpg\nframe_91.jpg\nframe_92.jpg\nframe_93.jpg\nframe_94.jpg\nframe_95.jpg\nframe_96.jpg\nframe_97.jpg\nframe_98.jpg\nframe_99.jpg\nframe_15.jpg\nframe_16.jpg\nframe_17.jpg\nframe_18.jpg\nframe_19.jpg\nframe_20.jpg\nframe_21.jpg\nframe_22.jpg\nframe_23.jpg\nframe_24.jpg\nframe_25.jpg\nframe_26.jpg\nframe_27.jpg\nframe_28.jpg\nframe_29.jpg\nframe_30.jpg\nframe_31.jpg\nframe_32.jpg\nframe_33.jpg\nframe_34.jpg\nframe_35.jpg\nframe_36.jpg\nframe_37.jpg\nframe_38.jpg\nframe_39.jpg\nframe_40.jpg\nframe_41.jpg\nframe_42.jpg\nframe_43.jpg\nframe_44.jpg\nframe_45.jpg\nframe_46.jpg\nframe_47.jpg\nframe_48.jpg\nframe_49.jpg\nframe_50.jpg\nframe_51.jpg\nframe_52.jpg\nframe_53.jpg\nframe_54.jpg\nframe_55.jpg\nframe_56.jpg\nframe_57.jpg\nframe_58.jpg\nframe_59.jpg\nframe_60.jpg\nframe_61.jpg\nframe_62.jpg\nframe_63.jpg\nframe_64.jpg\nframe_65.jpg\nframe_66.jpg\nframe_67.jpg\nframe_68.jpg\nframe_69.jpg\nframe_70.jpg\nframe_71.jpg\nframe_72.jpg\nframe_73.jpg\nframe_74.jpg\nframe_75.jpg\nframe_76.jpg\nframe_77.jpg\nframe_78.jpg\nframe_79.jpg\nframe_80.jpg\nframe_81.jpg\nframe_15.jpg\nframe_16.jpg\nframe_17.jpg\nframe_18.jpg\nframe_19.jpg\nframe_20.jpg\nframe_21.jpg\nframe_22.jpg\nframe_23.jpg\nframe_24.jpg\nframe_25.jpg\nframe_26.jpg\nframe_27.jpg\nframe_28.jpg\nframe_29.jpg\nframe_30.jpg\nframe_31.jpg\nframe_32.jpg\nframe_33.jpg\nframe_34.jpg\nframe_35.jpg\nframe_36.jpg\nframe_37.jpg\nframe_38.jpg\nframe_39.jpg\nframe_40.jpg\nframe_41.jpg\nframe_15.jpg\nframe_16.jpg\nframe_17.jpg\nframe_18.jpg\nframe_19.jpg\nframe_20.jpg\nframe_21.jpg\nframe_22.jpg\nframe_23.jpg\nframe_24.jpg\nframe_25.jpg\nframe_26.jpg\nframe_27.jpg\nframe_28.jpg\nframe_29.jpg\nframe_30.jpg\nframe_31.jpg\nframe_32.jpg\nframe_33.jpg\nframe_34.jpg\nframe_35.jpg\nframe_36.jpg\nframe_37.jpg\nframe_38.jpg\nframe_39.jpg\nframe_40.jpg\nframe_41.jpg\nframe_42.jpg\nframe_43.jpg\nframe_44.jpg\nframe_45.jpg\nframe_46.jpg\nframe_47.jpg\nframe_48.jpg\nframe_49.jpg\nframe_50.jpg\nframe_51.jpg\nframe_52.jpg\nframe_53.jpg\nframe_54.jpg\nframe_55.jpg\nframe_56.jpg\nframe_57.jpg\nframe_58.jpg\nframe_59.jpg\nframe_60.jpg\nframe_61.jpg\nframe_62.jpg\nframe_63.jpg\nframe_64.jpg\nframe_65.jpg\nframe_66.jpg\nframe_67.jpg\nframe_68.jpg\nframe_69.jpg\nframe_70.jpg\nframe_71.jpg\nframe_72.jpg\nframe_73.jpg\nframe_74.jpg\nframe_75.jpg\nframe_76.jpg\nframe_15.jpg\nframe_16.jpg\nframe_17.jpg\nframe_18.jpg\nframe_19.jpg\nframe_20.jpg\nframe_21.jpg\nframe_22.jpg\nframe_23.jpg\nframe_24.jpg\nframe_25.jpg\nframe_26.jpg\nframe_27.jpg\nframe_28.jpg\nframe_29.jpg\nframe_30.jpg\nframe_31.jpg\nframe_32.jpg\nframe_33.jpg\nframe_34.jpg\nframe_35.jpg\nframe_36.jpg\nframe_37.jpg\nframe_38.jpg\nframe_39.jpg\nframe_40.jpg\nframe_41.jpg\nframe_42.jpg\nframe_43.jpg\nframe_44.jpg\nframe_45.jpg\nframe_46.jpg\nframe_47.jpg\nframe_48.jpg\nframe_49.jpg\nframe_50.jpg\nframe_51.jpg\nframe_52.jpg\nframe_53.jpg\nframe_54.jpg\nframe_55.jpg\nframe_56.jpg\nframe_57.jpg\nframe_58.jpg\nframe_59.jpg\nframe_60.jpg\nframe_61.jpg\nframe_62.jpg\nframe_63.jpg\nframe_64.jpg\nframe_65.jpg\nframe_66.jpg\nframe_67.jpg\nframe_68.jpg\nframe_15.jpg\nframe_16.jpg\nframe_17.jpg\nframe_18.jpg\nframe_19.jpg\nframe_20.jpg\nframe_21.jpg\nframe_22.jpg\nframe_23.jpg\nframe_24.jpg\nframe_25.jpg\nframe_26.jpg\nframe_27.jpg\nframe_28.jpg\nframe_29.jpg\nframe_30.jpg\nframe_31.jpg\nframe_32.jpg\nframe_33.jpg\nframe_34.jpg\nframe_35.jpg\nframe_36.jpg\nframe_37.jpg\nframe_38.jpg\nframe_39.jpg\nframe_40.jpg\nframe_41.jpg\nframe_42.jpg\nframe_43.jpg\nframe_44.jpg\nframe_45.jpg\nframe_46.jpg\nframe_47.jpg\nframe_48.jpg\nframe_49.jpg\nframe_50.jpg\nframe_51.jpg\nframe_52.jpg\nframe_53.jpg\nframe_54.jpg\nframe_55.jpg\nframe_56.jpg\nframe_57.jpg\nframe_58.jpg\nframe_59.jpg\nframe_60.jpg\nframe_61.jpg\nframe_62.jpg\nframe_63.jpg\nframe_64.jpg\nframe_65.jpg\nframe_66.jpg\nframe_67.jpg\nframe_68.jpg\nframe_15.jpg\nframe_16.jpg\nframe_17.jpg\nframe_18.jpg\nframe_19.jpg\nframe_20.jpg\nframe_21.jpg\nframe_22.jpg\nframe_23.jpg\nframe_24.jpg\nframe_25.jpg\nframe_26.jpg\nframe_27.jpg\nframe_28.jpg\nframe_29.jpg\nframe_30.jpg\nframe_31.jpg\nframe_32.jpg\nframe_33.jpg\nframe_34.jpg\nframe_35.jpg\nframe_36.jpg\nframe_37.jpg\nframe_38.jpg\nframe_39.jpg\nframe_40.jpg\nframe_41.jpg\nframe_42.jpg\nframe_43.jpg\nframe_44.jpg\nframe_45.jpg\nframe_46.jpg\nframe_47.jpg\nframe_48.jpg\nframe_49.jpg\nframe_50.jpg\nframe_51.jpg\nframe_52.jpg\nframe_53.jpg\nframe_54.jpg\nframe_55.jpg\nframe_56.jpg\nframe_57.jpg\nframe_58.jpg\nframe_59.jpg\nframe_60.jpg\nframe_61.jpg\nframe_15.jpg\nframe_16.jpg\nframe_17.jpg\nframe_18.jpg\nframe_19.jpg\nframe_20.jpg\nframe_21.jpg\nframe_22.jpg\nframe_23.jpg\nframe_24.jpg\nframe_25.jpg\nframe_26.jpg\nframe_27.jpg\nframe_28.jpg\nframe_29.jpg\nframe_30.jpg\nframe_31.jpg\nframe_32.jpg\nframe_33.jpg\nframe_34.jpg\nframe_35.jpg\nframe_36.jpg\nframe_37.jpg\nframe_38.jpg\nframe_39.jpg\nframe_40.jpg\nframe_41.jpg\nframe_42.jpg\nframe_43.jpg\nframe_44.jpg\nframe_45.jpg\nframe_46.jpg\nframe_47.jpg\nframe_48.jpg\nframe_49.jpg\nframe_50.jpg\nframe_51.jpg\nframe_52.jpg\nframe_53.jpg\nframe_54.jpg\nframe_55.jpg\nframe_56.jpg\nframe_57.jpg\nframe_58.jpg\nframe_59.jpg\nframe_60.jpg\nframe_61.jpg\nframe_62.jpg\nframe_15.jpg\nframe_16.jpg\nframe_17.jpg\nframe_18.jpg\nframe_19.jpg\nframe_20.jpg\nframe_21.jpg\nframe_22.jpg\nframe_23.jpg\nframe_24.jpg\nframe_25.jpg\nframe_26.jpg\nframe_27.jpg\nframe_28.jpg\nframe_29.jpg\nframe_30.jpg\nframe_31.jpg\nframe_32.jpg\nframe_33.jpg\nframe_34.jpg\nframe_35.jpg\nframe_36.jpg\nframe_37.jpg\nframe_38.jpg\nframe_39.jpg\nframe_40.jpg\nframe_41.jpg\nframe_42.jpg\nframe_43.jpg\nframe_44.jpg\nframe_45.jpg\nframe_46.jpg\nframe_47.jpg\nframe_48.jpg\nframe_49.jpg\nframe_50.jpg\nframe_51.jpg\nframe_52.jpg\nframe_53.jpg\nframe_54.jpg\nframe_55.jpg\nframe_56.jpg\nframe_57.jpg\nframe_58.jpg\nframe_59.jpg\nframe_60.jpg\nframe_61.jpg\nframe_62.jpg\nframe_63.jpg\nframe_64.jpg\nframe_65.jpg\nframe_66.jpg\nframe_67.jpg\nframe_68.jpg\nframe_69.jpg\nframe_70.jpg\nframe_71.jpg\nframe_72.jpg\nframe_73.jpg\nframe_74.jpg\nframe_75.jpg\nframe_76.jpg\nframe_77.jpg\nframe_78.jpg\nframe_79.jpg\nframe_80.jpg\nframe_81.jpg\nframe_82.jpg\nframe_83.jpg\nframe_84.jpg\nframe_85.jpg\nframe_86.jpg\nframe_100.jpg\nframe_101.jpg\nframe_102.jpg\nframe_103.jpg\nframe_104.jpg\nframe_105.jpg\nframe_106.jpg\nframe_107.jpg\nframe_108.jpg\nframe_109.jpg\nframe_110.jpg\nframe_111.jpg\nframe_112.jpg\nframe_113.jpg\nframe_114.jpg\nframe_115.jpg\nframe_116.jpg\nframe_117.jpg\nframe_118.jpg\nframe_119.jpg\nframe_120.jpg\nframe_121.jpg\nframe_122.jpg\nframe_123.jpg\nframe_124.jpg\nframe_125.jpg\nframe_126.jpg\nframe_127.jpg\nframe_128.jpg\nframe_129.jpg\nframe_130.jpg\nframe_131.jpg\nframe_132.jpg\nframe_133.jpg\nframe_134.jpg\nframe_135.jpg\nframe_136.jpg\nframe_137.jpg\nframe_138.jpg\nframe_139.jpg\nframe_140.jpg\nframe_141.jpg\nframe_142.jpg\nframe_143.jpg\nframe_144.jpg\nframe_145.jpg\nframe_146.jpg\nframe_147.jpg\nframe_148.jpg\nframe_149.jpg\nframe_15.jpg\nframe_150.jpg\nframe_151.jpg\nframe_152.jpg\nframe_153.jpg\nframe_154.jpg\nframe_155.jpg\nframe_156.jpg\nframe_16.jpg\nframe_17.jpg\nframe_18.jpg\nframe_19.jpg\nframe_20.jpg\nframe_21.jpg\nframe_22.jpg\nframe_23.jpg\nframe_24.jpg\nframe_25.jpg\nframe_26.jpg\nframe_27.jpg\nframe_28.jpg\nframe_29.jpg\nframe_30.jpg\nframe_31.jpg\nframe_32.jpg\nframe_33.jpg\nframe_34.jpg\nframe_35.jpg\nframe_36.jpg\nframe_37.jpg\nframe_38.jpg\nframe_39.jpg\nframe_40.jpg\nframe_41.jpg\nframe_42.jpg\nframe_43.jpg\nframe_44.jpg\nframe_45.jpg\nframe_46.jpg\nframe_47.jpg\nframe_48.jpg\nframe_49.jpg\nframe_50.jpg\nframe_51.jpg\nframe_52.jpg\nframe_53.jpg\nframe_54.jpg\nframe_55.jpg\nframe_56.jpg\nframe_57.jpg\nframe_58.jpg\nframe_59.jpg\nframe_60.jpg\nframe_61.jpg\nframe_62.jpg\nframe_63.jpg\nframe_64.jpg\nframe_65.jpg\nframe_66.jpg\nframe_67.jpg\nframe_68.jpg\nframe_69.jpg\nframe_70.jpg\nframe_71.jpg\nframe_72.jpg\nframe_73.jpg\nframe_74.jpg\nframe_75.jpg\nframe_76.jpg\nframe_77.jpg\nframe_78.jpg\nframe_79.jpg\nframe_80.jpg\nframe_81.jpg\nframe_82.jpg\nframe_83.jpg\nframe_84.jpg\nframe_85.jpg\nframe_86.jpg\nframe_87.jpg\nframe_88.jpg\nframe_89.jpg\nframe_90.jpg\nframe_91.jpg\nframe_92.jpg\nframe_93.jpg\nframe_94.jpg\nframe_95.jpg\nframe_96.jpg\nframe_97.jpg\nframe_98.jpg\nframe_99.jpg\nframe_15.jpg\nframe_16.jpg\nframe_17.jpg\nframe_18.jpg\nframe_19.jpg\nframe_20.jpg\nframe_21.jpg\nframe_22.jpg\nframe_23.jpg\nframe_24.jpg\nframe_25.jpg\nframe_26.jpg\nframe_27.jpg\nframe_28.jpg\nframe_29.jpg\nframe_15.jpg\nframe_16.jpg\nframe_17.jpg\nframe_18.jpg\nframe_19.jpg\nframe_20.jpg\nframe_21.jpg\nframe_22.jpg\nframe_23.jpg\nframe_24.jpg\nframe_25.jpg\nframe_26.jpg\nframe_27.jpg\nframe_28.jpg\nframe_29.jpg\nframe_30.jpg\nframe_31.jpg\nframe_32.jpg\nframe_33.jpg\nframe_34.jpg\nframe_35.jpg\nframe_36.jpg\nframe_37.jpg\nframe_38.jpg\nframe_39.jpg\nframe_40.jpg\nframe_41.jpg\nframe_42.jpg\nframe_43.jpg\nframe_44.jpg\nframe_45.jpg\nframe_46.jpg\nframe_47.jpg\nframe_48.jpg\nframe_49.jpg\nframe_50.jpg\nframe_51.jpg\nframe_52.jpg\nframe_53.jpg\nframe_54.jpg\nframe_55.jpg\nframe_56.jpg\nframe_57.jpg\nframe_58.jpg\nframe_59.jpg\nframe_60.jpg\nframe_61.jpg\nframe_62.jpg\nframe_63.jpg\nframe_64.jpg\nframe_65.jpg\nframe_66.jpg\nframe_67.jpg\nframe_68.jpg\nframe_69.jpg\nframe_70.jpg\nframe_71.jpg\nframe_72.jpg\nframe_73.jpg\nframe_74.jpg\nframe_75.jpg\nframe_100.jpg\nframe_101.jpg\nframe_102.jpg\nframe_103.jpg\nframe_104.jpg\nframe_105.jpg\nframe_106.jpg\nframe_107.jpg\nframe_108.jpg\nframe_109.jpg\nframe_110.jpg\nframe_111.jpg\nframe_112.jpg\nframe_113.jpg\nframe_114.jpg\nframe_15.jpg\nframe_16.jpg\nframe_17.jpg\nframe_18.jpg\nframe_19.jpg\nframe_20.jpg\nframe_21.jpg\nframe_22.jpg\nframe_23.jpg\nframe_24.jpg\nframe_25.jpg\nframe_26.jpg\nframe_27.jpg\nframe_28.jpg\nframe_29.jpg\nframe_30.jpg\nframe_31.jpg\nframe_32.jpg\nframe_33.jpg\nframe_34.jpg\nframe_35.jpg\nframe_36.jpg\nframe_37.jpg\nframe_38.jpg\nframe_39.jpg\nframe_40.jpg\nframe_41.jpg\nframe_42.jpg\nframe_43.jpg\nframe_44.jpg\nframe_45.jpg\nframe_46.jpg\nframe_47.jpg\nframe_48.jpg\nframe_49.jpg\nframe_50.jpg\nframe_51.jpg\nframe_52.jpg\nframe_53.jpg\nframe_54.jpg\nframe_55.jpg\nframe_56.jpg\nframe_57.jpg\nframe_58.jpg\nframe_59.jpg\nframe_60.jpg\nframe_61.jpg\nframe_62.jpg\nframe_63.jpg\nframe_64.jpg\nframe_65.jpg\nframe_66.jpg\nframe_67.jpg\nframe_68.jpg\nframe_69.jpg\nframe_70.jpg\nframe_71.jpg\nframe_72.jpg\nframe_73.jpg\nframe_74.jpg\nframe_75.jpg\nframe_76.jpg\nframe_77.jpg\nframe_78.jpg\nframe_79.jpg\nframe_80.jpg\nframe_81.jpg\nframe_82.jpg\nframe_83.jpg\nframe_84.jpg\nframe_85.jpg\nframe_86.jpg\nframe_87.jpg\nframe_88.jpg\nframe_89.jpg\nframe_90.jpg\nframe_91.jpg\nframe_92.jpg\nframe_93.jpg\nframe_94.jpg\nframe_95.jpg\nframe_96.jpg\nframe_97.jpg\nframe_98.jpg\nframe_99.jpg\nframe_15.jpg\nframe_16.jpg\nframe_17.jpg\nframe_18.jpg\nframe_19.jpg\nframe_20.jpg\nframe_21.jpg\nframe_22.jpg\nframe_23.jpg\nframe_24.jpg\nframe_25.jpg\nframe_26.jpg\nframe_27.jpg\nframe_28.jpg\nframe_29.jpg\nframe_30.jpg\nframe_31.jpg\nframe_32.jpg\nframe_33.jpg\nframe_34.jpg\nframe_35.jpg\nframe_36.jpg\nframe_37.jpg\nframe_38.jpg\nframe_39.jpg\nframe_40.jpg\nframe_41.jpg\nframe_42.jpg\nframe_43.jpg\nframe_44.jpg\nframe_45.jpg\nframe_46.jpg\nframe_47.jpg\nframe_48.jpg\nframe_49.jpg\nframe_50.jpg\nframe_51.jpg\nframe_52.jpg\nframe_53.jpg\nframe_54.jpg\nframe_55.jpg\nframe_56.jpg\nframe_57.jpg\nframe_58.jpg\nframe_59.jpg\nframe_60.jpg\nframe_15.jpg\nframe_16.jpg\nframe_17.jpg\nframe_18.jpg\nframe_19.jpg\nframe_20.jpg\nframe_21.jpg\nframe_22.jpg\nframe_23.jpg\nframe_24.jpg\nframe_25.jpg\nframe_26.jpg\nframe_27.jpg\nframe_28.jpg\nframe_29.jpg\nframe_30.jpg\nframe_31.jpg\nframe_32.jpg\nframe_33.jpg\nframe_34.jpg\nframe_35.jpg\nframe_36.jpg\nframe_37.jpg\nframe_38.jpg\nframe_39.jpg\nframe_40.jpg\nframe_41.jpg\nframe_42.jpg\nframe_43.jpg\nframe_44.jpg\nframe_45.jpg\nframe_46.jpg\nframe_47.jpg\nframe_48.jpg\nframe_49.jpg\nframe_50.jpg\nframe_51.jpg\nframe_52.jpg\nframe_53.jpg\nframe_54.jpg\nframe_55.jpg\nframe_56.jpg\nframe_57.jpg\nframe_58.jpg\nframe_59.jpg\nframe_60.jpg\nframe_61.jpg\nframe_62.jpg\nframe_63.jpg\nframe_64.jpg\nframe_65.jpg\nframe_66.jpg\nframe_67.jpg\nframe_68.jpg\nframe_69.jpg\nframe_70.jpg\nframe_71.jpg\nframe_72.jpg\nframe_73.jpg\nframe_74.jpg\nframe_75.jpg\nframe_15.jpg\nframe_16.jpg\nframe_17.jpg\nframe_18.jpg\nframe_19.jpg\nframe_20.jpg\nframe_21.jpg\nframe_22.jpg\nframe_23.jpg\nframe_24.jpg\nframe_25.jpg\nframe_26.jpg\nframe_27.jpg\nframe_28.jpg\nframe_29.jpg\nframe_30.jpg\nframe_31.jpg\nframe_32.jpg\nframe_33.jpg\nframe_34.jpg\nframe_35.jpg\nframe_36.jpg\nframe_37.jpg\nframe_38.jpg\nframe_39.jpg\nframe_40.jpg\nframe_41.jpg\nframe_42.jpg\nframe_43.jpg\nframe_44.jpg\nframe_45.jpg\nframe_46.jpg\nframe_47.jpg\nframe_48.jpg\nframe_49.jpg\nframe_50.jpg\nframe_51.jpg\nframe_52.jpg\nframe_53.jpg\nframe_54.jpg\nframe_55.jpg\nframe_56.jpg\nframe_57.jpg\nframe_58.jpg\nframe_59.jpg\nframe_60.jpg\nframe_61.jpg\nframe_62.jpg\nframe_63.jpg\nframe_64.jpg\nframe_65.jpg\nframe_66.jpg\nframe_67.jpg\nframe_15.jpg\nframe_16.jpg\nframe_17.jpg\nframe_18.jpg\nframe_19.jpg\nframe_20.jpg\nframe_21.jpg\nframe_22.jpg\nframe_23.jpg\nframe_24.jpg\nframe_25.jpg\nframe_26.jpg\nframe_27.jpg\nframe_28.jpg\nframe_29.jpg\nframe_30.jpg\nframe_31.jpg\nframe_32.jpg\nframe_33.jpg\nframe_34.jpg\nframe_35.jpg\nframe_36.jpg\nframe_37.jpg\nframe_38.jpg\nframe_39.jpg\nframe_40.jpg\nframe_41.jpg\nframe_42.jpg\nframe_43.jpg\nframe_44.jpg\nframe_45.jpg\nframe_46.jpg\nframe_47.jpg\nframe_48.jpg\nframe_49.jpg\nframe_50.jpg\nframe_51.jpg\nframe_52.jpg\nframe_53.jpg\nframe_54.jpg\nframe_55.jpg\nframe_56.jpg\nframe_57.jpg\nframe_58.jpg\nframe_59.jpg\nframe_60.jpg\nframe_61.jpg\nframe_62.jpg\nframe_63.jpg\nframe_64.jpg\nframe_65.jpg\nframe_66.jpg\nframe_67.jpg\nframe_68.jpg\nframe_69.jpg\nframe_70.jpg\nframe_71.jpg\nframe_72.jpg\nframe_73.jpg\nframe_74.jpg\nframe_75.jpg\nframe_76.jpg\nframe_77.jpg\nframe_78.jpg\nframe_79.jpg\nframe_80.jpg\nframe_81.jpg\nframe_82.jpg\nframe_83.jpg\nframe_84.jpg\nframe_85.jpg\nframe_86.jpg\nframe_87.jpg\nframe_88.jpg\nframe_89.jpg\nframe_90.jpg\nframe_91.jpg\nframe_15.jpg\nframe_16.jpg\nframe_17.jpg\nframe_18.jpg\nframe_19.jpg\nframe_20.jpg\nframe_21.jpg\nframe_22.jpg\nframe_23.jpg\nframe_24.jpg\nframe_25.jpg\nframe_26.jpg\nframe_27.jpg\nframe_28.jpg\nframe_29.jpg\nframe_30.jpg\nframe_31.jpg\nframe_32.jpg\nframe_33.jpg\nframe_34.jpg\nframe_35.jpg\nframe_36.jpg\nframe_37.jpg\nframe_38.jpg\nframe_39.jpg\nframe_40.jpg\nframe_41.jpg\nframe_42.jpg\nframe_43.jpg\nframe_44.jpg\nframe_45.jpg\nframe_46.jpg\nframe_47.jpg\nframe_48.jpg\nframe_49.jpg\nframe_50.jpg\nframe_51.jpg\nframe_52.jpg\nframe_53.jpg\nframe_54.jpg\nframe_55.jpg\nframe_56.jpg\nframe_57.jpg\nframe_58.jpg\nframe_59.jpg\nframe_60.jpg\nframe_15.jpg\nframe_16.jpg\nframe_17.jpg\nframe_18.jpg\nframe_19.jpg\nframe_20.jpg\nframe_21.jpg\nframe_22.jpg\nframe_23.jpg\nframe_24.jpg\nframe_25.jpg\nframe_26.jpg\nframe_27.jpg\nframe_28.jpg\nframe_29.jpg\nframe_30.jpg\nframe_31.jpg\nframe_32.jpg\nframe_33.jpg\nframe_34.jpg\nframe_35.jpg\nframe_36.jpg\nframe_37.jpg\nframe_38.jpg\nframe_39.jpg\nframe_40.jpg\nframe_41.jpg\nframe_42.jpg\nframe_43.jpg\nframe_44.jpg\nframe_45.jpg\nframe_46.jpg\nframe_47.jpg\nframe_48.jpg\nframe_49.jpg\nframe_50.jpg\nframe_51.jpg\nframe_52.jpg\nframe_53.jpg\nframe_54.jpg\nframe_55.jpg\nframe_56.jpg\nframe_57.jpg\nframe_58.jpg\nframe_59.jpg\nframe_60.jpg\nframe_61.jpg\nframe_62.jpg\nframe_63.jpg\nframe_64.jpg\nframe_65.jpg\nframe_66.jpg\nframe_67.jpg\nframe_68.jpg\nframe_69.jpg\nframe_70.jpg\nframe_71.jpg\nframe_72.jpg\nframe_73.jpg\nframe_74.jpg\nframe_75.jpg\nframe_76.jpg\nframe_77.jpg\nframe_78.jpg\nframe_79.jpg\nframe_80.jpg\nframe_81.jpg\nframe_82.jpg\nframe_83.jpg\nframe_15.jpg\nframe_16.jpg\nframe_17.jpg\nframe_18.jpg\nframe_19.jpg\nframe_20.jpg\nframe_21.jpg\nframe_22.jpg\nframe_23.jpg\nframe_24.jpg\nframe_25.jpg\nframe_26.jpg\nframe_27.jpg\nframe_28.jpg\nframe_29.jpg\nframe_30.jpg\nframe_31.jpg\nframe_32.jpg\nframe_33.jpg\nframe_34.jpg\nframe_35.jpg\nframe_36.jpg\nframe_37.jpg\nframe_38.jpg\nframe_39.jpg\nframe_40.jpg\nframe_41.jpg\nframe_42.jpg\nframe_43.jpg\nframe_44.jpg\nframe_45.jpg\nframe_46.jpg\nframe_47.jpg\nframe_48.jpg\nframe_49.jpg\nframe_50.jpg\nframe_51.jpg\nframe_52.jpg\nframe_53.jpg\nframe_54.jpg\nframe_55.jpg\nframe_56.jpg\nframe_57.jpg\nframe_58.jpg\nframe_59.jpg\nframe_60.jpg\nframe_61.jpg\nframe_62.jpg\nframe_63.jpg\nframe_64.jpg\nframe_65.jpg\nframe_66.jpg\nframe_67.jpg\nframe_68.jpg\nframe_69.jpg\nframe_70.jpg\nframe_71.jpg\nframe_72.jpg\nframe_73.jpg\nframe_74.jpg\nframe_75.jpg\nframe_100.jpg\nframe_101.jpg\nframe_102.jpg\nframe_103.jpg\nframe_104.jpg\nframe_105.jpg\nframe_106.jpg\nframe_107.jpg\nframe_108.jpg\nframe_109.jpg\nframe_110.jpg\nframe_111.jpg\nframe_112.jpg\nframe_113.jpg\nframe_114.jpg\nframe_115.jpg\nframe_116.jpg\nframe_117.jpg\nframe_118.jpg\nframe_119.jpg\nframe_120.jpg\nframe_121.jpg\nframe_122.jpg\nframe_15.jpg\nframe_16.jpg\nframe_17.jpg\nframe_18.jpg\nframe_19.jpg\nframe_20.jpg\nframe_21.jpg\nframe_22.jpg\nframe_23.jpg\nframe_24.jpg\nframe_25.jpg\nframe_26.jpg\nframe_27.jpg\nframe_28.jpg\nframe_29.jpg\nframe_30.jpg\nframe_31.jpg\nframe_32.jpg\nframe_33.jpg\nframe_34.jpg\nframe_35.jpg\nframe_36.jpg\nframe_37.jpg\nframe_38.jpg\nframe_39.jpg\nframe_40.jpg\nframe_41.jpg\nframe_42.jpg\nframe_43.jpg\nframe_44.jpg\nframe_45.jpg\nframe_46.jpg\nframe_47.jpg\nframe_48.jpg\nframe_49.jpg\nframe_50.jpg\nframe_51.jpg\nframe_52.jpg\nframe_53.jpg\nframe_54.jpg\nframe_55.jpg\nframe_56.jpg\nframe_57.jpg\nframe_58.jpg\nframe_59.jpg\nframe_60.jpg\nframe_61.jpg\nframe_62.jpg\nframe_63.jpg\nframe_64.jpg\nframe_65.jpg\nframe_66.jpg\nframe_67.jpg\nframe_68.jpg\nframe_69.jpg\nframe_70.jpg\nframe_71.jpg\nframe_72.jpg\nframe_73.jpg\nframe_74.jpg\nframe_75.jpg\nframe_76.jpg\nframe_77.jpg\nframe_78.jpg\nframe_79.jpg\nframe_80.jpg\nframe_81.jpg\nframe_82.jpg\nframe_83.jpg\nframe_84.jpg\nframe_85.jpg\nframe_86.jpg\nframe_87.jpg\nframe_88.jpg\nframe_89.jpg\nframe_90.jpg\nframe_91.jpg\nframe_92.jpg\nframe_93.jpg\nframe_94.jpg\nframe_95.jpg\nframe_96.jpg\nframe_97.jpg\nframe_98.jpg\nframe_99.jpg\n"
    }
   ],
   "source": [
    "parse_labels(subject_list, True)"
   ]
  },
  {
   "cell_type": "code",
   "execution_count": null,
   "metadata": {},
   "outputs": [],
   "source": []
  },
  {
   "cell_type": "code",
   "execution_count": null,
   "metadata": {},
   "outputs": [],
   "source": []
  }
 ],
 "metadata": {
  "language_info": {
   "codemirror_mode": {
    "name": "ipython",
    "version": 3
   },
   "file_extension": ".py",
   "mimetype": "text/x-python",
   "name": "python",
   "nbconvert_exporter": "python",
   "pygments_lexer": "ipython3",
   "version": "3.8.1-final"
  },
  "orig_nbformat": 2,
  "kernelspec": {
   "name": "tfe",
   "display_name": "tfe"
  }
 },
 "nbformat": 4,
 "nbformat_minor": 2
}