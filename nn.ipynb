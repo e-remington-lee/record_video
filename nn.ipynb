{
 "cells": [
  {
   "cell_type": "code",
   "execution_count": 1,
   "metadata": {},
   "outputs": [],
   "source": [
    "import os\n",
    "import zipfile\n",
    "import random\n",
    "import shutil\n",
    "from shutil import copyfile\n",
    "\n",
    "import tensorflow as tf\n",
    "import numpy as np\n",
    "import matplotlib as plt\n",
    "from tensorflow.keras import layers\n",
    "from tensorflow.keras import Model\n",
    "from tensorflow.keras.optimizers import RMSprop\n",
    "from tensorflow.keras.preprocessing.image import ImageDataGenerator\n",
    "from stn import spatial_transformer_network as transformer\n"
   ]
  },
  {
   "cell_type": "markdown",
   "metadata": {},
   "source": [
    "## maybe use the layers.add function instead?\n",
    "\n",
    "that way for the localization layer, we can get the shape of the last convolution layer and somehow add that to the into the transformer? I still don't get what that part is doing"
   ]
  },
  {
   "cell_type": "code",
   "execution_count": 6,
   "metadata": {},
   "outputs": [
    {
     "output_type": "execute_result",
     "data": {
      "text/plain": "['.DS_Store', 'aia', 'bonnie', 'jules', 'malcolm', 'mery', 'ray', 'README.txt']"
     },
     "metadata": {},
     "execution_count": 6
    }
   ],
   "source": [
    "os.listdir(\"FERG_DB_256\")"
   ]
  },
  {
   "cell_type": "code",
   "execution_count": 6,
   "metadata": {},
   "outputs": [],
   "source": [
    "model = tf.keras.models.Sequential([\n",
    "    tf.keras.layers.Conv2D(512, (3,3), activation=\"relu\", input_shape=(512,512,3)),\n",
    "    tf.keras.layers.Conv2D(512, (3,3), activation=\"relu\"),\n",
    "    tf.keras.layers.MaxPool2D(2,2),\n",
    "    tf.keras.layers.Conv2D(256, (3,3), activation=\"relu\"),\n",
    "    tf.keras.layers.Conv2D(256, (3,3), activation=\"relu\"),\n",
    "    tf.keras.layers.MaxPool2D(2,2),\n",
    "    tf.keras.layers.Dropout(0.2),\n",
    "    tf.keras.layers.Conv2D(128, (3,3), activation=\"relu\"),\n",
    "    tf.keras.layers.MaxPool2D(2,2),\n",
    "    tf.keras.layers.Conv2D(128, (3,3), activation=\"relu\"),\n",
    "    tf.keras.layers.MaxPool2D(2,2),\n",
    "    tf.keras.layers.Flatten()\n",
    "    ])\n",
    "\n",
    "    # tf.keras.layers.Dense(32, activation=\"relu\"),\n",
    "    # localization layer? then transformer? idk what happens here\n",
    "model.add(tf.keras.layers.Dense(50, activation=\"relu\"))\n",
    "\n",
    "model.add(tf.keras.layers.Dense(7, activation=\"softmax\"))"
   ]
  },
  {
   "cell_type": "code",
   "execution_count": 7,
   "metadata": {},
   "outputs": [
    {
     "output_type": "stream",
     "name": "stdout",
     "text": "Model: \"sequential\"\n_________________________________________________________________\nLayer (type)                 Output Shape              Param #   \n=================================================================\nconv2d (Conv2D)              (None, 510, 510, 512)     14336     \n_________________________________________________________________\nconv2d_1 (Conv2D)            (None, 508, 508, 512)     2359808   \n_________________________________________________________________\nmax_pooling2d (MaxPooling2D) (None, 254, 254, 512)     0         \n_________________________________________________________________\nconv2d_2 (Conv2D)            (None, 252, 252, 256)     1179904   \n_________________________________________________________________\nconv2d_3 (Conv2D)            (None, 250, 250, 256)     590080    \n_________________________________________________________________\nmax_pooling2d_1 (MaxPooling2 (None, 125, 125, 256)     0         \n_________________________________________________________________\ndropout (Dropout)            (None, 125, 125, 256)     0         \n_________________________________________________________________\nconv2d_4 (Conv2D)            (None, 123, 123, 128)     295040    \n_________________________________________________________________\nmax_pooling2d_2 (MaxPooling2 (None, 61, 61, 128)       0         \n_________________________________________________________________\nconv2d_5 (Conv2D)            (None, 59, 59, 128)       147584    \n_________________________________________________________________\nmax_pooling2d_3 (MaxPooling2 (None, 29, 29, 128)       0         \n_________________________________________________________________\nflatten (Flatten)            (None, 107648)            0         \n_________________________________________________________________\ndense (Dense)                (None, 50)                5382450   \n_________________________________________________________________\ndense_1 (Dense)              (None, 7)                 357       \n=================================================================\nTotal params: 9,969,559\nTrainable params: 9,969,559\nNon-trainable params: 0\n_________________________________________________________________\n"
    }
   ],
   "source": [
    "model.summary()"
   ]
  },
  {
   "cell_type": "code",
   "execution_count": null,
   "metadata": {},
   "outputs": [],
   "source": []
  }
 ],
 "metadata": {
  "language_info": {
   "codemirror_mode": {
    "name": "ipython",
    "version": 3
   },
   "file_extension": ".py",
   "mimetype": "text/x-python",
   "name": "python",
   "nbconvert_exporter": "python",
   "pygments_lexer": "ipython3",
   "version": "3.8.1-final"
  },
  "orig_nbformat": 2,
  "kernelspec": {
   "name": "tfe",
   "display_name": "tfe"
  }
 },
 "nbformat": 4,
 "nbformat_minor": 2
}