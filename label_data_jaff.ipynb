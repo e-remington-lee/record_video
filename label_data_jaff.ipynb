{
 "cells": [
  {
   "cell_type": "code",
   "execution_count": 19,
   "metadata": {},
   "outputs": [],
   "source": [
    "import os\n",
    "import shutil\n",
    "from shutil import copyfile\n",
    "from pathlib import Path\n",
    "import numpy as np\n",
    "from PIL import Image\n",
    "import csv\n",
    "import random\n",
    "import tensorflow as tf\n",
    "import matplotlib.pyplot as plt\n",
    "import matplotlib.image as mpimg\n"
   ]
  },
  {
   "cell_type": "code",
   "execution_count": 20,
   "metadata": {},
   "outputs": [
    {
     "output_type": "execute_result",
     "data": {
      "text/plain": "['NA.DI1.214.tiff',\n 'NM.DI3.109.tiff',\n 'MK.SA1.119.tiff',\n 'KM.SA2.10.tiff',\n 'UY.DI2.150.tiff',\n 'YM.FE2.68.tiff',\n 'YM.HA2.53.tiff',\n 'NM.DI1.107.tiff',\n 'NA.SA3.207.tiff',\n 'KM.AN1.17.tiff']"
     },
     "metadata": {},
     "execution_count": 20
    }
   ],
   "source": [
    "path = \"jaffedbase/images/\"\n",
    "emotion_path = \"emotions_copy_test_dir/\"\n",
    "    \n",
    "images = os.listdir(path)\n",
    "random.shuffle(images)\n",
    "images[0:10]"
   ]
  },
  {
   "cell_type": "code",
   "execution_count": 16,
   "metadata": {},
   "outputs": [],
   "source": [
    "def copy_files(pic, orignal_path, emotion, final_dir):\n",
    "    file_ = os.path.join(orignal_path, pic)\n",
    "    emotion_dir = os.path.join(final_dir, emotion)\n",
    "    dest_ = os.path.join(emotion_dir, pic)\n",
    "    if os.path.getsize(file_) != 0:\n",
    "        copyfile(file_, dest_)"
   ]
  },
  {
   "cell_type": "code",
   "execution_count": 14,
   "metadata": {},
   "outputs": [
    {
     "output_type": "stream",
     "name": "stdout",
     "text": "yes\n"
    }
   ],
   "source": [
    "if \"DI\" in images[5]:\n",
    "    xyz = os.path.join(emotion_path, \"train\")\n",
    "    copy_files(images[5], path, \"disgust\", xyz)\n",
    "    print(\"yes\")\n",
    "else:\n",
    "    print(\"no\")"
   ]
  },
  {
   "cell_type": "code",
   "execution_count": null,
   "metadata": {},
   "outputs": [],
   "source": []
  }
 ],
 "metadata": {
  "language_info": {
   "codemirror_mode": {
    "name": "ipython",
    "version": 3
   },
   "file_extension": ".py",
   "mimetype": "text/x-python",
   "name": "python",
   "nbconvert_exporter": "python",
   "pygments_lexer": "ipython3",
   "version": "3.8.1-final"
  },
  "orig_nbformat": 2,
  "kernelspec": {
   "name": "tfe",
   "display_name": "tfe"
  }
 },
 "nbformat": 4,
 "nbformat_minor": 2
}