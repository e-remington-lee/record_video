{
 "cells": [
  {
   "cell_type": "code",
   "execution_count": 5,
   "metadata": {},
   "outputs": [],
   "source": [
    "import os\n",
    "import shutil\n",
    "from shutil import copyfile\n",
    "from pathlib import Path\n",
    "import numpy as np\n",
    "from PIL import Image\n",
    "import csv\n",
    "import random\n",
    "import tensorflow as tf\n",
    "import matplotlib.pyplot as plt\n",
    "import matplotlib.image as mpimg\n"
   ]
  },
  {
   "cell_type": "code",
   "execution_count": 12,
   "metadata": {},
   "outputs": [],
   "source": [
    "root_image_path = \"jaffedbase/images/\"\n",
    "root_dir = \"emotions/\"\n",
    "    \n",
    "images = os.listdir(root_image_path)\n",
    "random.shuffle(images)"
   ]
  },
  {
   "cell_type": "code",
   "execution_count": 8,
   "metadata": {
    "tags": []
   },
   "outputs": [
    {
     "output_type": "stream",
     "name": "stdout",
     "text": "106\n53\n54\n"
    }
   ],
   "source": [
    "length = len(images)\n",
    "split = 0.5\n",
    "train_length = int(length*split)\n",
    "# v_t_length\n",
    "\n",
    "train_pics = images[0:train_length]\n",
    "\n",
    "test_and_val_pics = images[train_length:]\n",
    "\n",
    "validation_pics = test_and_val_pics[:int(len(test_and_val_pics)//2)]\n",
    "\n",
    "test_pics = test_and_val_pics[int(len(test_and_val_pics)//2):]\n",
    "\n",
    "print(len(train_pics))\n",
    "print(len(validation_pics))\n",
    "print(len(test_pics))"
   ]
  },
  {
   "cell_type": "code",
   "execution_count": 9,
   "metadata": {},
   "outputs": [],
   "source": [
    "def copy_files(pic, orignal_path, emotion, final_dir):\n",
    "    file_ = os.path.join(orignal_path, pic)\n",
    "    emotion_dir = os.path.join(final_dir, emotion)\n",
    "    dest_ = os.path.join(emotion_dir, pic)\n",
    "    if os.path.getsize(file_) != 0:\n",
    "        copyfile(file_, dest_)"
   ]
  },
  {
   "cell_type": "code",
   "execution_count": 10,
   "metadata": {},
   "outputs": [],
   "source": [
    "def save_images(image_list, ttv):\n",
    "    for image in image_list:\n",
    "        if \".AN\" in image:\n",
    "            final_dir = os.path.join(root_dir, ttv)\n",
    "            copy_files(image, root_image_path, \"anger\", final_dir)\n",
    "        elif \".DI\" in image:\n",
    "            final_dir = os.path.join(root_dir, ttv)\n",
    "            copy_files(image, root_image_path, \"disgust\", final_dir)\n",
    "        elif \".FE\" in image:\n",
    "            final_dir = os.path.join(root_dir, ttv)\n",
    "            copy_files(image, root_image_path, \"fear\", final_dir)\n",
    "        elif \".HA\" in image:\n",
    "            final_dir = os.path.join(root_dir, ttv)\n",
    "            copy_files(image, root_image_path, \"joy\", final_dir)\n",
    "        elif \".NE\" in image:\n",
    "            final_dir = os.path.join(root_dir, ttv)\n",
    "            copy_files(image, root_image_path, \"neutral\", final_dir)\n",
    "        elif \".SA\" in image:\n",
    "            final_dir = os.path.join(root_dir, ttv)\n",
    "            copy_files(image, root_image_path, \"sadness\", final_dir)\n",
    "        elif \".SU\" in image:\n",
    "            final_dir = os.path.join(root_dir, ttv)\n",
    "            copy_files(image, root_image_path, \"surprise\", final_dir)\n",
    "        "
   ]
  },
  {
   "cell_type": "code",
   "execution_count": 13,
   "metadata": {},
   "outputs": [],
   "source": [
    "save_images(train_pics, \"train\")\n",
    "save_images(validation_pics, \"validation\")\n",
    "save_images(test_pics, \"test\")"
   ]
  },
  {
   "cell_type": "code",
   "execution_count": null,
   "metadata": {},
   "outputs": [],
   "source": []
  }
 ],
 "metadata": {
  "language_info": {
   "codemirror_mode": {
    "name": "ipython",
    "version": 3
   },
   "file_extension": ".py",
   "mimetype": "text/x-python",
   "name": "python",
   "nbconvert_exporter": "python",
   "pygments_lexer": "ipython3",
   "version": "3.8.1-final"
  },
  "orig_nbformat": 2,
  "kernelspec": {
   "name": "tfe",
   "display_name": "tfe"
  }
 },
 "nbformat": 4,
 "nbformat_minor": 2
}