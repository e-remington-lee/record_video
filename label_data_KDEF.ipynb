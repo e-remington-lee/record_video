{
 "cells": [
  {
   "cell_type": "code",
   "execution_count": 1,
   "metadata": {},
   "outputs": [],
   "source": [
    "import os\n",
    "import random\n",
    "import shutil\n",
    "from shutil import copyfile"
   ]
  },
  {
   "cell_type": "code",
   "execution_count": 2,
   "metadata": {},
   "outputs": [],
   "source": [
    "database_path = \"KDEF_and_AKDEF/KDEF/\"\n",
    "global_emotion_dir = \"emotions_5/\""
   ]
  },
  {
   "cell_type": "code",
   "execution_count": 3,
   "metadata": {
    "tags": []
   },
   "outputs": [
    {
     "output_type": "stream",
     "name": "stdout",
     "text": "FL\n0.9\n"
    }
   ],
   "source": [
    "s = \"AF01ANFL.jpg\"\n",
    "print(s[6:8])\n",
    "ttv_split = 0.8\n",
    "test_val_split = (1-ttv_split)/2 + ttv_split\n",
    "print(test_val_split)"
   ]
  },
  {
   "cell_type": "code",
   "execution_count": 4,
   "metadata": {},
   "outputs": [],
   "source": [
    "def parse_images(directory):\n",
    "    dir_list = os.listdir(directory)\n",
    "    for item in dir_list:\n",
    "        file_or_dir = os.path.join(directory, item)\n",
    "        if os.path.isdir(file_or_dir):\n",
    "            parse_images(file_or_dir)\n",
    "        else:\n",
    "            profile = item[6:8]\n",
    "            emotion = item[4:6]\n",
    "            if profile == \"FL\" or profile == \"FR\":\n",
    "                continue\n",
    "            \n",
    "            randint = random.random()\n",
    "            ttv_split = 0.8\n",
    "            test_val_split = (1-ttv_split)/2 + ttv_split\n",
    "            if randint < ttv_split:\n",
    "                train_test_validate = \"train\"\n",
    "            elif randint >= ttv_split and randint < test_val_split:\n",
    "                train_test_validate = \"validation\"\n",
    "            else:       \n",
    "                train_test_validate = \"test\"  \n",
    "\n",
    "            if emotion == \"HA\":\n",
    "                emotion_ = \"joy\"\n",
    "                copy_files(item, directory, emotion_, global_emotion_dir, train_test_validate)\n",
    "            elif emotion == \"SA\":\n",
    "                emotion_ = \"sadness\"\n",
    "                copy_files(item, directory, emotion_, global_emotion_dir, train_test_validate)\n",
    "            elif emotion == \"SU\":\n",
    "                emotion_ = \"surprise_fear\"\n",
    "                copy_files(item, directory, emotion_, global_emotion_dir, train_test_validate)\n",
    "            elif emotion == \"DI\":\n",
    "                emotion_ = \"anger_disgust\"\n",
    "                copy_files(item,  directory, emotion_, global_emotion_dir, train_test_validate)\n",
    "            elif emotion == \"AF\":\n",
    "                emotion_ = \"surprise_fear\"\n",
    "                copy_files(item, directory, emotion_, global_emotion_dir, train_test_validate)\n",
    "            elif emotion == \"AN\":\n",
    "                emotion_ = \"anger_disgust\"\n",
    "                copy_files(item, directory, emotion_, global_emotion_dir, train_test_validate)\n",
    "            elif emotion == \"NE\":\n",
    "                emotion_ = \"neutral\"\n",
    "                copy_files(item, directory, emotion_, global_emotion_dir, train_test_validate)\n",
    "            else:\n",
    "                continue\n",
    "\n",
    "\n"
   ]
  },
  {
   "cell_type": "code",
   "execution_count": 5,
   "metadata": {},
   "outputs": [],
   "source": [
    "def copy_files(pic, orignal_dir, emotion_, global_emotion_dir, ttv):\n",
    "    file_ = os.path.join(orignal_dir, pic)\n",
    "    ttv_dir = os.path.join(global_emotion_dir, ttv)\n",
    "    print(ttv)\n",
    "    emotion_dir = os.path.join(ttv_dir, emotion_)\n",
    "    dest_ = os.path.join(emotion_dir, pic)\n",
    "    if os.path.getsize(file_) != 0:\n",
    "        copyfile(file_, dest_)"
   ]
  },
  {
   "cell_type": "code",
   "execution_count": 6,
   "metadata": {
    "tags": []
   },
   "outputs": [
    {
     "output_type": "stream",
     "name": "stdout",
     "text": "train\ntrain\ntrain\ntrain\ntest\ntest\ntest\ntrain\ntrain\nvalidation\ntrain\ntrain\ntrain\ntrain\ntrain\ntrain\ntrain\nvalidation\ntrain\ntrain\ntrain\ntrain\ntrain\ntrain\nvalidation\ntrain\ntrain\ntrain\ntrain\ntrain\ntrain\ntrain\ntest\ntrain\ntrain\ntrain\ntest\ntest\ntrain\ntrain\ntrain\ntrain\ntest\ntrain\ntrain\ntrain\ntrain\ntrain\ntrain\ntest\ntest\ntrain\ntrain\ntrain\ntrain\ntrain\ntrain\ntrain\ntest\ntrain\ntest\ntrain\ntrain\ntrain\ntrain\ntrain\ntrain\ntest\ntest\ntrain\ntrain\ntrain\ntrain\ntrain\nvalidation\ntrain\ntrain\ntrain\ntest\ntrain\ntrain\ntrain\ntrain\nvalidation\ntrain\ntrain\ntrain\ntrain\nvalidation\nvalidation\ntrain\ntrain\ntrain\ntrain\ntrain\ntrain\ntrain\ntrain\ntrain\nvalidation\ntrain\nvalidation\ntrain\ntrain\ntrain\ntrain\ntrain\ntrain\ntrain\ntrain\ntest\ntrain\ntrain\ntest\ntrain\ntest\ntrain\ntest\ntrain\ntrain\ntrain\ntrain\ntrain\ntrain\ntrain\ntrain\nvalidation\ntrain\ntrain\ntrain\ntrain\ntrain\nvalidation\ntrain\ntrain\nvalidation\nvalidation\ntest\ntrain\ntrain\ntrain\ntrain\ntrain\nvalidation\ntrain\ntrain\ntrain\nvalidation\ntrain\nvalidation\ntrain\ntrain\ntrain\ntrain\ntrain\ntrain\ntrain\ntrain\ntrain\nvalidation\nvalidation\ntest\ntrain\nvalidation\ntrain\ntrain\ntrain\ntrain\ntrain\ntrain\ntrain\ntest\ntrain\ntrain\ntrain\ntrain\ntrain\ntrain\ntrain\nvalidation\nvalidation\ntrain\ntrain\ntrain\ntest\ntrain\ntrain\ntrain\ntrain\ntrain\ntrain\ntrain\ntrain\ntrain\nvalidation\ntrain\ntrain\ntrain\ntrain\ntrain\ntest\ntrain\ntrain\ntrain\ntrain\ntrain\ntrain\ntrain\ntest\ntrain\ntrain\ntrain\ntrain\ntest\ntrain\ntrain\ntrain\ntest\ntrain\ntest\ntrain\ntrain\ntrain\nvalidation\nvalidation\ntrain\ntrain\ntrain\ntrain\ntrain\ntrain\ntrain\ntrain\ntest\ntrain\ntrain\ntrain\ntrain\ntrain\ntest\ntrain\ntrain\ntrain\ntrain\nvalidation\ntrain\ntrain\ntrain\ntrain\ntrain\ntrain\ntest\ntrain\ntrain\ntrain\ntrain\ntrain\ntrain\ntrain\ntrain\ntrain\ntrain\ntest\ntrain\ntrain\ntrain\ntest\ntrain\ntest\ntrain\nvalidation\nvalidation\ntrain\ntrain\ntrain\nvalidation\ntrain\ntrain\ntrain\ntrain\ntrain\ntrain\ntest\ntrain\ntest\nvalidation\ntrain\ntrain\ntest\ntrain\ntrain\ntrain\ntrain\ntrain\ntrain\ntest\ntrain\ntrain\ntrain\ntrain\ntrain\ntrain\ntest\ntest\nvalidation\ntrain\ntrain\ntrain\ntrain\ntrain\ntrain\ntrain\ntrain\ntrain\ntrain\ntrain\ntrain\ntrain\ntrain\ntrain\ntest\nvalidation\ntest\ntrain\ntrain\ntrain\ntrain\ntrain\ntest\ntrain\ntrain\ntrain\ntrain\ntrain\ntrain\ntrain\ntrain\ntrain\ntrain\ntrain\nvalidation\ntrain\ntrain\ntrain\ntrain\ntrain\ntrain\ntrain\ntrain\ntrain\ntest\ntest\ntrain\ntrain\ntrain\ntrain\ntrain\ntrain\ntrain\ntrain\ntrain\ntrain\ntrain\ntrain\nvalidation\ntrain\ntrain\ntrain\ntrain\ntrain\ntrain\ntrain\nvalidation\ntrain\ntrain\nvalidation\ntrain\ntrain\ntrain\ntrain\ntrain\ntrain\ntest\ntrain\ntrain\ntrain\ntrain\ntrain\ntrain\ntrain\ntrain\ntrain\ntrain\ntrain\ntrain\ntrain\ntrain\ntrain\ntrain\ntrain\ntrain\ntrain\ntrain\ntest\ntrain\ntrain\ntrain\ntrain\ntrain\ntrain\ntrain\ntrain\ntrain\ntrain\ntrain\ntrain\ntrain\ntest\ntrain\ntrain\nvalidation\ntrain\ntrain\ntrain\ntrain\ntrain\ntrain\nvalidation\ntrain\ntrain\ntrain\ntrain\ntrain\ntrain\ntrain\ntrain\ntrain\ntrain\ntrain\ntrain\nvalidation\ntrain\ntrain\ntrain\ntrain\ntrain\ntrain\ntrain\ntrain\ntrain\ntest\ntrain\ntrain\ntest\ntrain\ntrain\ntrain\ntrain\ntrain\ntrain\ntrain\ntrain\ntrain\ntrain\ntrain\ntrain\ntrain\ntrain\nvalidation\ntrain\ntrain\ntrain\ntrain\ntrain\ntrain\ntrain\ntrain\ntrain\ntrain\ntrain\ntrain\ntrain\ntrain\ntrain\ntrain\ntrain\ntrain\ntrain\ntrain\ntrain\ntest\ntrain\ntrain\ntrain\ntrain\ntrain\ntrain\ntrain\ntrain\ntrain\ntrain\ntrain\ntrain\ntrain\ntrain\ntrain\ntest\ntrain\ntrain\ntrain\ntrain\ntrain\ntrain\nvalidation\ntest\nvalidation\ntrain\ntrain\ntrain\ntrain\nvalidation\ntrain\ntrain\ntrain\ntrain\ntrain\ntrain\ntrain\ntrain\ntrain\ntrain\ntest\ntrain\ntrain\ntrain\ntrain\ntrain\ntrain\ntrain\ntrain\nvalidation\ntrain\ntrain\ntrain\ntrain\nvalidation\ntrain\ntrain\ntrain\ntrain\ntrain\ntrain\ntrain\ntrain\ntrain\nvalidation\ntrain\ntrain\ntrain\nvalidation\ntrain\ntrain\ntrain\ntrain\ntrain\ntrain\ntrain\nvalidation\ntrain\ntrain\ntrain\ntrain\ntest\ntrain\ntrain\ntrain\nvalidation\ntrain\ntrain\ntest\ntrain\ntrain\ntrain\ntrain\ntrain\ntrain\ntrain\ntest\ntest\ntrain\ntest\ntrain\ntrain\ntest\ntrain\ntrain\ntrain\ntrain\ntrain\ntrain\ntest\ntrain\ntest\nvalidation\ntrain\ntest\ntrain\nvalidation\ntrain\ntrain\nvalidation\ntrain\ntrain\ntrain\ntest\ntrain\ntrain\ntrain\nvalidation\ntrain\ntrain\ntrain\nvalidation\ntrain\ntrain\ntrain\ntrain\ntrain\ntrain\nvalidation\ntrain\ntrain\ntrain\ntrain\ntrain\ntrain\ntrain\ntrain\ntrain\ntrain\ntrain\nvalidation\nvalidation\ntrain\ntest\ntrain\ntrain\ntrain\ntrain\ntrain\ntrain\ntest\ntrain\ntrain\ntrain\ntrain\ntrain\ntest\nvalidation\ntrain\nvalidation\ntrain\ntrain\ntest\ntrain\nvalidation\ntrain\ntrain\ntrain\nvalidation\ntrain\ntrain\ntrain\ntrain\nvalidation\ntrain\nvalidation\ntrain\nvalidation\ntrain\ntrain\ntest\ntest\ntrain\ntrain\ntrain\ntrain\ntrain\nvalidation\ntrain\ntrain\ntest\ntrain\ntrain\ntrain\nvalidation\ntrain\ntrain\nvalidation\ntrain\ntrain\ntrain\ntrain\ntrain\ntrain\ntrain\ntrain\ntrain\ntrain\ntrain\ntrain\ntrain\ntrain\ntrain\ntrain\ntrain\ntrain\ntrain\nvalidation\ntrain\ntrain\ntrain\ntrain\ntrain\ntrain\ntrain\ntrain\ntrain\nvalidation\ntest\nvalidation\ntrain\ntrain\ntrain\ntest\ntest\ntrain\ntest\ntrain\ntrain\ntest\ntrain\ntrain\ntrain\ntest\ntrain\ntrain\ntrain\ntrain\ntrain\ntrain\ntrain\nvalidation\ntrain\ntrain\ntrain\nvalidation\ntrain\ntrain\ntrain\nvalidation\ntrain\ntrain\ntrain\ntrain\ntrain\ntrain\ntrain\ntest\ntrain\ntrain\ntrain\ntest\ntrain\ntrain\nvalidation\ntrain\ntrain\ntrain\ntrain\ntrain\ntrain\ntrain\ntrain\ntrain\ntrain\nvalidation\nvalidation\ntrain\ntrain\ntrain\ntrain\ntest\ntrain\ntrain\ntrain\ntrain\ntrain\ntrain\ntrain\ntrain\ntrain\nvalidation\ntrain\ntrain\ntrain\ntrain\ntrain\ntrain\ntrain\ntrain\ntrain\ntrain\ntrain\ntrain\ntrain\ntrain\ntrain\nvalidation\ntrain\ntrain\ntrain\ntrain\ntrain\ntrain\nvalidation\nvalidation\ntrain\ntrain\ntrain\ntrain\ntest\ntrain\ntest\ntrain\nvalidation\ntrain\ntrain\ntest\ntrain\ntrain\nvalidation\ntrain\ntrain\ntrain\ntrain\ntrain\nvalidation\ntrain\nvalidation\ntrain\ntrain\ntrain\ntrain\ntrain\ntrain\nvalidation\ntrain\ntrain\ntrain\ntrain\ntrain\ntrain\nvalidation\ntrain\ntrain\nvalidation\ntrain\nvalidation\ntest\ntrain\ntrain\ntrain\ntrain\ntrain\ntrain\ntest\ntrain\ntrain\ntrain\ntest\ntrain\ntrain\ntrain\ntrain\ntest\ntrain\ntrain\ntrain\ntrain\ntest\ntrain\ntrain\ntrain\ntrain\ntrain\nvalidation\nvalidation\ntrain\ntrain\ntrain\nvalidation\ntrain\nvalidation\nvalidation\ntest\ntrain\ntest\ntrain\ntrain\nvalidation\ntrain\ntrain\ntrain\ntrain\ntrain\ntrain\ntrain\ntest\ntrain\ntest\nvalidation\ntrain\ntest\ntest\ntrain\ntrain\ntrain\ntrain\ntrain\ntrain\ntrain\ntrain\ntrain\ntest\ntrain\ntrain\ntrain\ntrain\ntrain\ntrain\ntrain\ntrain\nvalidation\ntrain\ntrain\nvalidation\nvalidation\ntrain\ntrain\ntrain\ntest\ntrain\ntrain\ntrain\ntrain\ntrain\ntrain\ntrain\ntrain\ntest\ntest\ntrain\ntrain\ntrain\ntrain\ntrain\ntest\ntrain\ntrain\ntrain\ntrain\ntrain\ntrain\ntrain\ntrain\ntest\ntrain\ntrain\ntrain\ntest\ntrain\ntrain\ntrain\ntrain\nvalidation\ntrain\ntrain\ntrain\nvalidation\ntrain\ntrain\ntrain\ntrain\ntrain\ntrain\ntrain\ntrain\ntrain\ntrain\ntrain\ntest\ntrain\ntrain\ntrain\ntrain\ntrain\ntrain\ntrain\ntest\ntrain\ntrain\ntrain\ntrain\ntrain\ntrain\ntrain\ntrain\ntrain\ntrain\ntrain\ntrain\ntrain\ntrain\ntest\ntrain\ntrain\ntrain\ntrain\ntrain\ntrain\ntest\nvalidation\nvalidation\ntrain\ntrain\ntrain\ntrain\ntrain\ntrain\nvalidation\ntrain\nvalidation\ntrain\ntrain\ntrain\ntest\ntrain\ntest\ntrain\ntrain\nvalidation\ntrain\ntest\nvalidation\ntrain\ntrain\ntrain\ntest\ntrain\ntest\ntrain\ntrain\ntrain\ntrain\ntrain\ntrain\ntrain\nvalidation\ntrain\ntrain\ntrain\ntrain\ntrain\ntrain\ntrain\ntest\nvalidation\ntest\ntrain\nvalidation\ntest\nvalidation\ntrain\ntrain\ntrain\ntrain\nvalidation\ntest\ntrain\ntest\nvalidation\nvalidation\ntrain\ntrain\ntrain\ntrain\ntrain\ntest\ntrain\ntrain\ntrain\ntrain\ntrain\ntest\nvalidation\ntrain\ntest\ntrain\ntrain\ntrain\ntrain\ntrain\ntrain\ntrain\ntrain\ntrain\ntrain\ntrain\ntrain\ntrain\nvalidation\ntrain\nvalidation\ntrain\ntrain\ntrain\ntrain\ntrain\ntrain\ntrain\ntrain\ntrain\ntrain\ntrain\ntrain\ntrain\ntrain\ntrain\ntrain\ntrain\ntrain\ntrain\ntrain\ntest\ntrain\ntrain\ntrain\nvalidation\ntrain\ntrain\ntrain\ntrain\ntrain\ntrain\ntest\ntest\ntrain\ntrain\ntrain\ntrain\ntrain\nvalidation\ntrain\ntrain\ntrain\ntest\ntrain\ntrain\ntrain\ntrain\ntrain\ntrain\ntrain\ntrain\ntrain\ntrain\nvalidation\ntrain\ntrain\ntrain\ntrain\ntrain\ntest\ntrain\ntrain\ntrain\ntrain\ntrain\ntrain\ntrain\ntrain\nvalidation\ntest\ntrain\ntrain\nvalidation\ntrain\ntrain\ntrain\ntest\ntrain\nvalidation\ntrain\ntrain\ntrain\ntrain\ntrain\nvalidation\ntrain\ntest\ntrain\ntrain\ntrain\ntrain\ntrain\ntrain\ntrain\ntrain\ntrain\ntrain\ntrain\ntest\ntrain\ntrain\ntrain\ntrain\ntrain\ntrain\ntrain\ntrain\nvalidation\ntrain\ntrain\ntrain\ntrain\ntrain\ntrain\ntrain\ntrain\ntrain\ntest\nvalidation\ntrain\ntrain\ntrain\ntrain\ntrain\nvalidation\ntrain\ntrain\ntrain\ntest\ntrain\ntrain\ntrain\ntrain\nvalidation\ntrain\ntrain\ntrain\ntrain\ntrain\ntrain\ntest\ntest\ntrain\ntrain\ntrain\ntrain\nvalidation\ntrain\ntest\ntrain\ntrain\nvalidation\ntrain\ntrain\ntrain\ntrain\ntest\ntrain\ntrain\ntrain\ntrain\ntest\nvalidation\ntrain\ntrain\ntrain\ntrain\ntrain\ntrain\ntrain\ntrain\ntrain\ntrain\ntrain\ntest\ntrain\ntrain\ntrain\ntrain\ntest\ntrain\nvalidation\ntrain\ntrain\ntest\ntrain\nvalidation\ntrain\ntrain\ntrain\ntrain\nvalidation\ntrain\ntrain\ntest\ntest\ntrain\ntrain\ntrain\ntrain\ntrain\ntrain\ntrain\ntrain\ntrain\ntrain\nvalidation\ntrain\ntrain\ntrain\nvalidation\nvalidation\ntest\ntest\ntest\ntrain\ntrain\ntrain\ntrain\nvalidation\ntrain\ntrain\ntrain\ntrain\ntrain\ntrain\ntrain\ntrain\ntrain\ntrain\ntrain\ntest\ntrain\ntrain\ntrain\ntrain\nvalidation\ntrain\ntrain\ntest\ntrain\ntrain\ntrain\ntest\ntrain\ntrain\ntrain\ntest\ntest\nvalidation\ntrain\nvalidation\ntrain\ntest\ntrain\ntrain\nvalidation\ntrain\ntrain\ntrain\ntrain\ntrain\ntrain\ntrain\ntrain\ntrain\ntrain\ntrain\ntrain\ntrain\ntest\ntrain\ntrain\ntrain\ntrain\ntrain\ntrain\ntrain\ntest\ntrain\ntest\ntrain\ntrain\ntrain\ntrain\ntrain\ntrain\ntest\ntrain\ntrain\ntrain\ntrain\ntrain\ntrain\ntrain\ntrain\ntrain\ntrain\ntrain\ntrain\ntrain\ntrain\ntrain\ntest\nvalidation\ntrain\ntrain\ntrain\ntest\ntest\ntrain\ntrain\ntrain\ntest\nvalidation\ntrain\ntrain\ntrain\nvalidation\ntrain\nvalidation\nvalidation\ntrain\ntrain\ntrain\nvalidation\ntrain\ntrain\ntrain\ntrain\ntrain\nvalidation\ntrain\ntrain\ntest\ntrain\ntrain\ntrain\ntrain\ntrain\ntrain\nvalidation\ntrain\ntrain\ntrain\ntrain\ntrain\ntrain\nvalidation\ntrain\ntrain\ntrain\ntrain\ntrain\ntrain\ntrain\ntrain\ntrain\ntrain\ntrain\ntrain\ntrain\ntrain\ntrain\ntrain\ntrain\ntest\ntrain\ntrain\ntrain\ntrain\ntrain\nvalidation\ntrain\ntrain\ntrain\ntrain\ntrain\nvalidation\ntrain\ntrain\ntrain\ntrain\ntrain\ntrain\ntrain\ntrain\ntrain\ntrain\ntrain\ntrain\ntrain\ntest\ntrain\ntrain\nvalidation\ntrain\ntrain\ntrain\ntrain\ntrain\ntrain\ntrain\ntrain\ntrain\ntest\ntrain\ntrain\ntrain\ntrain\ntrain\ntrain\nvalidation\nvalidation\ntrain\ntrain\ntrain\ntrain\ntest\ntrain\ntrain\nvalidation\ntrain\nvalidation\ntrain\nvalidation\ntrain\ntrain\ntrain\ntrain\ntest\ntrain\ntrain\ntest\ntrain\ntrain\ntrain\ntrain\ntrain\ntrain\ntrain\ntrain\ntrain\ntrain\ntest\ntrain\ntrain\ntrain\nvalidation\ntrain\ntrain\ntest\ntrain\ntrain\ntrain\ntrain\ntrain\nvalidation\ntrain\ntrain\ntrain\ntrain\ntrain\ntrain\ntest\ntrain\ntrain\ntrain\ntest\ntrain\nvalidation\ntrain\ntrain\ntrain\ntrain\ntrain\ntrain\ntrain\nvalidation\nvalidation\ntrain\ntrain\ntrain\ntrain\ntrain\ntrain\ntest\ntrain\ntrain\nvalidation\ntest\nvalidation\nvalidation\ntest\ntrain\ntrain\ntest\ntrain\ntrain\ntrain\ntrain\ntrain\ntest\ntrain\ntrain\ntrain\ntrain\ntest\ntrain\ntrain\ntrain\ntrain\ntrain\ntrain\ntrain\ntrain\ntrain\ntrain\nvalidation\ntrain\ntrain\ntrain\ntrain\ntrain\nvalidation\ntrain\ntrain\ntrain\ntrain\ntrain\ntest\ntrain\ntrain\ntrain\ntrain\ntrain\ntrain\ntrain\ntrain\ntrain\ntrain\nvalidation\ntrain\ntrain\ntrain\ntrain\ntrain\nvalidation\ntrain\ntrain\ntrain\ntrain\ntrain\ntrain\ntrain\ntrain\ntrain\ntrain\ntrain\ntest\ntrain\ntest\ntrain\ntrain\ntrain\ntrain\nvalidation\ntrain\ntrain\ntrain\ntrain\nvalidation\ntrain\ntrain\ntrain\ntrain\ntrain\ntrain\ntrain\ntrain\nvalidation\nvalidation\ntrain\ntrain\ntrain\ntrain\ntrain\ntrain\ntrain\ntrain\ntrain\ntest\ntrain\nvalidation\ntest\ntest\ntrain\ntrain\nvalidation\ntrain\ntrain\ntrain\ntest\ntrain\ntrain\ntrain\ntrain\ntrain\ntrain\ntrain\nvalidation\ntest\ntrain\ntest\ntrain\nvalidation\ntrain\ntrain\ntrain\ntrain\ntrain\ntrain\ntrain\ntrain\ntrain\ntest\ntrain\ntrain\ntrain\ntrain\ntrain\ntrain\nvalidation\ntrain\ntrain\ntrain\ntrain\ntest\ntrain\ntest\nvalidation\ntrain\ntrain\ntest\ntrain\ntest\ntest\ntrain\ntrain\ntrain\nvalidation\ntrain\ntrain\ntest\ntrain\ntest\ntrain\ntest\ntrain\nvalidation\ntrain\ntrain\ntrain\nvalidation\ntrain\ntrain\nvalidation\ntrain\ntrain\ntrain\ntest\ntrain\nvalidation\ntest\ntrain\ntrain\ntrain\ntrain\ntrain\ntrain\ntrain\nvalidation\ntrain\nvalidation\ntest\ntrain\ntest\ntrain\ntrain\nvalidation\ntrain\ntrain\ntrain\ntrain\ntrain\ntrain\ntrain\ntrain\ntrain\ntrain\ntrain\nvalidation\ntrain\nvalidation\ntrain\ntrain\ntest\ntrain\ntrain\ntrain\ntrain\ntrain\ntrain\ntest\ntrain\ntrain\ntrain\ntrain\ntrain\nvalidation\ntrain\ntrain\ntrain\ntrain\ntrain\ntrain\ntrain\ntrain\ntrain\ntest\ntrain\ntrain\nvalidation\nvalidation\ntrain\ntrain\ntest\ntrain\ntrain\nvalidation\ntrain\ntrain\ntrain\ntrain\nvalidation\ntrain\ntrain\ntest\ntrain\ntrain\ntrain\ntrain\ntrain\ntrain\ntrain\ntrain\ntest\ntrain\ntrain\ntrain\ntrain\nvalidation\ntrain\ntrain\ntrain\ntrain\ntrain\ntrain\ntrain\ntrain\ntrain\ntrain\ntrain\ntrain\ntest\ntrain\ntrain\ntrain\ntest\ntrain\ntrain\ntest\ntrain\ntrain\nvalidation\ntrain\ntrain\nvalidation\ntrain\ntrain\ntrain\ntrain\nvalidation\ntrain\ntrain\nvalidation\ntrain\ntrain\ntrain\ntrain\ntrain\nvalidation\ntest\ntrain\ntrain\ntrain\ntrain\nvalidation\ntrain\ntrain\nvalidation\ntrain\ntrain\nvalidation\ntrain\ntrain\ntrain\ntrain\ntrain\ntrain\ntrain\ntrain\ntest\ntrain\ntrain\ntrain\ntrain\ntrain\ntrain\ntest\ntrain\ntrain\nvalidation\ntrain\ntrain\ntrain\ntrain\ntrain\ntrain\ntrain\ntest\ntrain\ntrain\nvalidation\ntrain\ntrain\nvalidation\ntrain\ntrain\ntest\ntest\ntest\ntrain\ntrain\nvalidation\ntrain\ntrain\ntrain\ntrain\nvalidation\ntrain\ntrain\ntrain\ntrain\ntrain\ntrain\ntrain\ntrain\ntest\ntrain\ntrain\ntrain\ntest\ntest\ntrain\ntrain\ntrain\ntrain\ntrain\ntrain\ntrain\ntrain\ntrain\ntrain\nvalidation\ntrain\ntrain\ntrain\ntest\ntrain\ntrain\ntrain\ntrain\ntrain\ntrain\ntrain\nvalidation\ntrain\ntrain\ntest\ntrain\ntrain\ntrain\ntrain\ntrain\ntrain\ntrain\ntrain\nvalidation\ntrain\ntrain\ntrain\nvalidation\ntrain\ntrain\ntrain\ntrain\ntrain\ntrain\ntrain\ntest\ntrain\ntest\nvalidation\ntrain\ntrain\ntrain\ntrain\ntrain\ntrain\ntest\ntest\ntrain\ntrain\ntrain\ntest\ntrain\ntrain\ntrain\ntrain\ntest\ntest\ntrain\ntrain\ntrain\ntrain\ntrain\nvalidation\ntrain\ntrain\ntrain\ntrain\ntrain\ntrain\nvalidation\ntrain\ntrain\ntrain\ntrain\ntrain\ntest\ntrain\ntrain\ntrain\ntrain\ntest\ntrain\ntrain\ntrain\ntrain\ntrain\ntrain\ntrain\ntrain\ntrain\nvalidation\ntrain\ntrain\ntest\ntrain\ntest\ntrain\ntrain\ntrain\ntrain\ntrain\ntrain\ntrain\ntrain\ntrain\ntrain\ntrain\ntrain\ntrain\nvalidation\nvalidation\ntrain\nvalidation\ntest\ntrain\ntrain\ntrain\nvalidation\ntrain\ntrain\ntrain\ntrain\ntrain\ntrain\nvalidation\ntrain\ntest\ntrain\ntrain\ntest\nvalidation\ntrain\ntrain\nvalidation\ntrain\ntrain\nvalidation\ntrain\ntrain\ntrain\ntrain\ntrain\ntrain\ntrain\ntrain\ntrain\ntest\ntrain\ntrain\ntrain\ntrain\ntrain\ntrain\nvalidation\ntrain\ntrain\ntrain\ntrain\ntest\ntrain\ntrain\ntrain\nvalidation\ntrain\ntrain\ntrain\ntrain\ntest\ntrain\ntrain\ntrain\ntrain\nvalidation\ntest\ntest\ntest\ntrain\ntrain\ntrain\ntrain\ntrain\ntrain\ntrain\ntrain\ntrain\nvalidation\nvalidation\ntrain\ntrain\ntrain\ntrain\ntrain\ntrain\ntrain\ntrain\ntrain\ntrain\ntrain\nvalidation\ntrain\ntest\ntrain\ntrain\ntrain\ntrain\ntrain\ntrain\ntrain\nvalidation\ntrain\ntrain\ntrain\ntrain\ntrain\ntrain\ntrain\ntrain\ntrain\ntest\ntrain\ntrain\nvalidation\ntrain\ntest\ntrain\ntrain\ntrain\ntrain\ntrain\ntrain\ntrain\ntrain\ntrain\ntrain\ntrain\ntrain\ntrain\nvalidation\ntrain\ntrain\ntrain\ntrain\ntrain\ntrain\ntrain\ntrain\nvalidation\ntrain\ntrain\ntrain\ntrain\ntrain\ntrain\ntrain\ntrain\ntrain\ntrain\ntest\ntrain\ntrain\ntrain\ntrain\ntrain\ntrain\nvalidation\ntrain\ntrain\ntest\ntrain\ntest\ntrain\ntrain\ntrain\ntrain\ntrain\ntrain\nvalidation\ntrain\ntrain\ntrain\ntrain\ntest\ntrain\ntrain\ntest\ntrain\ntrain\ntrain\ntrain\ntrain\ntrain\ntrain\ntrain\ntrain\ntrain\nvalidation\ntrain\ntrain\ntrain\ntrain\ntest\nvalidation\ntrain\nvalidation\ntrain\ntrain\ntrain\ntrain\ntest\ntrain\ntrain\nvalidation\ntrain\ntrain\ntrain\ntest\ntrain\nvalidation\ntrain\nvalidation\ntrain\ntrain\ntrain\ntest\ntrain\ntrain\ntrain\ntrain\ntrain\ntrain\ntrain\ntrain\ntrain\ntest\ntrain\ntrain\ntrain\ntest\ntrain\nvalidation\nvalidation\ntrain\ntrain\ntrain\ntrain\ntrain\ntrain\ntrain\ntest\ntrain\ntrain\nvalidation\ntrain\ntest\ntrain\ntrain\ntrain\ntrain\ntrain\ntrain\ntest\ntrain\ntrain\ntrain\nvalidation\ntrain\ntrain\nvalidation\ntrain\ntrain\ntrain\ntrain\ntrain\ntrain\ntrain\nvalidation\ntrain\ntrain\ntrain\ntrain\ntest\ntrain\ntrain\ntrain\ntrain\ntrain\ntrain\ntrain\ntrain\nvalidation\ntrain\ntrain\ntrain\nvalidation\ntrain\nvalidation\ntrain\ntrain\ntrain\ntrain\ntrain\ntrain\ntrain\ntrain\ntrain\ntrain\ntrain\ntrain\ntrain\ntrain\ntrain\ntrain\ntrain\nvalidation\ntrain\ntrain\ntrain\ntrain\ntrain\ntrain\ntrain\ntrain\nvalidation\ntrain\ntrain\ntrain\ntrain\ntrain\ntrain\ntrain\ntrain\ntrain\ntrain\ntrain\ntrain\ntrain\ntrain\ntest\ntrain\ntrain\ntrain\ntrain\nvalidation\ntrain\ntest\ntrain\ntrain\ntrain\nvalidation\ntrain\ntrain\nvalidation\ntrain\ntrain\ntrain\ntrain\ntrain\ntrain\ntrain\ntrain\ntrain\ntrain\ntrain\ntrain\ntrain\ntrain\ntrain\ntrain\ntrain\ntest\ntrain\ntrain\ntest\ntrain\ntrain\ntrain\ntrain\ntrain\ntrain\ntest\ntrain\nvalidation\ntrain\ntrain\ntrain\ntrain\ntrain\ntrain\ntest\ntrain\ntrain\ntrain\ntrain\ntrain\ntest\nvalidation\ntrain\ntrain\ntrain\ntrain\ntrain\ntrain\ntrain\ntest\ntrain\ntest\ntrain\ntrain\ntest\ntrain\ntrain\ntrain\ntest\ntrain\ntrain\nvalidation\ntest\ntrain\ntrain\ntrain\ntrain\ntrain\ntrain\ntrain\ntrain\ntrain\ntest\ntrain\nvalidation\ntrain\nvalidation\ntrain\ntrain\ntrain\ntrain\ntrain\ntrain\ntest\ntrain\nvalidation\nvalidation\ntrain\ntrain\ntrain\ntrain\ntrain\ntrain\ntrain\ntrain\ntrain\ntrain\ntrain\ntrain\ntrain\ntrain\ntrain\ntrain\ntrain\ntrain\ntrain\ntrain\ntrain\ntrain\ntrain\ntest\nvalidation\ntrain\ntrain\ntrain\nvalidation\ntrain\ntest\ntrain\ntrain\ntrain\ntrain\ntrain\ntrain\ntrain\ntrain\ntrain\ntrain\ntrain\ntrain\ntrain\ntrain\ntrain\ntest\ntrain\ntrain\ntrain\ntrain\nvalidation\ntrain\ntrain\ntrain\ntest\ntrain\ntrain\nvalidation\ntrain\ntrain\ntrain\ntrain\ntrain\ntrain\ntrain\ntest\ntrain\ntrain\ntrain\ntest\ntrain\ntrain\nvalidation\ntrain\ntrain\ntrain\ntrain\ntrain\nvalidation\ntrain\ntrain\ntrain\ntrain\ntrain\ntrain\ntrain\ntrain\ntrain\ntrain\ntrain\ntrain\ntrain\ntrain\ntrain\ntrain\ntrain\ntrain\ntrain\ntrain\ntrain\ntrain\ntrain\ntrain\ntrain\ntrain\nvalidation\nvalidation\ntrain\ntrain\ntrain\ntest\ntrain\ntrain\ntrain\ntest\ntrain\ntrain\nvalidation\ntrain\nvalidation\ntrain\ntest\ntrain\ntrain\ntrain\ntrain\ntrain\ntrain\ntrain\ntest\ntrain\ntrain\ntrain\nvalidation\ntrain\ntest\ntrain\ntrain\ntrain\ntrain\ntrain\ntrain\ntrain\ntrain\ntrain\ntrain\nvalidation\ntest\ntrain\ntrain\ntrain\ntrain\ntrain\ntrain\ntrain\ntrain\ntest\ntrain\ntrain\ntrain\ntrain\ntrain\ntrain\ntrain\ntrain\ntest\ntrain\ntrain\ntrain\ntrain\ntrain\ntrain\ntest\ntrain\ntrain\ntrain\ntrain\ntrain\ntrain\ntrain\ntrain\ntest\ntest\ntrain\ntrain\nvalidation\ntrain\ntrain\ntrain\ntrain\ntrain\ntrain\ntrain\ntest\ntrain\ntrain\ntrain\ntrain\ntrain\ntrain\ntrain\ntrain\ntrain\ntest\nvalidation\nvalidation\ntrain\ntrain\ntrain\nvalidation\ntrain\ntest\ntrain\ntrain\ntrain\ntrain\ntrain\ntrain\ntrain\ntrain\ntrain\ntrain\nvalidation\ntrain\ntest\nvalidation\ntrain\ntrain\ntrain\ntrain\ntest\ntrain\ntrain\ntrain\ntrain\ntrain\ntrain\ntrain\ntrain\ntest\ntrain\ntest\ntest\ntrain\ntrain\nvalidation\ntrain\ntrain\ntrain\nvalidation\ntrain\ntrain\ntrain\ntest\nvalidation\ntrain\ntrain\ntrain\ntest\ntrain\ntrain\ntrain\ntrain\ntrain\ntrain\ntrain\ntrain\ntrain\ntrain\ntrain\ntrain\ntest\ntrain\ntrain\ntrain\ntrain\ntrain\ntrain\ntrain\ntrain\ntrain\ntrain\ntest\nvalidation\ntrain\ntrain\nvalidation\ntrain\ntrain\ntrain\ntrain\ntrain\ntrain\nvalidation\ntrain\ntrain\ntrain\ntrain\ntrain\ntest\ntrain\ntest\ntrain\ntrain\ntrain\ntrain\ntrain\ntrain\ntrain\ntest\ntrain\ntrain\ntrain\ntest\ntrain\ntrain\nvalidation\ntrain\ntrain\ntrain\ntrain\ntrain\ntrain\ntrain\ntrain\nvalidation\ntrain\ntrain\ntrain\ntrain\ntrain\ntrain\ntrain\ntrain\ntrain\ntrain\ntrain\ntrain\ntrain\ntrain\ntrain\ntrain\ntrain\nvalidation\ntest\ntrain\ntrain\ntrain\ntrain\ntrain\ntrain\ntrain\ntrain\ntrain\ntrain\ntrain\ntrain\ntest\nvalidation\ntrain\nvalidation\ntrain\ntrain\ntrain\ntest\ntrain\ntrain\nvalidation\ntrain\ntrain\ntrain\ntrain\ntrain\ntrain\nvalidation\ntest\ntrain\ntest\ntrain\ntrain\ntest\ntest\ntrain\ntrain\ntrain\n"
    }
   ],
   "source": [
    "parse_images(database_path)"
   ]
  },
  {
   "cell_type": "code",
   "execution_count": 69,
   "metadata": {},
   "outputs": [],
   "source": [
    "for root, dirs, files in os.walk(\"emotions_copy_test_dir\"):\n",
    "    for x in files:\n",
    "        os.remove(os.path.join(root, x))"
   ]
  },
  {
   "cell_type": "code",
   "execution_count": null,
   "metadata": {},
   "outputs": [],
   "source": []
  }
 ],
 "metadata": {
  "language_info": {
   "codemirror_mode": {
    "name": "ipython",
    "version": 3
   },
   "file_extension": ".py",
   "mimetype": "text/x-python",
   "name": "python",
   "nbconvert_exporter": "python",
   "pygments_lexer": "ipython3",
   "version": "3.8.1-final"
  },
  "orig_nbformat": 2,
  "kernelspec": {
   "name": "tfe",
   "display_name": "tfe"
  }
 },
 "nbformat": 4,
 "nbformat_minor": 2
}