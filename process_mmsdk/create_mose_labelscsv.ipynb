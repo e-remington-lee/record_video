{
 "metadata": {
  "language_info": {
   "codemirror_mode": {
    "name": "ipython",
    "version": 3
   },
   "file_extension": ".py",
   "mimetype": "text/x-python",
   "name": "python",
   "nbconvert_exporter": "python",
   "pygments_lexer": "ipython3",
   "version": "3.7.7-final"
  },
  "orig_nbformat": 2,
  "kernelspec": {
   "name": "Python 3.7.7 64-bit ('venv')",
   "display_name": "Python 3.7.7 64-bit ('venv')",
   "metadata": {
    "interpreter": {
     "hash": "0ccd6c582c9a76e057095d94821e135e22982a469d4000f0b42c2f79ec6ee6ee"
    }
   }
  }
 },
 "nbformat": 4,
 "nbformat_minor": 2,
 "cells": [
  {
   "cell_type": "code",
   "execution_count": 1,
   "metadata": {},
   "outputs": [],
   "source": [
    "import mmsdk\n",
    "import os\n",
    "import argparse\n",
    "import re\n",
    "import csv\n",
    "from mmsdk import mmdatasdk\n",
    "from os import listdir\n",
    "from os.path import isfile, join"
   ]
  },
  {
   "cell_type": "code",
   "execution_count": 2,
   "metadata": {},
   "outputs": [
    {
     "output_type": "stream",
     "name": "stdout",
     "text": [
      "5 csd files found\n",
      "\u001b[92m\u001b[1m[2020-10-25 02:23:16.442] | Success | \u001b[0mComputational sequence read from file ../final_aligned\\All Labels.csd ...\n",
      "  3%|▎         | 631/23240 [00:00<00:07, 3154.13 Computational Sequence Entries/s]\u001b[94m\u001b[1m[2020-10-25 02:23:19.461] | Status  | \u001b[0mChecking the integrity of the <All Labels> computational sequence ...\n",
      "\u001b[94m\u001b[1m[2020-10-25 02:23:19.461] | Status  | \u001b[0mChecking the format of the data in <All Labels> computational sequence ...\n",
      "\u001b[92m\u001b[1m[2020-10-25 02:23:27.099] | Success | \u001b[0m<All Labels> computational sequence data in correct format.\n",
      "\u001b[94m\u001b[1m[2020-10-25 02:23:27.099] | Status  | \u001b[0mChecking the format of the metadata in <All Labels> computational sequence ...\n",
      "\u001b[92m\u001b[1m[2020-10-25 02:23:27.099] | Success | \u001b[0m<All Labels> computational sequence metadata in correct format.\n",
      "\u001b[92m\u001b[1m[2020-10-25 02:23:27.099] | Success | \u001b[0m<All Labels> computational sequence is valid!\n",
      "\u001b[92m\u001b[1m[2020-10-25 02:23:27.100] | Success | \u001b[0mComputational sequence read from file ../final_aligned\\COVAREP.csd ...\n",
      "  2%|▏         | 417/23240 [00:00<00:10, 2100.32 Computational Sequence Entries/s]\u001b[94m\u001b[1m[2020-10-25 02:23:30.802] | Status  | \u001b[0mChecking the integrity of the <COVAREP> computational sequence ...\n",
      "\u001b[94m\u001b[1m[2020-10-25 02:23:30.802] | Status  | \u001b[0mChecking the format of the data in <COVAREP> computational sequence ...\n",
      "\u001b[92m\u001b[1m[2020-10-25 02:23:42.150] | Success | \u001b[0m<COVAREP> computational sequence data in correct format.\n",
      "\u001b[94m\u001b[1m[2020-10-25 02:23:42.150] | Status  | \u001b[0mChecking the format of the metadata in <COVAREP> computational sequence ...\n",
      "\u001b[92m\u001b[1m[2020-10-25 02:23:42.150] | Success | \u001b[0m<COVAREP> computational sequence metadata in correct format.\n",
      "\u001b[92m\u001b[1m[2020-10-25 02:23:42.150] | Success | \u001b[0m<COVAREP> computational sequence is valid!\n",
      "\u001b[92m\u001b[1m[2020-10-25 02:23:42.151] | Success | \u001b[0mComputational sequence read from file ../final_aligned\\FACET 4.2.csd ...\n",
      "  2%|▏         | 440/23240 [00:00<00:10, 2193.97 Computational Sequence Entries/s]\u001b[94m\u001b[1m[2020-10-25 02:23:45.881] | Status  | \u001b[0mChecking the integrity of the <FACET 4.2> computational sequence ...\n",
      "\u001b[94m\u001b[1m[2020-10-25 02:23:45.881] | Status  | \u001b[0mChecking the format of the data in <FACET 4.2> computational sequence ...\n",
      "\u001b[92m\u001b[1m[2020-10-25 02:23:56.875] | Success | \u001b[0m<FACET 4.2> computational sequence data in correct format.\n",
      "\u001b[94m\u001b[1m[2020-10-25 02:23:56.875] | Status  | \u001b[0mChecking the format of the metadata in <FACET 4.2> computational sequence ...\n",
      "\u001b[92m\u001b[1m[2020-10-25 02:23:56.875] | Success | \u001b[0m<FACET 4.2> computational sequence metadata in correct format.\n",
      "\u001b[92m\u001b[1m[2020-10-25 02:23:56.875] | Success | \u001b[0m<FACET 4.2> computational sequence is valid!\n",
      "\u001b[92m\u001b[1m[2020-10-25 02:23:56.877] | Success | \u001b[0mComputational sequence read from file ../final_aligned\\glove_vectors.csd ...\n",
      "  1%|          | 217/23240 [00:00<00:10, 2168.03 Computational Sequence Entries/s]\u001b[94m\u001b[1m[2020-10-25 02:24:00.687] | Status  | \u001b[0mChecking the integrity of the <glove_vectors> computational sequence ...\n",
      "\u001b[94m\u001b[1m[2020-10-25 02:24:00.687] | Status  | \u001b[0mChecking the format of the data in <glove_vectors> computational sequence ...\n",
      "\u001b[92m\u001b[1m[2020-10-25 02:24:11.626] | Success | \u001b[0m<glove_vectors> computational sequence data in correct format.\n",
      "\u001b[94m\u001b[1m[2020-10-25 02:24:11.626] | Status  | \u001b[0mChecking the format of the metadata in <glove_vectors> computational sequence ...\n",
      "\u001b[92m\u001b[1m[2020-10-25 02:24:11.626] | Success | \u001b[0m<glove_vectors> computational sequence metadata in correct format.\n",
      "\u001b[92m\u001b[1m[2020-10-25 02:24:11.626] | Success | \u001b[0m<glove_vectors> computational sequence is valid!\n",
      "\u001b[92m\u001b[1m[2020-10-25 02:24:11.627] | Success | \u001b[0mComputational sequence read from file ../final_aligned\\OpenFace_2.csd ...\n",
      "  2%|▏         | 446/23240 [00:00<00:10, 2231.93 Computational Sequence Entries/s]\u001b[94m\u001b[1m[2020-10-25 02:24:15.226] | Status  | \u001b[0mChecking the integrity of the <OpenFace_2> computational sequence ...\n",
      "\u001b[94m\u001b[1m[2020-10-25 02:24:15.227] | Status  | \u001b[0mChecking the format of the data in <OpenFace_2> computational sequence ...\n",
      "                                                                                    \u001b[92m\u001b[1m[2020-10-25 02:24:26.000] | Success | \u001b[0m<OpenFace_2> computational sequence data in correct format.\n",
      "\u001b[94m\u001b[1m[2020-10-25 02:24:26.001] | Status  | \u001b[0mChecking the format of the metadata in <OpenFace_2> computational sequence ...\n",
      "\u001b[92m\u001b[1m[2020-10-25 02:24:26.001] | Success | \u001b[0m<OpenFace_2> computational sequence metadata in correct format.\n",
      "\u001b[92m\u001b[1m[2020-10-25 02:24:26.001] | Success | \u001b[0m<OpenFace_2> computational sequence is valid!\n",
      "\u001b[92m\u001b[1m[2020-10-25 02:24:26.001] | Success | \u001b[0mDataset initialized successfully ... \n",
      "List of the computational sequences\n",
      "dict_keys(['All Labels.csd', 'COVAREP.csd', 'FACET 4.2.csd', 'glove_vectors.csd', 'OpenFace_2.csd'])\n"
     ]
    }
   ],
   "source": [
    "# args = [\"All Labels.csd\", \"COVAREP.csd\", \"FACET 4.2\", \"glove_vectors.csd\", \"OpenFace_2.csd\"]\n",
    "args = \"../final_aligned\"\n",
    "dataset_dictionary={}\n",
    "\n",
    "if os.path.isdir(args) is False:\n",
    "\tprint (\"Folder does not exist ...\")\n",
    "\texit(-1)\n",
    "\n",
    "csdfiles = [f for f in listdir(args) if isfile(join(args, f)) and f[-4:]=='.csd']\n",
    "if len(csdfiles)==0:\n",
    "\tprint(\"No csd files in the given folder\")\n",
    "\texit(-2)\n",
    "\n",
    "print(\"%d csd files found\"%len(csdfiles))\n",
    "for csdfile in csdfiles:\n",
    "\tdataset_dictionary[csdfile]=os.path.join(args,csdfile)\n",
    "dataset=mmdatasdk.mmdataset(dataset_dictionary)\n",
    "\n",
    "print (\"List of the computational sequences\")\n",
    "print (dataset.computational_sequences.keys())"
   ]
  },
  {
   "cell_type": "code",
   "execution_count": 3,
   "metadata": {},
   "outputs": [
    {
     "output_type": "stream",
     "name": "stdout",
     "text": [
      "[[ 82.753 100.555]]\n"
     ]
    }
   ],
   "source": [
    "# dimensions=[\"sentiment\",\"happy\",\"sad\",\"anger\",\"surprise\",\"disgust\",\"fear\"]\n",
    "# dataset[\"All Labels.csd\"].data['r13W4H8ZhqI[0]']['features'][:] outputs the np.array(1,7) of the labels\n",
    "# dataset[\"All Labels.csd\"].data['r13W4H8ZhqI[0]']['features'].value works too\n",
    "emotion_values = dataset[\"All Labels.csd\"].data['-3g5yACwYnA[0]']['intervals'].value\n",
    "print(emotion_values)"
   ]
  },
  {
   "cell_type": "code",
   "execution_count": 4,
   "metadata": {},
   "outputs": [
    {
     "output_type": "stream",
     "name": "stdout",
     "text": [
      "<KeysViewHDF5 ['features', 'intervals']>\n[-1.54778  -0.249003 -0.459376 -1.82684  -1.45573   1.81828  -2.1252\n -1.49848  -1.00365  -1.28808  -0.687972 -0.543313 -0.801844 -0.91561\n -1.34823  -0.884152 -1.82109  -0.55071  -1.1744   -0.945148 -2.1373\n -1.86273  -1.68854  -0.556205 -1.40695  -1.49977  -0.507725 -1.15999\n -2.21403  -1.27079   0.999827  0.981707  2.22548  19.1914   -1.83387 ]\n[-1.38435  -0.257029 -0.661961 -3.17185  -2.7336    2.00474  -1.39168\n -2.51091  -0.34616  -0.701625 -1.09845  -1.19124  -1.08136  -1.34108\n -1.62452  -1.09531  -1.90922  -1.62617  -1.57097  -0.780415 -1.79702\n -1.57759  -0.578868 -1.05967  -1.50606  -1.04452  -1.64504  -1.70312\n -2.75465  -1.82161   0.998988  0.98591   2.3685   13.9383   -1.09604 ]\n"
     ]
    }
   ],
   "source": [
    "facetKeys = dataset['FACET 4.2.csd'].data['-3g5yACwYnA[0]']\n",
    "print(facetKeys.keys())\n",
    "facet = facetKeys[\"features\"][:]\n",
    "print(facet[0])\n",
    "print(facet[-1])\n",
    "# print(facet)\n",
    "# Intervals are between [x - y] y is the time stamp that is related to the label. so [82.753 - 82.7667] means that 82.7667 is the key to \n",
    "# which csv row it relates to."
   ]
  },
  {
   "cell_type": "code",
   "execution_count": 5,
   "metadata": {},
   "outputs": [
    {
     "output_type": "stream",
     "name": "stdout",
     "text": [
      "2482.0 3016.0\n"
     ]
    }
   ],
   "source": [
    "# The time intervals start on frame 2842 and end on 3016. Being off by 1 frame is also okay, should not affect anything\n",
    "s = emotion_values[0][0]// 0.033333467\n",
    "e = emotion_values[0][1]// 0.033333467\n",
    "print(s,e)"
   ]
  },
  {
   "cell_type": "code",
   "execution_count": 6,
   "metadata": {},
   "outputs": [
    {
     "output_type": "stream",
     "name": "stdout",
     "text": [
      "## Done!\n"
     ]
    }
   ],
   "source": [
    "label_data = dataset[\"All Labels.csd\"]\n",
    "labels_keys = dataset[\"All Labels.csd\"].keys()\n",
    "headers = [\"raw_name\", \"original_video\", \"segmented_video\", \"segment_number\", \"start\", \"end\", \"start_frame\", \"end_frame\", \"sentiment\", \"happy\", \"sad\", \"anger\", \"surprise\", \"disgust\", \"fear\"]\n",
    "seconds_per_frame = 0.033333467\n",
    "with open(\"mosei_labels.csv\", \"w\", newline=\"\") as csvfile:\n",
    "    csvwriter = csv.writer(csvfile)\n",
    "    csvwriter.writerow(headers)\n",
    "    count = 0\n",
    "    for label in labels_keys:\n",
    "        start_end = label_data.data[label]['intervals'][:]\n",
    "        emotions = label_data.data[label]['features'][:]\n",
    "        # start = start_end[0][0] + .0333467\n",
    "        start = start_end[0][0]\n",
    "        end = start_end[0][1]\n",
    "        start_frame = int(start // seconds_per_frame)\n",
    "        end_frame = int(end // seconds_per_frame)\n",
    "        video_name = re.sub(r\"\\[.*\\]\", \"\", label)\n",
    "        segment = re.findall(r\"\\[(.*?)\\]\", label)[0]\n",
    "        segmented_video = f\"{video_name}_{segment}\"\n",
    "        list_to_write = [label, video_name, segmented_video, segment, start, end, start_frame, end_frame, *emotions[0]]\n",
    "        # print(list_to_write)\n",
    "        csvwriter.writerow(list_to_write)\n",
    "print(\"## Done!\")"
   ]
  },
  {
   "cell_type": "code",
   "execution_count": 7,
   "metadata": {},
   "outputs": [
    {
     "output_type": "execute_result",
     "data": {
      "text/plain": [
       "         raw_name original_video segmented_video  segment_number    start  \\\n",
       "0  --qXJuDtHPw[0]    --qXJuDtHPw   --qXJuDtHPw_0               0   23.199   \n",
       "1  -3g5yACwYnA[0]    -3g5yACwYnA   -3g5yACwYnA_0               0   82.753   \n",
       "2  -3g5yACwYnA[1]    -3g5yACwYnA   -3g5yACwYnA_1               1  119.919   \n",
       "3  -3g5yACwYnA[2]    -3g5yACwYnA   -3g5yACwYnA_2               2    4.840   \n",
       "4  -3g5yACwYnA[3]    -3g5yACwYnA   -3g5yACwYnA_3               3   13.211   \n",
       "\n",
       "       end  start_frame  end_frame  sentiment     happy       sad  anger  \\\n",
       "0   30.325          695        909   1.000000  0.666667  0.000000    0.0   \n",
       "1  100.555         2482       3016   1.000000  0.666667  0.666667    0.0   \n",
       "2  125.299         3597       3758   0.666667  0.000000  0.000000    0.0   \n",
       "3   14.052          145        421   0.000000  0.666667  0.666667    0.0   \n",
       "4   27.521          396        825   0.000000  0.333333  0.333333    0.0   \n",
       "\n",
       "   surprise  disgust      fear  \n",
       "0       0.0      0.0  0.000000  \n",
       "1       0.0      0.0  0.666667  \n",
       "2       0.0      0.0  0.000000  \n",
       "3       0.0      0.0  0.333333  \n",
       "4       0.0      0.0  0.000000  "
      ],
      "text/html": "<div>\n<style scoped>\n    .dataframe tbody tr th:only-of-type {\n        vertical-align: middle;\n    }\n\n    .dataframe tbody tr th {\n        vertical-align: top;\n    }\n\n    .dataframe thead th {\n        text-align: right;\n    }\n</style>\n<table border=\"1\" class=\"dataframe\">\n  <thead>\n    <tr style=\"text-align: right;\">\n      <th></th>\n      <th>raw_name</th>\n      <th>original_video</th>\n      <th>segmented_video</th>\n      <th>segment_number</th>\n      <th>start</th>\n      <th>end</th>\n      <th>start_frame</th>\n      <th>end_frame</th>\n      <th>sentiment</th>\n      <th>happy</th>\n      <th>sad</th>\n      <th>anger</th>\n      <th>surprise</th>\n      <th>disgust</th>\n      <th>fear</th>\n    </tr>\n  </thead>\n  <tbody>\n    <tr>\n      <th>0</th>\n      <td>--qXJuDtHPw[0]</td>\n      <td>--qXJuDtHPw</td>\n      <td>--qXJuDtHPw_0</td>\n      <td>0</td>\n      <td>23.199</td>\n      <td>30.325</td>\n      <td>695</td>\n      <td>909</td>\n      <td>1.000000</td>\n      <td>0.666667</td>\n      <td>0.000000</td>\n      <td>0.0</td>\n      <td>0.0</td>\n      <td>0.0</td>\n      <td>0.000000</td>\n    </tr>\n    <tr>\n      <th>1</th>\n      <td>-3g5yACwYnA[0]</td>\n      <td>-3g5yACwYnA</td>\n      <td>-3g5yACwYnA_0</td>\n      <td>0</td>\n      <td>82.753</td>\n      <td>100.555</td>\n      <td>2482</td>\n      <td>3016</td>\n      <td>1.000000</td>\n      <td>0.666667</td>\n      <td>0.666667</td>\n      <td>0.0</td>\n      <td>0.0</td>\n      <td>0.0</td>\n      <td>0.666667</td>\n    </tr>\n    <tr>\n      <th>2</th>\n      <td>-3g5yACwYnA[1]</td>\n      <td>-3g5yACwYnA</td>\n      <td>-3g5yACwYnA_1</td>\n      <td>1</td>\n      <td>119.919</td>\n      <td>125.299</td>\n      <td>3597</td>\n      <td>3758</td>\n      <td>0.666667</td>\n      <td>0.000000</td>\n      <td>0.000000</td>\n      <td>0.0</td>\n      <td>0.0</td>\n      <td>0.0</td>\n      <td>0.000000</td>\n    </tr>\n    <tr>\n      <th>3</th>\n      <td>-3g5yACwYnA[2]</td>\n      <td>-3g5yACwYnA</td>\n      <td>-3g5yACwYnA_2</td>\n      <td>2</td>\n      <td>4.840</td>\n      <td>14.052</td>\n      <td>145</td>\n      <td>421</td>\n      <td>0.000000</td>\n      <td>0.666667</td>\n      <td>0.666667</td>\n      <td>0.0</td>\n      <td>0.0</td>\n      <td>0.0</td>\n      <td>0.333333</td>\n    </tr>\n    <tr>\n      <th>4</th>\n      <td>-3g5yACwYnA[3]</td>\n      <td>-3g5yACwYnA</td>\n      <td>-3g5yACwYnA_3</td>\n      <td>3</td>\n      <td>13.211</td>\n      <td>27.521</td>\n      <td>396</td>\n      <td>825</td>\n      <td>0.000000</td>\n      <td>0.333333</td>\n      <td>0.333333</td>\n      <td>0.0</td>\n      <td>0.0</td>\n      <td>0.0</td>\n      <td>0.000000</td>\n    </tr>\n  </tbody>\n</table>\n</div>"
     },
     "metadata": {},
     "execution_count": 7
    }
   ],
   "source": [
    "import pandas as pd\n",
    "hf=pd.read_csv(\"mosei_labels.csv\")\n",
    "hf.head()"
   ]
  },
  {
   "cell_type": "code",
   "execution_count": null,
   "metadata": {},
   "outputs": [],
   "source": []
  }
 ]
}