{
 "metadata": {
  "language_info": {
   "codemirror_mode": {
    "name": "ipython",
    "version": 3
   },
   "file_extension": ".py",
   "mimetype": "text/x-python",
   "name": "python",
   "nbconvert_exporter": "python",
   "pygments_lexer": "ipython3",
   "version": "3.7.7-final"
  },
  "orig_nbformat": 2,
  "kernelspec": {
   "name": "Python 3.7.7 64-bit ('venv')",
   "display_name": "Python 3.7.7 64-bit ('venv')",
   "metadata": {
    "interpreter": {
     "hash": "0ccd6c582c9a76e057095d94821e135e22982a469d4000f0b42c2f79ec6ee6ee"
    }
   }
  }
 },
 "nbformat": 4,
 "nbformat_minor": 2,
 "cells": [
  {
   "cell_type": "code",
   "execution_count": null,
   "metadata": {},
   "outputs": [],
   "source": [
    "import pandas as pd\n",
    "import h5py"
   ]
  },
  {
   "cell_type": "code",
   "execution_count": null,
   "metadata": {},
   "outputs": [],
   "source": [
    "# hf = h5py.File(\"video_valid.h5\", \"r\")\n",
    "\n",
    "with h5py.File(\"video_valid.h5\", \"r\") as f:\n",
    "    print(f)\n",
    "    # List all groups\n",
    "    print(\"Keys: %s\" % f.keys())\n",
    "    a_group_key = list(f.keys())\n",
    "\n",
    "    # Get the data\n",
    "    data = list(f[a_group_key])"
   ]
  },
  {
   "cell_type": "code",
   "execution_count": null,
   "metadata": {},
   "outputs": [],
   "source": [
    "import cv2\n",
    "# vidcap = cv2.VideoCapture('D:/Software/reluu_extra_space/CMU_MOSEI/Raw/Videos/Segmented/Combined/_0efYOjQYRc_1.mp4')\n",
    "vidcap = cv2.VideoCapture('test2.mp4')\n",
    "success,image = vidcap.read()\n",
    "count = 0\n",
    "print(success)\n",
    "while success:\n",
    "  cv2.imwrite(\"./tst/frame%d.jpg\" % count, image)     # save frame as JPEG file      \n",
    "  success,image = vidcap.read()\n",
    "  print('Read a new frame: ', success)\n",
    "  count += 1"
   ]
  },
  {
   "cell_type": "code",
   "execution_count": null,
   "metadata": {},
   "outputs": [],
   "source": [
    "from moviepy.video.io.ffmpeg_tools import ffmpeg_extract_subclip\n",
    "ffmpeg_extract_subclip('D:/Software/reluu_extra_space/CMU_MOSEI/Raw/Videos/Full/Combined/_0efYOjQYRc.mp4', 0, 8.025, targetname=\"test.mp4\")\n",
    "ffmpeg_extract_subclip('D:/Software/reluu_extra_space/CMU_MOSEI/Raw/Videos/Full/Combined/_0efYOjQYRc.mp4', 5, 14, targetname=\"test2.mp4\")\n",
    "\n",
    "# vidcap = cv2.VideoCapture('D:/Software/reluu_extra_space/CMU_MOSEI/Raw/Videos/Full/Combined/_0efYOjQYRc.mp4')"
   ]
  },
  {
   "cell_type": "code",
   "execution_count": null,
   "metadata": {},
   "outputs": [],
   "source": []
  }
 ]
}