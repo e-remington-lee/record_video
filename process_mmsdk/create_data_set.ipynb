{
 "metadata": {
  "language_info": {
   "codemirror_mode": {
    "name": "ipython",
    "version": 3
   },
   "file_extension": ".py",
   "mimetype": "text/x-python",
   "name": "python",
   "nbconvert_exporter": "python",
   "pygments_lexer": "ipython3",
   "version": "3.7.7-final"
  },
  "orig_nbformat": 2,
  "kernelspec": {
   "name": "Python 3.7.7 64-bit ('venv')",
   "display_name": "Python 3.7.7 64-bit ('venv')",
   "metadata": {
    "interpreter": {
     "hash": "0ccd6c582c9a76e057095d94821e135e22982a469d4000f0b42c2f79ec6ee6ee"
    }
   }
  }
 },
 "nbformat": 4,
 "nbformat_minor": 2,
 "cells": [
  {
   "cell_type": "code",
   "execution_count": 1,
   "metadata": {},
   "outputs": [],
   "source": [
    "import os\n",
    "import sys\n",
    "import csv \n",
    "\n",
    "import numpy as np\n",
    "import pandas as pd\n",
    "from PIL import Image\n",
    "import cv2\n",
    "import numpy as np"
   ]
  },
  {
   "cell_type": "code",
   "execution_count": 16,
   "metadata": {},
   "outputs": [],
   "source": [
    "videos_dir = 'D:/Software/reluu_extra_space/CMU_MOSEI/Raw/Videos/new_segmented'\n",
    "open_face_csv = \"D:/Software/reluu_extra_space/CMU_MOSEI/Raw/Videos/Full/OpenFace2.0/_0efYOjQYRc.csv\"\n",
    "mosei_labels = \"mosei_labels.csv\"\n",
    "mosei_dataset = \"mosei_dataset.csv\"\n",
    "save_frames_dir = \"../labeled_data/emotions_v2\"\n",
    "\n",
    "x_samples = [' x_0', ' x_1', ' x_2', ' x_3', ' x_4', ' x_5', ' x_6', ' x_7', ' x_8', ' x_9', ' x_10', ' x_11', ' x_12', ' x_13', ' x_14', ' x_15', ' x_16', ' x_17', ' x_18', ' x_19', ' x_20', ' x_21', ' x_22', ' x_23', ' x_24', ' x_25', ' x_26', ' x_27', ' x_28', ' x_29', ' x_30', ' x_31', ' x_32', ' x_33', ' x_34', ' x_35', ' x_36', ' x_37', ' x_38', ' x_39', ' x_40', ' x_41', ' x_42', ' x_43', ' x_44', ' x_45', ' x_46', ' x_47', ' x_48', ' x_49', ' x_50', ' x_51', ' x_52', ' x_53', ' x_54', ' x_55', ' x_56', ' x_57', ' x_58', ' x_59', ' x_60', ' x_61', ' x_62', ' x_63', ' x_64', ' x_65', ' x_66', ' x_67']\n",
    "\n",
    "y_samples = [' y_0', ' y_1', ' y_2', ' y_3', ' y_4', ' y_5', ' y_6', ' y_7', ' y_8', ' y_9', ' y_10', ' y_11', ' y_12', ' y_13', ' y_14', ' y_15', ' y_16', ' y_17', ' y_18', ' y_19', ' y_20', ' y_21', ' y_22', ' y_23', ' y_24', ' y_25', ' y_26', ' y_27', ' y_28', ' y_29', ' y_30', ' y_31', ' y_32', ' y_33', ' y_34', ' y_35', ' y_36', ' y_37', ' y_38', ' y_39', ' y_40', ' y_41', ' y_42', ' y_43', ' y_44', ' y_45', ' y_46', ' y_47', ' y_48', ' y_49', ' y_50', ' y_51', ' y_52', ' y_53', ' y_54', ' y_55', ' y_56', ' y_57', ' y_58', ' y_59', ' y_60', ' y_61', ' y_62', ' y_63', ' y_64', ' y_65', ' y_66', ' y_67']"
   ]
  },
  {
   "cell_type": "code",
   "execution_count": 17,
   "metadata": {},
   "outputs": [],
   "source": [
    "pd.set_option('display.max_rows', 20)\n",
    "pd.set_option('display.max_columns', None)\n",
    "class ShowData:\n",
    "    def __init__(self, data_set_path):      \n",
    "        self.data_frame = pd.DataFrame()\n",
    "        self.data_frame = pd.read_csv(data_set_path)\n",
    "    \n",
    "    def __call__(self):\n",
    "        return self.data_frame.head()\n",
    "\n",
    "    def row_value(self, row, value):\n",
    "        return self.data_frame.loc[(self.data_frame[row]==value)]\n",
    "\n",
    "    def value_intersection(self, row_identifier, row_value, columns):\n",
    "        return self.data_frame.loc[(self.data_frame[row_identifier]==row_value), columns]"
   ]
  },
  {
   "cell_type": "code",
   "execution_count": 28,
   "metadata": {},
   "outputs": [],
   "source": [
    "class CreateDataSet:\n",
    "    def __init__(self, videos_dir, open_face_csv, mosei_labels, mosei_dataset, save_frames_dir, ShowData:ShowData):\n",
    "        self.videos_dir = videos_dir\n",
    "        self.open_face_csv = open_face_csv\n",
    "        self.mosei_labels = mosei_labels\n",
    "        self.mosei_dataset = mosei_dataset\n",
    "        self.save_frames_dir = save_frames_dir\n",
    "        self.ShowData = ShowData\n",
    "        self.headers = [\"video_name_segment\", \"sentiment\", \"happy\", \"sad\", \"anger\", \"surprise\", \"disgust\", \"fear\"]\n",
    "        with open(self.mosei_dataset, \"w\") as csvfile:\n",
    "            csvfile = csv.writer(csvfile)\n",
    "            csvfile.writerow(self.headers)\n",
    "\n",
    "\n",
    "    def _append_csv(self):\n",
    "        pass\n",
    "\n",
    "\n",
    "    def crop_image(self, image, frame, open_face):\n",
    "        open_face = self.ShowData(open_face)\n",
    "        print(open_face)\n",
    "        pass\n",
    "        # x_values = example.value(\"frame\", 567, x_samples)\n",
    "        # y_values = example.value(\"frame\", 567, y_samples)\n",
    "        # x_max, x_min = int(max(x_values.values[0])), int(min(x_values.values[0]))\n",
    "        # y_max, y_min = int(max(y_values.values[0])), int(min(y_values.values[0]))\n",
    "        # print(x_max, x_min, y_max, y_min)\n",
    "\n",
    "\n",
    "    def gogo(self):\n",
    "        with open(mosei_labels, \"r\") as csvfile:\n",
    "            csvfile = csv.reader(csvfile, delimiter=\",\")\n",
    "            next(csvfile)\n",
    "            for row in csvfile:\n",
    "                current_frame = int(row[6])\n",
    "                end_frame = int(row[7])\n",
    "                mp4 = f\"{row[2]}.mp4\"\n",
    "                video_file = os.path.join(videos_dir, mp4)\n",
    "                video_cap = cv2.VideoCapture(video_file)\n",
    "                success,image = video_cap.read()\n",
    "                while current_frame <= end_frame and success:\n",
    "                    # crop image here\n",
    "                    image = np.array(image)\n",
    "                    image = cv2.cvtColor(image, cv2.COLOR_RGB2BGR)\n",
    "                    image = Image.fromarray(image)\n",
    "                    # write to csv file for labels\n",
    "                    image_path = os.path.join(save_frames_dir, \"idk.jpg\")\n",
    "                    image.save(image_path, \"JPEG\")\n",
    "                    current_frame+=1\n",
    "                    success,image = video_cap.read()\n",
    "                    break \n",
    "                break"
   ]
  },
  {
   "cell_type": "code",
   "execution_count": 29,
   "metadata": {},
   "outputs": [
    {
     "output_type": "stream",
     "name": "stdout",
     "text": [
      "<class '__main__.ShowData'>\n"
     ]
    }
   ],
   "source": [
    "abc = CreateDataSet(videos_dir, open_face_csv, mosei_labels, mosei_dataset, save_frames_dir, ShowData)"
   ]
  },
  {
   "cell_type": "code",
   "execution_count": 7,
   "metadata": {},
   "outputs": [
    {
     "output_type": "stream",
     "name": "stdout",
     "text": [
      "c:\\Coding\\reluu_code\\process_mmsdk\n"
     ]
    }
   ],
   "source": [
    "# mose_csv = [0=\"raw_name\", 1=\"original_video\", 2=\"segmented_video\", 3=\"segment_number\", 4=\"start\", 5=\"end\", 6=\"start_frame\", 7=\"end_frame\",                        8=\"sentiment\",9=\"happy\", 10=\"sad\", 11=\"anger\", 12=\"surprise\", 13=\"disgust\", 14=\"fear\"]\n",
    "with open(mosei_labels, \"r\") as csvfile:\n",
    "    csvfile = csv.reader(csvfile, delimiter=\",\")\n",
    "    next(csvfile)\n",
    "    for row in csvfile:\n",
    "        start_frame = row[6]\n",
    "        mp4 = f\"{row[2]}.mp4\"\n",
    "        video_file = os.path.join(videos_dir, mp4)\n",
    "        video_cap = cv2.VideoCapture(video_file)\n",
    "        success,image = video_cap.read()\n",
    "        while success:\n",
    "            # crop image here\n",
    "            image = np.array(image)\n",
    "            image = cv2.cvtColor(image, cv2.COLOR_RGB2BGR)\n",
    "            image = Image.fromarray(image)\n",
    "            # write to csv file for labels\n",
    "            image_path = os.path.join(save_frames_dir, \"idk.jpg\")\n",
    "            image.save(image_path, \"JPEG\")\n",
    "            success,image = video_cap.read()\n",
    "            break\n",
    "        break"
   ]
  },
  {
   "cell_type": "code",
   "execution_count": null,
   "metadata": {},
   "outputs": [],
   "source": []
  },
  {
   "cell_type": "code",
   "execution_count": null,
   "metadata": {},
   "outputs": [],
   "source": [
    "vidcap = cv2.VideoCapture('D:/Software/reluu_extra_space/CMU_MOSEI/Raw/Videos/new_segmented/--qXJuDtHPw_0.mp4')\n",
    "success,image = vidcap.read()\n",
    "count = 0\n",
    "print(success)\n",
    "while success:\n",
    "  cv2.imwrite(\"./tst/frame%d.jpg\" % count, image)     # save frame as JPEG file      \n",
    "  success,image = vidcap.read()\n",
    "  print('Read a new frame: ', success)\n",
    "  count += 1"
   ]
  }
 ]
}