{
 "metadata": {
  "language_info": {
   "codemirror_mode": {
    "name": "ipython",
    "version": 3
   },
   "file_extension": ".py",
   "mimetype": "text/x-python",
   "name": "python",
   "nbconvert_exporter": "python",
   "pygments_lexer": "ipython3",
   "version": "3.7.7-final"
  },
  "orig_nbformat": 2,
  "kernelspec": {
   "name": "Python 3.7.7 64-bit ('venv')",
   "display_name": "Python 3.7.7 64-bit ('venv')",
   "metadata": {
    "interpreter": {
     "hash": "0ccd6c582c9a76e057095d94821e135e22982a469d4000f0b42c2f79ec6ee6ee"
    }
   }
  }
 },
 "nbformat": 4,
 "nbformat_minor": 2,
 "cells": [
  {
   "cell_type": "code",
   "execution_count": null,
   "metadata": {},
   "outputs": [],
   "source": [
    "import os\n",
    "import sys\n",
    "import csv \n",
    "import h5py\n",
    "import numpy as np\n",
    "import pandas as pd\n",
    "import pickle\n",
    "\n",
    "from PIL import Image\n",
    "import cv2\n",
    "import numpy as np\n",
    "from moviepy.video.io.ffmpeg_tools import ffmpeg_extract_subclip"
   ]
  },
  {
   "cell_type": "code",
   "execution_count": null,
   "metadata": {},
   "outputs": [],
   "source": [
    "open_face = \"D:/Software/reluu_extra_space/CMU_MOSEI/Raw/Videos/Full/OpenFace2.0/_0efYOjQYRc.csv\""
   ]
  },
  {
   "cell_type": "code",
   "execution_count": null,
   "metadata": {},
   "outputs": [],
   "source": [
    "pd.set_option('display.max_rows', 20)\n",
    "pd.set_option('display.max_columns', None)\n",
    "class ShowData:\n",
    "    def __init__(self, data_set_path):      \n",
    "        self.data_frame = pd.DataFrame()\n",
    "        self.data_frame = pd.read_csv(data_set_path)\n",
    "    \n",
    "    def __call__(self):\n",
    "        return self.data_frame.head()\n",
    "\n",
    "    def any(self, row, value):\n",
    "        return self.data_frame.loc[(self.data_frame[row]==value)]\n",
    "\n",
    "    def value(self, row_identifier, row_value, columns):\n",
    "        return self.data_frame.loc[(self.data_frame[row_identifier]==row_value), columns]"
   ]
  },
  {
   "cell_type": "code",
   "execution_count": null,
   "metadata": {},
   "outputs": [],
   "source": [
    "# x_values = example.value(\"frame\", 567, x_samples)\n",
    "# y_values = example.value(\"frame\", 567, y_samples)\n",
    "# x_max, x_min = int(max(x_values.values[0])), int(min(x_values.values[0]))\n",
    "# y_max, y_min = int(max(y_values.values[0])), int(min(y_values.values[0]))\n",
    "# print(x_max, x_min, y_max, y_min)"
   ]
  },
  {
   "cell_type": "code",
   "execution_count": null,
   "metadata": {},
   "outputs": [],
   "source": [
    "# [0=\"raw_name\", 1=\"original_video\", 2=\"segmented_video\", 3=\"segment_number\", 4=\"start\", 5=\"end\", 6=\"start_frame\", 7=\"end_frame\", 8=\"sentiment\",            9=\"happy\", 10=\"sad\", 11=\"anger\", 12=\"surprise\", 13=\"disgust\", 14=\"fear\"]\n",
    "dataset_path = 'D:/Software/reluu_extra_space/CMU_MOSEI/Raw/Videos/Full/Combined'\n",
    "save_video_dir = 'D:/Software/reluu_extra_space/CMU_MOSEI/Raw/Videos/new_segmented'\n",
    "with open(\"mosei_labels.csv\") as csvfile:\n",
    "    csvfile = csv.reader(csvfile, delimiter=\",\")\n",
    "    next(csvfile)\n",
    "    for row in csvfile:\n",
    "        full_video = f\"{row[1]}.mp4\"\n",
    "        segmented_video = f\"{row[2]}.mp4\"\n",
    "        video_path = os.path.join(dataset_path, full_video)\n",
    "        save_video_path = os.path.join(save_video_dir, segmented_video)\n",
    "        # print(row[4], row[5])\n",
    "        ffmpeg_extract_subclip(video_path, float(row[4]), float(row[5]), targetname=save_video_path)\n",
    "        # print(video_path)\n",
    "        # print(save_video_path)\n"
   ]
  },
  {
   "cell_type": "code",
   "execution_count": null,
   "metadata": {},
   "outputs": [],
   "source": []
  }
 ]
}