{
 "metadata": {
  "language_info": {
   "codemirror_mode": {
    "name": "ipython",
    "version": 3
   },
   "file_extension": ".py",
   "mimetype": "text/x-python",
   "name": "python",
   "nbconvert_exporter": "python",
   "pygments_lexer": "ipython3",
   "version": "3.7.7-final"
  },
  "orig_nbformat": 2,
  "kernelspec": {
   "name": "Python 3.7.7 64-bit ('venv')",
   "display_name": "Python 3.7.7 64-bit ('venv')",
   "metadata": {
    "interpreter": {
     "hash": "0ccd6c582c9a76e057095d94821e135e22982a469d4000f0b42c2f79ec6ee6ee"
    }
   }
  }
 },
 "nbformat": 4,
 "nbformat_minor": 2,
 "cells": [
  {
   "cell_type": "code",
   "execution_count": 46,
   "metadata": {},
   "outputs": [],
   "source": [
    "import mmsdk\n",
    "import os\n",
    "import argparse\n",
    "import re\n",
    "import csv\n",
    "from mmsdk import mmdatasdk\n",
    "from os import listdir\n",
    "from os.path import isfile, join"
   ]
  },
  {
   "cell_type": "code",
   "execution_count": null,
   "metadata": {},
   "outputs": [],
   "source": [
    "# args = [\"All Labels.csd\", \"COVAREP.csd\", \"FACET 4.2\", \"glove_vectors.csd\", \"OpenFace_2.csd\"]\n",
    "args = \"../final_aligned\"\n",
    "dataset_dictionary={}\n",
    "\n",
    "if os.path.isdir(args) is False:\n",
    "\tprint (\"Folder does not exist ...\")\n",
    "\texit(-1)\n",
    "\n",
    "csdfiles = [f for f in listdir(args) if isfile(join(args, f)) and f[-4:]=='.csd']\n",
    "if len(csdfiles)==0:\n",
    "\tprint(\"No csd files in the given folder\")\n",
    "\texit(-2)\n",
    "\n",
    "print(\"%d csd files found\"%len(csdfiles))\n",
    "for csdfile in csdfiles:\n",
    "\tdataset_dictionary[csdfile]=os.path.join(args,csdfile)\n",
    "dataset=mmdatasdk.mmdataset(dataset_dictionary)\n",
    "\n",
    "print (\"List of the computational sequences\")\n",
    "print (dataset.computational_sequences.keys())"
   ]
  },
  {
   "cell_type": "code",
   "execution_count": 74,
   "metadata": {},
   "outputs": [
    {
     "output_type": "stream",
     "name": "stdout",
     "text": [
      "[[ 82.753 100.555]]\n"
     ]
    }
   ],
   "source": [
    "# dimensions=[\"sentiment\",\"happy\",\"sad\",\"anger\",\"surprise\",\"disgust\",\"fear\"]\n",
    "# dataset[\"All Labels.csd\"].data['r13W4H8ZhqI[0]']['features'][:] outputs the np.array(1,7) of the labels\n",
    "# dataset[\"All Labels.csd\"].data['r13W4H8ZhqI[0]']['features'].value works too\n",
    "emotion_values = dataset[\"All Labels.csd\"].data['-3g5yACwYnA[0]']['intervals'].value\n",
    "print(emotion_values)"
   ]
  },
  {
   "cell_type": "code",
   "execution_count": 89,
   "metadata": {},
   "outputs": [
    {
     "output_type": "stream",
     "name": "stdout",
     "text": [
      "<KeysViewHDF5 ['features', 'intervals']>\n[-1.47033   -0.631078  -0.930237  -2.27802   -1.31134    1.12753\n -0.128658  -1.6108     0.270326  -0.530749   0.21477   -0.163682\n -0.136293  -1.33055   -0.734238  -1.00315   -2.12545   -0.863226\n -1.24138   -1.27272   -1.04446   -0.790869  -0.312198   0.0379759\n -1.36377   -0.888425  -0.83577   -1.16119   -2.01143    2.69823\n  0.0340883  0.957051   0.261945  -1.51155    2.58695  ]\n[ 0.63548   -0.695839  -0.92402   -3.63815   -2.47539    0.586251\n -0.814577  -3.31504    1.45597    1.16186   -0.89285   -1.27751\n  0.0808776 -1.06403   -0.735655  -0.708147  -1.29119   -0.437198\n -1.52764   -1.30229   -1.12694   -0.490785   0.349494  -0.237491\n -1.31652   -0.508255  -1.54333   -1.51823   -2.3163     1.57818\n  0.0293242  0.985822  -1.12436    1.29823   -1.7477   ]\n"
     ]
    }
   ],
   "source": [
    "facetKeys = dataset['FACET 4.2.csd'].data['-3g5yACwYnA[0]']\n",
    "print(facetKeys.keys())\n",
    "facet = facetKeys[\"features\"][:]\n",
    "print(facet[0])\n",
    "print(facet[-1])\n",
    "# print(facet)\n",
    "# Intervals are between [x - y] y is the time stamp that is related to the label. so [82.753 - 82.7667] means that 82.7667 is the key to \n",
    "# which csv row it relates to."
   ]
  },
  {
   "cell_type": "code",
   "execution_count": 85,
   "metadata": {},
   "outputs": [
    {
     "output_type": "stream",
     "name": "stdout",
     "text": [
      "2482.0 3016.0\n"
     ]
    }
   ],
   "source": [
    "# The time intervals start on frame 2842 and end on 3016. Being off by 1 frame is also okay, should not affect anything\n",
    "s = emotion_values[0][0]// 0.033333467\n",
    "e = emotion_values[0][1]// 0.033333467\n",
    "print(s,e)"
   ]
  },
  {
   "cell_type": "code",
   "execution_count": 95,
   "metadata": {},
   "outputs": [
    {
     "output_type": "stream",
     "name": "stdout",
     "text": [
      "## Done!\n"
     ]
    }
   ],
   "source": [
    "label_data = dataset[\"All Labels.csd\"]\n",
    "labels_keys = dataset[\"All Labels.csd\"].keys()\n",
    "headers = [\"video_name\", \"segmented_video\", \"segment_number\", \"start\", \"end\", \"start_frame\", \"end_frame\", \"sentiment\", \"happy\", \"sad\", \"anger\",                    \"surprise\", \"disgust\", \"fear\"]\n",
    "seconds_per_frame = 0.033333467\n",
    "with open(\"mosei_labels.csv\", \"w\", newline=\"\") as csvfile:\n",
    "    csvwriter = csv.writer(csvfile)\n",
    "    csvwriter.writerow(headers)\n",
    "    count = 0\n",
    "    for label in labels_keys:\n",
    "        start_end = label_data.data[label]['intervals'][:]\n",
    "        emotions = label_data.data[label]['features'][:]\n",
    "        # start = start_end[0][0] + .0333467\n",
    "        start = start_end[0][0]\n",
    "        end = start_end[0][1]\n",
    "        start_frame = int(start // seconds_per_frame)\n",
    "        end_frame = int(end // seconds_per_frame)\n",
    "        video_name = re.sub(r\"\\[.*\\]\", \"\", label)\n",
    "        segment = re.findall(r\"\\[(.*?)\\]\", label)[0]\n",
    "        segmented_video = f\"{video_name}_{segment}\"\n",
    "        list_to_write = [label, segmented_video, segment, start, end, start_frame, end_frame, *emotions[0]]\n",
    "        # print(list_to_write)\n",
    "        csvwriter.writerow(list_to_write)\n",
    "print(\"## Done!\")"
   ]
  },
  {
   "cell_type": "code",
   "execution_count": 96,
   "metadata": {},
   "outputs": [
    {
     "output_type": "execute_result",
     "data": {
      "text/plain": [
       "       video_name segmented_video  segment_number    start      end  \\\n",
       "0  --qXJuDtHPw[0]   --qXJuDtHPw_0               0   23.199   30.325   \n",
       "1  -3g5yACwYnA[0]   -3g5yACwYnA_0               0   82.753  100.555   \n",
       "2  -3g5yACwYnA[1]   -3g5yACwYnA_1               1  119.919  125.299   \n",
       "3  -3g5yACwYnA[2]   -3g5yACwYnA_2               2    4.840   14.052   \n",
       "4  -3g5yACwYnA[3]   -3g5yACwYnA_3               3   13.211   27.521   \n",
       "\n",
       "   start_frame  end_frame  sentiment     happy       sad  anger  surprise  \\\n",
       "0          695        909   1.000000  0.666667  0.000000    0.0       0.0   \n",
       "1         2482       3016   1.000000  0.666667  0.666667    0.0       0.0   \n",
       "2         3597       3758   0.666667  0.000000  0.000000    0.0       0.0   \n",
       "3          145        421   0.000000  0.666667  0.666667    0.0       0.0   \n",
       "4          396        825   0.000000  0.333333  0.333333    0.0       0.0   \n",
       "\n",
       "   disgust      fear  \n",
       "0      0.0  0.000000  \n",
       "1      0.0  0.666667  \n",
       "2      0.0  0.000000  \n",
       "3      0.0  0.333333  \n",
       "4      0.0  0.000000  "
      ],
      "text/html": "<div>\n<style scoped>\n    .dataframe tbody tr th:only-of-type {\n        vertical-align: middle;\n    }\n\n    .dataframe tbody tr th {\n        vertical-align: top;\n    }\n\n    .dataframe thead th {\n        text-align: right;\n    }\n</style>\n<table border=\"1\" class=\"dataframe\">\n  <thead>\n    <tr style=\"text-align: right;\">\n      <th></th>\n      <th>video_name</th>\n      <th>segmented_video</th>\n      <th>segment_number</th>\n      <th>start</th>\n      <th>end</th>\n      <th>start_frame</th>\n      <th>end_frame</th>\n      <th>sentiment</th>\n      <th>happy</th>\n      <th>sad</th>\n      <th>anger</th>\n      <th>surprise</th>\n      <th>disgust</th>\n      <th>fear</th>\n    </tr>\n  </thead>\n  <tbody>\n    <tr>\n      <th>0</th>\n      <td>--qXJuDtHPw[0]</td>\n      <td>--qXJuDtHPw_0</td>\n      <td>0</td>\n      <td>23.199</td>\n      <td>30.325</td>\n      <td>695</td>\n      <td>909</td>\n      <td>1.000000</td>\n      <td>0.666667</td>\n      <td>0.000000</td>\n      <td>0.0</td>\n      <td>0.0</td>\n      <td>0.0</td>\n      <td>0.000000</td>\n    </tr>\n    <tr>\n      <th>1</th>\n      <td>-3g5yACwYnA[0]</td>\n      <td>-3g5yACwYnA_0</td>\n      <td>0</td>\n      <td>82.753</td>\n      <td>100.555</td>\n      <td>2482</td>\n      <td>3016</td>\n      <td>1.000000</td>\n      <td>0.666667</td>\n      <td>0.666667</td>\n      <td>0.0</td>\n      <td>0.0</td>\n      <td>0.0</td>\n      <td>0.666667</td>\n    </tr>\n    <tr>\n      <th>2</th>\n      <td>-3g5yACwYnA[1]</td>\n      <td>-3g5yACwYnA_1</td>\n      <td>1</td>\n      <td>119.919</td>\n      <td>125.299</td>\n      <td>3597</td>\n      <td>3758</td>\n      <td>0.666667</td>\n      <td>0.000000</td>\n      <td>0.000000</td>\n      <td>0.0</td>\n      <td>0.0</td>\n      <td>0.0</td>\n      <td>0.000000</td>\n    </tr>\n    <tr>\n      <th>3</th>\n      <td>-3g5yACwYnA[2]</td>\n      <td>-3g5yACwYnA_2</td>\n      <td>2</td>\n      <td>4.840</td>\n      <td>14.052</td>\n      <td>145</td>\n      <td>421</td>\n      <td>0.000000</td>\n      <td>0.666667</td>\n      <td>0.666667</td>\n      <td>0.0</td>\n      <td>0.0</td>\n      <td>0.0</td>\n      <td>0.333333</td>\n    </tr>\n    <tr>\n      <th>4</th>\n      <td>-3g5yACwYnA[3]</td>\n      <td>-3g5yACwYnA_3</td>\n      <td>3</td>\n      <td>13.211</td>\n      <td>27.521</td>\n      <td>396</td>\n      <td>825</td>\n      <td>0.000000</td>\n      <td>0.333333</td>\n      <td>0.333333</td>\n      <td>0.0</td>\n      <td>0.0</td>\n      <td>0.0</td>\n      <td>0.000000</td>\n    </tr>\n  </tbody>\n</table>\n</div>"
     },
     "metadata": {},
     "execution_count": 96
    }
   ],
   "source": [
    "import pandas as pd\n",
    "hf=pd.read_csv(\"mosei_labels.csv\") \n",
    "hf.head()"
   ]
  },
  {
   "cell_type": "code",
   "execution_count": null,
   "metadata": {},
   "outputs": [],
   "source": []
  }
 ]
}