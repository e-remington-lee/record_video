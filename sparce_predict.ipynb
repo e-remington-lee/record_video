{
 "cells": [
  {
   "cell_type": "markdown",
   "metadata": {},
   "source": [
    "   Copyright 2020 Erik Lee\n",
    "\n",
    "   Licensed under the Apache License, Version 2.0 (the \"License\");\n",
    "   you may not use this file except in compliance with the License.\n",
    "   You may obtain a copy of the License at\n",
    "\n",
    "       http://www.apache.org/licenses/LICENSE-2.0\n",
    "\n",
    "   Unless required by applicable law or agreed to in writing, software\n",
    "   distributed under the License is distributed on an \"AS IS\" BASIS,\n",
    "   WITHOUT WARRANTIES OR CONDITIONS OF ANY KIND, either express or implied.\n",
    "   See the License for the specific language governing permissions and\n",
    "   limitations under the License."
   ]
  },
  {
   "cell_type": "code",
   "execution_count": null,
   "metadata": {},
   "outputs": [],
   "source": [
    "import os\n",
    "import zipfile\n",
    "import random\n",
    "import shutil\n",
    "from shutil import copyfile\n",
    "import cv2.cv2 as cv2\n",
    "\n",
    "import tensorflow as tf\n",
    "import numpy as np\n",
    "import matplotlib as plt\n",
    "from tensorflow.keras import layers\n",
    "from tensorflow.keras import Model\n",
    "from tensorflow.keras.optimizers import Adam\n",
    "from tensorflow.keras.preprocessing.image import ImageDataGenerator\n",
    "from tensorflow.keras.preprocessing import image\n",
    "from stn import spatial_transformer_network as transformer\n",
    "import matplotlib.pyplot as plt\n",
    "import matplotlib.image as mpimg\n",
    "import pandas\n",
    "from tensorflow.keras.applications import InceptionV3\n",
    "\n",
    "%precision 4\n"
   ]
  },
  {
   "cell_type": "code",
   "execution_count": 22,
   "metadata": {},
   "outputs": [],
   "source": [
    "tf.keras.backend.clear_session()"
   ]
  },
  {
   "cell_type": "code",
   "execution_count": null,
   "metadata": {},
   "outputs": [],
   "source": [
    "model = tf.keras.models.Sequential([\n",
    "    tf.keras.layers.Conv2D(20, (2,2), activation=\"relu\", input_shape=(256,256,3), strides=2),\n",
    "    tf.keras.layers.MaxPool2D(2,2),\n",
    "    tf.keras.layers.Conv2D(50, (2,2), activation=\"relu\", strides=2),\n",
    "    tf.keras.layers.MaxPool2D(2,2),\n",
    "    tf.keras.layers.Flatten(),\n",
    "    tf.keras.layers.Dense(500, activation=\"relu\"),\n",
    "    tf.keras.layers.Dense(7, activation=\"softmax\"),\n",
    "])"
   ]
  },
  {
   "cell_type": "code",
   "execution_count": null,
   "metadata": {},
   "outputs": [],
   "source": [
    "model.compile(optimizer=\"Adam\", loss='categorical_crossentropy', metrics=['acc'])\n"
   ]
  },
  {
   "cell_type": "code",
   "execution_count": null,
   "metadata": {},
   "outputs": [],
   "source": [
    "def convert_to_grayscale(img):\n",
    "      return tf.image.rgb_to_grayscale(img, name=None)\n",
    "\n",
    "\n",
    "TRAINING_DIR = \"emotions/train/\"\n",
    "train_datagen = ImageDataGenerator(\n",
    "      rescale=1./255,\n",
    "      preprocessing_function=convert_to_grayscale,)\n",
    "      # rotation_range=40,\n",
    "      # width_shift_range=0.2,\n",
    "      # height_shift_range=0.2,\n",
    "      # shear_range=0.2,\n",
    "      # zoom_range=0.2,\n",
    "      # horizontal_flip=True,\n",
    "      # fill_mode='nearest')\n",
    "\n",
    "train_generator = train_datagen.flow_from_directory(TRAINING_DIR, target_size=(256,256), \n",
    "batch_size=32, class_mode=\"categorical\")\n",
    "\n",
    "VALIDATION_DIR = \"emotions/validation/\"\n",
    "validation_datagen = ImageDataGenerator(rescale=1./255, preprocessing_function=convert_to_grayscale,)\n",
    "\n",
    "validation_generator = validation_datagen.flow_from_directory(VALIDATION_DIR, target_size=(256,256),batch_size=32, class_mode=\"categorical\")"
   ]
  },
  {
   "cell_type": "code",
   "execution_count": null,
   "metadata": {},
   "outputs": [],
   "source": [
    "model = tf.keras.models.load_model(\"emotion_model.model\")\n",
    "model.summary()"
   ]
  },
  {
   "cell_type": "code",
   "execution_count": null,
   "metadata": {},
   "outputs": [],
   "source": [
    "test_dir = \"emotions/test/\"\n",
    "test_datagen = ImageDataGenerator(rescale=1./255)\n",
    "\n",
    "test_generator = test_datagen.flow_from_directory(test_dir, target_size=(256,256), \n",
    "batch_size=32, class_mode=\"categorical\")\n",
    "\n",
    "model.evaluate(test_generator)"
   ]
  },
  {
   "cell_type": "code",
   "execution_count": null,
   "metadata": {},
   "outputs": [],
   "source": [
    "# class Faces:\n",
    "#     def __init__(self):\n",
    "#         self.model = model\n",
    "\n",
    "    \n",
    "#     def find_face(self):\n",
    "#         face_cascade = cv2.CascadeClassifier(\"hc.xml\")\n",
    "#         path = \"face_test/\"\n",
    "#         cap = cv2.VideoCapture(0)\n",
    "#         count = 1\n",
    "#         while True:\n",
    "#             face_cascade = cv2.CascadeClassifier(\"hc.xml\")\n",
    "#             path = \"face_test/\"\n",
    "#             cap = cv2.VideoCapture(0)\n",
    "#             count = 1\n",
    "#             while True:\n",
    "#                 ret, img = cap.read()\n",
    "#                 gray = cv2.cvtColor(img, cv2.COLOR_BGR2GRAY)\n",
    "#                 faces = face_cascade.detectMultiScale(gray, 1.3, 5)\n",
    "                \n",
    "#                 for (x,y,w,h) in faces:\n",
    "#                     cv2.rectangle(img, (x,y), (x+w, y+h), (255,0,0), 2)\n",
    "#                     face = gray[y:y+h, x:x+w]\n",
    "#                     print(self.predict(face))\n",
    "                \n",
    "#                     # txt = \"face_\"+str(count)+\".jpg\"\n",
    "#                     # cv2.imwrite(path+txt, face)\n",
    "#                     # count += 1\n",
    "#                     # if count > 300:\n",
    "#                     #     count = 1\n",
    "\n",
    "#                 cv2.imshow(\"img\", img)\n",
    "#                 k = cv2.waitKey(30)\n",
    "#                 if k == 27:\n",
    "#                     break\n",
    "#         cap.release()\n",
    "#         cv2.destroyAllWindows()\n",
    "    \n",
    "    \n",
    "#     def predict(self, face):\n",
    "#         size = 256\n",
    "#         img_array = cv2.resize(face, (size,size))\n",
    "#         image = np.expand_dims(img_array, axis=0)\n",
    "#         image = np.expand_dims(img_array, axis=-1)\n",
    "#         zeros = np.ones((1,1,1,3))\n",
    "#         fi = image*zeros\n",
    "#         # image = img_array.reshape(-1, size,size,1)\n",
    "#         metrics = self.model.predict([fi])\n",
    "#         return metrics"
   ]
  },
  {
   "cell_type": "code",
   "execution_count": null,
   "metadata": {},
   "outputs": [],
   "source": [
    "# xyz = Faces()\n",
    "# xyz.find_face()"
   ]
  },
  {
   "cell_type": "code",
   "execution_count": null,
   "metadata": {},
   "outputs": [],
   "source": []
  }
 ],
 "metadata": {
  "language_info": {
   "codemirror_mode": {
    "name": "ipython",
    "version": 3
   },
   "file_extension": ".py",
   "mimetype": "text/x-python",
   "name": "python",
   "nbconvert_exporter": "python",
   "pygments_lexer": "ipython3",
   "version": "3.8.1-final"
  },
  "orig_nbformat": 2,
  "kernelspec": {
   "name": "tfe",
   "display_name": "tfe"
  }
 },
 "nbformat": 4,
 "nbformat_minor": 2
}