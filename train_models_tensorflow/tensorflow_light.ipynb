{
 "cells": [
  {
   "cell_type": "code",
   "execution_count": 1,
   "metadata": {},
   "outputs": [],
   "source": [
    "import os\n",
    "import tensorflow as tf\n",
    "from tensorflow.keras import Model\n",
    "import pathlib"
   ]
  },
  {
   "cell_type": "code",
   "execution_count": 4,
   "metadata": {},
   "outputs": [],
   "source": [
    "# Load model\n",
    "# model = tf.keras.models.load_model(\"faceReader\\\\xNet_v3.2.0_SGD_128x128_8028_8063\")\n",
    "model = tf.keras.models.load_model(\"..\\\\faceReader\\\\cmu_0.0.1\\\\\")"
   ]
  },
  {
   "cell_type": "code",
   "execution_count": 5,
   "metadata": {
    "tags": []
   },
   "outputs": [
    {
     "output_type": "stream",
     "name": "stdout",
     "text": [
      "((), {'input_1': TensorSpec(shape=(None, 80, 80, 3), dtype=tf.float32, name='input_1')})\n{'dense_2': TensorSpec(shape=(None, 7), dtype=tf.float32, name='dense_2')}\n"
     ]
    }
   ],
   "source": [
    "infer = model.signatures['serving_default']\n",
    "print(infer.structured_input_signature)\n",
    "print(infer.structured_outputs)"
   ]
  },
  {
   "cell_type": "code",
   "execution_count": 6,
   "metadata": {},
   "outputs": [],
   "source": [
    "# converter = tf.lite.TFLiteConverter.from_saved_model(\"..\\\\faceReader\\\\xNet_v4.0.0_SGD_80x80_7779\\\\\")\n",
    "converter = tf.lite.TFLiteConverter.from_saved_model(\"..\\\\faceReader\\\\cmu_0.0.1\\\\\")\n",
    "converter.optimizations = [tf.lite.Optimize.DEFAULT]\n",
    "tflite_model = converter.convert()"
   ]
  },
  {
   "cell_type": "code",
   "execution_count": 7,
   "metadata": {},
   "outputs": [
    {
     "output_type": "execute_result",
     "data": {
      "text/plain": [
       "5383664"
      ]
     },
     "metadata": {},
     "execution_count": 7
    }
   ],
   "source": [
    "tflite_model_file = pathlib.Path(\"..\\\\tflite_model\\\\cmu_0.0.1.tflite\")\n",
    "tflite_model_file.write_bytes(tflite_model)"
   ]
  },
  {
   "cell_type": "code",
   "execution_count": 10,
   "metadata": {},
   "outputs": [],
   "source": [
    "import tflite_runtime.interpreter as tflite\n",
    "import numpy as np"
   ]
  },
  {
   "cell_type": "code",
   "execution_count": 11,
   "metadata": {
    "tags": []
   },
   "outputs": [
    {
     "output_type": "stream",
     "name": "stdout",
     "text": [
      "[[0.9290683  0.10492983 0.05829364 0.09764606 0.01316643 0.06710875\n  0.00992599]]\n"
     ]
    }
   ],
   "source": [
    "interpreter = tflite.Interpreter(model_path=\"..\\\\tflite_model\\\\cmu_0.0.1.tflite\")\n",
    "interpreter.allocate_tensors()\n",
    "\n",
    "# Get input and output tensors.\n",
    "input_details = interpreter.get_input_details()\n",
    "output_details = interpreter.get_output_details()\n",
    "\n",
    "# Test the model on random input data.\n",
    "input_shape = input_details[0]['shape']\n",
    "input_data = np.array(np.random.random_sample(input_shape), dtype=np.float32)\n",
    "interpreter.set_tensor(input_details[0]['index'], input_data)\n",
    "\n",
    "interpreter.invoke()\n",
    "\n",
    "# The function `get_tensor()` returns a copy of the tensor data.\n",
    "# Use `tensor()` in order to get a pointer to the tensor.\n",
    "output_data = interpreter.get_tensor(output_details[0]['index'])\n",
    "print(output_data)"
   ]
  },
  {
   "cell_type": "code",
   "execution_count": null,
   "metadata": {},
   "outputs": [],
   "source": []
  }
 ],
 "metadata": {
  "language_info": {
   "codemirror_mode": {
    "name": "ipython",
    "version": 3
   },
   "file_extension": ".py",
   "mimetype": "text/x-python",
   "name": "python",
   "nbconvert_exporter": "python",
   "pygments_lexer": "ipython3",
   "version": "3.7.7-final"
  },
  "orig_nbformat": 2,
  "kernelspec": {
   "name": "Python 3.7.7 64-bit ('venv')",
   "display_name": "Python 3.7.7 64-bit ('venv')",
   "metadata": {
    "interpreter": {
     "hash": "664f224005ac0c95a7a79c725ff6aa92991aac7f07f49ba7943817f6c58a6233"
    }
   }
  }
 },
 "nbformat": 4,
 "nbformat_minor": 2
}