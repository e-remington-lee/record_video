{
 "cells": [
  {
   "cell_type": "markdown",
   "metadata": {},
   "source": [
    "   Copyright 2020 Erik Lee\n",
    "\n",
    "   Licensed under the Apache License, Version 2.0 (the \"License\");\n",
    "   you may not use this file except in compliance with the License.\n",
    "   You may obtain a copy of the License at\n",
    "\n",
    "       http://www.apache.org/licenses/LICENSE-2.0\n",
    "\n",
    "   Unless required by applicable law or agreed to in writing, software\n",
    "   distributed under the License is distributed on an \"AS IS\" BASIS,\n",
    "   WITHOUT WARRANTIES OR CONDITIONS OF ANY KIND, either express or implied.\n",
    "   See the License for the specific language governing permissions and\n",
    "   limitations under the License."
   ]
  },
  {
   "cell_type": "code",
   "execution_count": 1,
   "metadata": {},
   "outputs": [],
   "source": [
    "import os\n",
    "import zipfile\n",
    "import random\n",
    "import shutil\n",
    "from shutil import copyfile\n",
    "import cv2.cv2 as cv2\n",
    "\n",
    "import tensorflow as tf\n",
    "import numpy as np\n",
    "import matplotlib as plt\n",
    "from tensorflow.keras import layers, models, regularizers\n",
    "from tensorflow.keras import Model\n",
    "from tensorflow.keras.optimizers import Adam\n",
    "from tensorflow.keras.preprocessing.image import ImageDataGenerator\n",
    "from tensorflow.keras.preprocessing import image\n",
    "from stn import spatial_transformer_network as transformer\n",
    "import matplotlib.pyplot as plt\n",
    "import matplotlib.image as mpimg\n",
    "import pandas\n",
    "\n",
    "i_s = 80\n",
    "tf.keras.backend.clear_session()\n",
    "%precision 4\n",
    "\n",
    "L2_WEIGHT_DECAY = 0.01\n",
    "L1_WEIGHT_DECAY = 0.003"
   ]
  },
  {
   "cell_type": "code",
   "execution_count": 2,
   "metadata": {},
   "outputs": [],
   "source": [
    "gpus = tf.config.experimental.list_physical_devices('GPU')\n",
    "if gpus:\n",
    "    try:\n",
    "        for gpu in gpus:\n",
    "            tf.config.experimental.set_memory_growth(gpu, True)\n",
    "    except RuntimeError as e:\n",
    "        print(e)"
   ]
  },
  {
   "cell_type": "code",
   "execution_count": 3,
   "metadata": {
    "tags": []
   },
   "outputs": [
    {
     "output_type": "stream",
     "name": "stdout",
     "text": "Model: \"xNet_reg\"\n__________________________________________________________________________________________________\nLayer (type)                    Output Shape         Param #     Connected to                     \n==================================================================================================\ninput_1 (InputLayer)            [(None, 80, 80, 3)]  0                                            \n__________________________________________________________________________________________________\nconv2d (Conv2D)                 (None, 78, 78, 64)   1792        input_1[0][0]                    \n__________________________________________________________________________________________________\nbatch_normalization (BatchNorma (None, 78, 78, 64)   256         conv2d[0][0]                     \n__________________________________________________________________________________________________\nactivation (Activation)         (None, 78, 78, 64)   0           batch_normalization[0][0]        \n__________________________________________________________________________________________________\nconv2d_1 (Conv2D)               (None, 76, 76, 64)   36928       activation[0][0]                 \n__________________________________________________________________________________________________\nbatch_normalization_1 (BatchNor (None, 76, 76, 64)   256         conv2d_1[0][0]                   \n__________________________________________________________________________________________________\nactivation_1 (Activation)       (None, 76, 76, 64)   0           batch_normalization_1[0][0]      \n__________________________________________________________________________________________________\nmax_pooling2d (MaxPooling2D)    (None, 38, 38, 64)   0           activation_1[0][0]               \n__________________________________________________________________________________________________\nbatch_normalization_2 (BatchNor (None, 38, 38, 64)   256         max_pooling2d[0][0]              \n__________________________________________________________________________________________________\nmax_pooling2d_1 (MaxPooling2D)  (None, 38, 38, 64)   0           batch_normalization_2[0][0]      \n__________________________________________________________________________________________________\nconv2d_2 (Conv2D)               (None, 38, 38, 128)  8320        batch_normalization_2[0][0]      \n__________________________________________________________________________________________________\nconv2d_4 (Conv2D)               (None, 38, 38, 128)  8320        max_pooling2d_1[0][0]            \n__________________________________________________________________________________________________\nbatch_normalization_3 (BatchNor (None, 38, 38, 128)  512         conv2d_2[0][0]                   \n__________________________________________________________________________________________________\nbatch_normalization_5 (BatchNor (None, 38, 38, 128)  512         conv2d_4[0][0]                   \n__________________________________________________________________________________________________\nactivation_2 (Activation)       (None, 38, 38, 128)  0           batch_normalization_3[0][0]      \n__________________________________________________________________________________________________\nactivation_4 (Activation)       (None, 38, 38, 128)  0           batch_normalization_5[0][0]      \n__________________________________________________________________________________________________\nconv2d_3 (Conv2D)               (None, 38, 38, 128)  147584      activation_2[0][0]               \n__________________________________________________________________________________________________\nconv2d_5 (Conv2D)               (None, 38, 38, 128)  147584      activation_4[0][0]               \n__________________________________________________________________________________________________\nbatch_normalization_4 (BatchNor (None, 38, 38, 128)  512         conv2d_3[0][0]                   \n__________________________________________________________________________________________________\nbatch_normalization_6 (BatchNor (None, 38, 38, 128)  512         conv2d_5[0][0]                   \n__________________________________________________________________________________________________\nactivation_3 (Activation)       (None, 38, 38, 128)  0           batch_normalization_4[0][0]      \n__________________________________________________________________________________________________\nactivation_5 (Activation)       (None, 38, 38, 128)  0           batch_normalization_6[0][0]      \n__________________________________________________________________________________________________\nconcatenate (Concatenate)       (None, 38, 38, 256)  0           activation_3[0][0]               \n                                                                 activation_5[0][0]               \n__________________________________________________________________________________________________\nmax_pooling2d_2 (MaxPooling2D)  (None, 19, 19, 256)  0           concatenate[0][0]                \n__________________________________________________________________________________________________\nmax_pooling2d_3 (MaxPooling2D)  (None, 19, 19, 256)  0           max_pooling2d_2[0][0]            \n__________________________________________________________________________________________________\nconv2d_6 (Conv2D)               (None, 19, 19, 256)  65792       max_pooling2d_2[0][0]            \n__________________________________________________________________________________________________\nconv2d_8 (Conv2D)               (None, 19, 19, 256)  65792       max_pooling2d_3[0][0]            \n__________________________________________________________________________________________________\nbatch_normalization_7 (BatchNor (None, 19, 19, 256)  1024        conv2d_6[0][0]                   \n__________________________________________________________________________________________________\nbatch_normalization_9 (BatchNor (None, 19, 19, 256)  1024        conv2d_8[0][0]                   \n__________________________________________________________________________________________________\nactivation_6 (Activation)       (None, 19, 19, 256)  0           batch_normalization_7[0][0]      \n__________________________________________________________________________________________________\nactivation_8 (Activation)       (None, 19, 19, 256)  0           batch_normalization_9[0][0]      \n__________________________________________________________________________________________________\nconv2d_7 (Conv2D)               (None, 19, 19, 256)  590080      activation_6[0][0]               \n__________________________________________________________________________________________________\nconv2d_9 (Conv2D)               (None, 19, 19, 256)  590080      activation_8[0][0]               \n__________________________________________________________________________________________________\nbatch_normalization_8 (BatchNor (None, 19, 19, 256)  1024        conv2d_7[0][0]                   \n__________________________________________________________________________________________________\nbatch_normalization_10 (BatchNo (None, 19, 19, 256)  1024        conv2d_9[0][0]                   \n__________________________________________________________________________________________________\nactivation_7 (Activation)       (None, 19, 19, 256)  0           batch_normalization_8[0][0]      \n__________________________________________________________________________________________________\nactivation_9 (Activation)       (None, 19, 19, 256)  0           batch_normalization_10[0][0]     \n__________________________________________________________________________________________________\nconcatenate_1 (Concatenate)     (None, 19, 19, 512)  0           activation_7[0][0]               \n                                                                 activation_9[0][0]               \n__________________________________________________________________________________________________\nmax_pooling2d_4 (MaxPooling2D)  (None, 9, 9, 512)    0           concatenate_1[0][0]              \n__________________________________________________________________________________________________\nconv2d_10 (Conv2D)              (None, 9, 9, 512)    262656      max_pooling2d_4[0][0]            \n__________________________________________________________________________________________________\nbatch_normalization_11 (BatchNo (None, 9, 9, 512)    2048        conv2d_10[0][0]                  \n__________________________________________________________________________________________________\nactivation_10 (Activation)      (None, 9, 9, 512)    0           batch_normalization_11[0][0]     \n__________________________________________________________________________________________________\nmax_pooling2d_5 (MaxPooling2D)  (None, 4, 4, 512)    0           activation_10[0][0]              \n__________________________________________________________________________________________________\nconv2d_11 (Conv2D)              (None, 2, 2, 512)    2359808     max_pooling2d_5[0][0]            \n__________________________________________________________________________________________________\nbatch_normalization_12 (BatchNo (None, 2, 2, 512)    2048        conv2d_11[0][0]                  \n__________________________________________________________________________________________________\nactivation_11 (Activation)      (None, 2, 2, 512)    0           batch_normalization_12[0][0]     \n__________________________________________________________________________________________________\nmax_pooling2d_6 (MaxPooling2D)  (None, 1, 1, 512)    0           activation_11[0][0]              \n__________________________________________________________________________________________________\nglobal_average_pooling2d (Globa (None, 512)          0           max_pooling2d_6[0][0]            \n__________________________________________________________________________________________________\nflatten (Flatten)               (None, 512)          0           global_average_pooling2d[0][0]   \n__________________________________________________________________________________________________\ndense (Dense)                   (None, 1024)         525312      flatten[0][0]                    \n__________________________________________________________________________________________________\ndropout (Dropout)               (None, 1024)         0           dense[0][0]                      \n__________________________________________________________________________________________________\ndense_1 (Dense)                 (None, 512)          524800      dropout[0][0]                    \n__________________________________________________________________________________________________\ndropout_1 (Dropout)             (None, 512)          0           dense_1[0][0]                    \n__________________________________________________________________________________________________\ndense_2 (Dense)                 (None, 5)            2565        dropout_1[0][0]                  \n==================================================================================================\nTotal params: 5,348,421\nTrainable params: 5,342,917\nNon-trainable params: 5,504\n__________________________________________________________________________________________________\n"
    }
   ],
   "source": [
    "# add bias regularlizers??\n",
    "\n",
    "input_layer = tf.keras.layers.Input(shape=(i_s, i_s, 3))\n",
    "# x = tf.keras.layers.Conv2D(64, (3,3), kernel_initializer='he_normal')(input_layer)\n",
    "# x = tf.keras.layers.Conv2D(64, (3,3), kernel_initializer='he_normal', kernel_regularizer=regularizers.l1_l2(L2_WEIGHT_DECAY))(input_layer)\n",
    "x = tf.keras.layers.Conv2D(64, (3,3), kernel_initializer='he_normal', bias_initializer=\"he_normal\", kernel_regularizer=regularizers.l2(L2_WEIGHT_DECAY))(input_layer)\n",
    "x = tf.keras.layers.BatchNormalization()(x)\n",
    "x = tf.keras.layers.Activation(\"relu\")(x)\n",
    "\n",
    "# x = tf.keras.layers.Conv2D(64, (3,3), kernel_initializer='he_normal')(x)\n",
    "x = tf.keras.layers.Conv2D(64, (3,3), kernel_initializer='he_normal', bias_initializer=\"he_normal\", kernel_regularizer=regularizers.l2(L2_WEIGHT_DECAY))(x)\n",
    "x = tf.keras.layers.BatchNormalization()(x)\n",
    "x = tf.keras.layers.Activation(\"relu\")(x)\n",
    "\n",
    "x = tf.keras.layers.MaxPool2D((2,2), strides=2)(x)\n",
    "x = tf.keras.layers.BatchNormalization()(x)\n",
    "\n",
    "# p1a = tf.keras.layers.Conv2D(128, (1,1), padding=\"same\", kernel_initializer='he_normal')(x)\n",
    "p1a = tf.keras.layers.Conv2D(128, (1,1), padding=\"same\", kernel_initializer='he_normal', bias_initializer=\"he_normal\", kernel_regularizer=regularizers.l2(L2_WEIGHT_DECAY))(x)\n",
    "p1a = tf.keras.layers.BatchNormalization()(p1a)\n",
    "p1a = tf.keras.layers.Activation(\"relu\")(p1a)\n",
    "\n",
    "# p1a = tf.keras.layers.Conv2D(128, (3,3), padding=\"same\", kernel_initializer='he_normal')(p1a)\n",
    "p1a = tf.keras.layers.Conv2D(128, (3,3), padding=\"same\", kernel_initializer='he_normal', bias_initializer=\"he_normal\", kernel_regularizer=regularizers.l2(L2_WEIGHT_DECAY))(p1a)\n",
    "p1a = tf.keras.layers.BatchNormalization()(p1a)\n",
    "p1a = tf.keras.layers.Activation(\"relu\")(p1a)\n",
    "\n",
    "p1b = tf.keras.layers.MaxPool2D((3,3), padding=\"same\", strides=1)(x)\n",
    "\n",
    "# p1b = tf.keras.layers.Conv2D(128, (1,1), padding=\"same\", kernel_initializer='he_normal')(p1b)\n",
    "p1b = tf.keras.layers.Conv2D(128, (1,1), padding=\"same\", kernel_initializer='he_normal', bias_initializer=\"he_normal\", kernel_regularizer=regularizers.l2(L2_WEIGHT_DECAY))(p1b)\n",
    "p1b = tf.keras.layers.BatchNormalization()(p1b)\n",
    "p1b = tf.keras.layers.Activation(\"relu\")(p1b)\n",
    "\n",
    "# p1b = tf.keras.layers.Conv2D(128, (3,3), padding=\"same\", kernel_initializer='he_normal')(p1b)\n",
    "p1b = tf.keras.layers.Conv2D(128, (3,3), padding=\"same\", kernel_initializer='he_normal', bias_initializer=\"he_normal\", kernel_regularizer=regularizers.l2(L2_WEIGHT_DECAY))(p1b)\n",
    "p1b = tf.keras.layers.BatchNormalization()(p1b)\n",
    "p1b = tf.keras.layers.Activation(\"relu\")(p1b)\n",
    "\n",
    "cat_256 = tf.keras.layers.Concatenate(axis=-1)([p1a, p1b])\n",
    "\n",
    "x = tf.keras.layers.MaxPool2D((2,2), strides=2)(cat_256)\n",
    "\n",
    "# p2a = tf.keras.layers.Conv2D(256, (1,1), padding=\"same\", kernel_initializer='he_normal')(x)\n",
    "p2a = tf.keras.layers.Conv2D(256, (1,1), padding=\"same\", kernel_initializer='he_normal', bias_initializer=\"he_normal\", kernel_regularizer=regularizers.l2(L2_WEIGHT_DECAY))(x)\n",
    "p2a = tf.keras.layers.BatchNormalization()(p2a)\n",
    "p2a = tf.keras.layers.Activation(\"relu\")(p2a)\n",
    "\n",
    "# p2a = tf.keras.layers.Conv2D(256, (3,3), padding=\"same\", kernel_initializer='he_normal')(p2a)\n",
    "p2a = tf.keras.layers.Conv2D(256, (3,3), padding=\"same\", kernel_initializer='he_normal', bias_initializer=\"he_normal\", kernel_regularizer=regularizers.l2(L2_WEIGHT_DECAY))(p2a)\n",
    "p2a = tf.keras.layers.BatchNormalization()(p2a)\n",
    "p2a = tf.keras.layers.Activation(\"relu\")(p2a)\n",
    "\n",
    "p2b = tf.keras.layers.MaxPool2D((3,3), strides=1, padding=\"same\")(x)\n",
    "\n",
    "# p2b = tf.keras.layers.Conv2D(256, (1,1), padding=\"same\", kernel_initializer='he_normal')(p2b)\n",
    "p2b = tf.keras.layers.Conv2D(256, (1,1), padding=\"same\", kernel_initializer='he_normal', bias_initializer=\"he_normal\", kernel_regularizer=regularizers.l2(L2_WEIGHT_DECAY))(p2b)\n",
    "p2b = tf.keras.layers.BatchNormalization()(p2b)\n",
    "p2b = tf.keras.layers.Activation(\"relu\")(p2b)\n",
    "\n",
    "# p2b = tf.keras.layers.Conv2D(256, (3,3), padding=\"same\", kernel_initializer='he_normal')(p2b)\n",
    "p2b = tf.keras.layers.Conv2D(256, (3,3), padding=\"same\", kernel_initializer='he_normal', bias_initializer=\"he_normal\" kernel_regularizer=regularizers.l2(L2_WEIGHT_DECAY))(p2b)\n",
    "p2b = tf.keras.layers.BatchNormalization()(p2b)\n",
    "p2b = tf.keras.layers.Activation(\"relu\")(p2b)\n",
    "\n",
    "cat_512 = tf.keras.layers.Concatenate()([p2a, p2b])\n",
    "\n",
    "x = tf.keras.layers.MaxPool2D((2,2), strides=2)(cat_512)\n",
    "\n",
    "# x = tf.keras.layers.Conv2D(512, (1,1),  padding=\"same\", kernel_initializer='he_normal')(x)\n",
    "x = tf.keras.layers.Conv2D(512, (1,1),  padding=\"same\", kernel_initializer='he_normal', bias_initializer=\"he_normal\", kernel_regularizer=regularizers.l2(L2_WEIGHT_DECAY))(x)\n",
    "x = tf.keras.layers.BatchNormalization()(x)\n",
    "x = tf.keras.layers.Activation(\"relu\")(x)\n",
    "\n",
    "x = tf.keras.layers.MaxPool2D((2,2), strides=2)(x)\n",
    "\n",
    "# x = tf.keras.layers.Conv2D(512, (3,3), kernel_initializer='he_normal')(x)\n",
    "x = tf.keras.layers.Conv2D(512, (3,3), kernel_initializer='he_normal', bias_initializer=\"he_normal\", kernel_regularizer=regularizers.l2(L2_WEIGHT_DECAY))(x)\n",
    "x = tf.keras.layers.BatchNormalization()(x)\n",
    "x = tf.keras.layers.Activation(\"relu\")(x)\n",
    "\n",
    "x = tf.keras.layers.MaxPool2D((2,2), strides=2)(x)\n",
    "x = tf.keras.layers.GlobalAveragePooling2D()(x)\n",
    "\n",
    "x = tf.keras.layers.Flatten()(x)\n",
    "\n",
    "# x = tf.keras.layers.Dense(1024, activation=\"relu\", kernel_initializer='he_normal')(x)\n",
    "x = tf.keras.layers.Dense(1024, activation=\"relu\", kernel_initializer='he_normal', bias_initializer=\"he_normal\", kernel_regularizer=regularizers.l2(L2_WEIGHT_DECAY))(x)\n",
    "x = tf.keras.layers.Dropout(0.5)(x)\n",
    "x = tf.keras.layers.Dense(512, activation=\"relu\", kernel_initializer='he_normal', bias_initializer=\"he_normal\")(x)\n",
    "x = tf.keras.layers.Dropout(0.5)(x)\n",
    "x = tf.keras.layers.Dense(5, activation=\"softmax\", kernel_initializer='he_normal', bias_initializer=\"he_normal\")(x)\n",
    "\n",
    "model = Model(input_layer, x, name='xNet_reg')\n",
    "model.summary()"
   ]
  },
  {
   "cell_type": "code",
   "execution_count": 4,
   "metadata": {
    "tags": []
   },
   "outputs": [],
   "source": [
    "# input_layer = tf.keras.layers.Input(shape=(i_s, i_s, 3))\n",
    "# x = tf.keras.layers.Conv2D(64, (3,3), kernel_initializer='he_normal', kernel_regularizer=regularizers.l1_l2(l1=L1_WEIGHT_DECAY, l2=L2_WEIGHT_DECAY))(input_layer)\n",
    "# x = tf.keras.layers.BatchNormalization()(x)\n",
    "# x = tf.keras.layers.Activation(\"relu\")(x)\n",
    "\n",
    "# x = tf.keras.layers.Conv2D(64, (3,3), kernel_initializer='he_normal', kernel_regularizer=regularizers.l1_l2(l1=L1_WEIGHT_DECAY, l2=L2_WEIGHT_DECAY))(x)\n",
    "# x = tf.keras.layers.BatchNormalization()(x)\n",
    "# x = tf.keras.layers.Activation(\"relu\")(x)\n",
    "\n",
    "# x = tf.keras.layers.MaxPool2D((2,2), strides=2)(x)\n",
    "# x = tf.keras.layers.BatchNormalization()(x)\n",
    "\n",
    "# p1a = tf.keras.layers.Conv2D(128, (1,1), padding=\"same\", kernel_initializer='he_normal', kernel_regularizer=regularizers.l1_l2(l1=L1_WEIGHT_DECAY, l2=L2_WEIGHT_DECAY))(x)\n",
    "# p1a = tf.keras.layers.BatchNormalization()(p1a)\n",
    "# p1a = tf.keras.layers.Activation(\"relu\")(p1a)\n",
    "\n",
    "# p1a = tf.keras.layers.Conv2D(128, (3,3), padding=\"same\", kernel_initializer='he_normal', kernel_regularizer=regularizers.l1_l2(l1=L1_WEIGHT_DECAY, l2=L2_WEIGHT_DECAY))(p1a)\n",
    "# p1a = tf.keras.layers.BatchNormalization()(p1a)\n",
    "# p1a = tf.keras.layers.Activation(\"relu\")(p1a)\n",
    "\n",
    "# p1b = tf.keras.layers.MaxPool2D((3,3), padding=\"same\", strides=1)(x)\n",
    "\n",
    "# p1b = tf.keras.layers.Conv2D(128, (1,1), padding=\"same\", kernel_initializer='he_normal', kernel_regularizer=regularizers.l1_l2(l1=L1_WEIGHT_DECAY, l2=L2_WEIGHT_DECAY))(p1b)\n",
    "# p1b = tf.keras.layers.BatchNormalization()(p1b)\n",
    "# p1b = tf.keras.layers.Activation(\"relu\")(p1b)\n",
    "\n",
    "# p1b = tf.keras.layers.Conv2D(128, (3,3), padding=\"same\", kernel_initializer='he_normal', kernel_regularizer=regularizers.l1_l2(l1=L1_WEIGHT_DECAY, l2=L2_WEIGHT_DECAY))(p1b)\n",
    "# p1b = tf.keras.layers.BatchNormalization()(p1b)\n",
    "# p1b = tf.keras.layers.Activation(\"relu\")(p1b)\n",
    "\n",
    "# cat_256 = tf.keras.layers.Concatenate(axis=-1)([p1a, p1b])\n",
    "\n",
    "# x = tf.keras.layers.MaxPool2D((2,2), strides=2)(cat_256)\n",
    "\n",
    "# p2a = tf.keras.layers.Conv2D(256, (1,1), padding=\"same\", kernel_initializer='he_normal', kernel_regularizer=regularizers.l1_l2(l1=L1_WEIGHT_DECAY, l2=L2_WEIGHT_DECAY))(x)\n",
    "# p2a = tf.keras.layers.BatchNormalization()(p2a)\n",
    "# p2a = tf.keras.layers.Activation(\"relu\")(p2a)\n",
    "\n",
    "# p2a = tf.keras.layers.Conv2D(256, (3,3), padding=\"same\", kernel_initializer='he_normal', kernel_regularizer=regularizers.l1_l2(l1=L1_WEIGHT_DECAY, l2=L2_WEIGHT_DECAY))(p2a)\n",
    "# p2a = tf.keras.layers.BatchNormalization()(p2a)\n",
    "# p2a = tf.keras.layers.Activation(\"relu\")(p2a)\n",
    "\n",
    "# p2b = tf.keras.layers.MaxPool2D((3,3), strides=1, padding=\"same\")(x)\n",
    "\n",
    "# p2b = tf.keras.layers.Conv2D(256, (1,1), padding=\"same\", kernel_initializer='he_normal', kernel_regularizer=regularizers.l1_l2(l1=L1_WEIGHT_DECAY, l2=L2_WEIGHT_DECAY))(p2b)\n",
    "# p2a = tf.keras.layers.BatchNormalization()(p2b)\n",
    "# p2a = tf.keras.layers.Activation(\"relu\")(p2b)\n",
    "\n",
    "# p2b = tf.keras.layers.Conv2D(256, (3,3), padding=\"same\", kernel_initializer='he_normal', kernel_regularizer=regularizers.l1_l2(l1=L1_WEIGHT_DECAY, l2=L2_WEIGHT_DECAY))(p2b)\n",
    "# p2a = tf.keras.layers.BatchNormalization()(p2b)\n",
    "# p2a = tf.keras.layers.Activation(\"relu\")(p2b)\n",
    "\n",
    "# cat_512 = tf.keras.layers.Concatenate()([p2a, p2b])\n",
    "\n",
    "# x = tf.keras.layers.MaxPool2D((2,2), strides=2)(cat_512)\n",
    "\n",
    "# x = tf.keras.layers.Conv2D(512, (1,1),  padding=\"same\", kernel_initializer='he_normal', kernel_regularizer=regularizers.l1_l2(l1=L1_WEIGHT_DECAY, l2=L2_WEIGHT_DECAY))(x)\n",
    "# x = tf.keras.layers.BatchNormalization()(x)\n",
    "# x = tf.keras.layers.Activation(\"relu\")(x)\n",
    "\n",
    "# x = tf.keras.layers.MaxPool2D((2,2), strides=2)(x)\n",
    "\n",
    "# x = tf.keras.layers.Conv2D(512, (3,3), kernel_initializer='he_normal', kernel_regularizer=regularizers.l1_l2(l1=L1_WEIGHT_DECAY, l2=L2_WEIGHT_DECAY))(x)\n",
    "# x = tf.keras.layers.BatchNormalization()(x)\n",
    "# x = tf.keras.layers.Activation(\"relu\")(x)\n",
    "\n",
    "# x = tf.keras.layers.MaxPool2D((2,2), strides=2)(x)\n",
    "# x = tf.keras.layers.GlobalAveragePooling2D()(x)\n",
    "\n",
    "# x = tf.keras.layers.Flatten()(x)\n",
    "\n",
    "# x = tf.keras.layers.Dense(1024, activation=\"relu\", kernel_initializer='he_normal', kernel_regularizer=regularizers.l1_l2(l1=L1_WEIGHT_DECAY, l2=L2_WEIGHT_DECAY))(x)\n",
    "# x = tf.keras.layers.Dropout(0.5)(x)\n",
    "# x = tf.keras.layers.Dense(512, activation=\"relu\")(x)\n",
    "# x = tf.keras.layers.Dropout(0.5)(x)\n",
    "# x = tf.keras.layers.Dense(5, activation=\"softmax\")(x)\n",
    "\n",
    "# model = Model(input_layer, x, name='xNet_reg')\n",
    "# model.summary()"
   ]
  },
  {
   "cell_type": "code",
   "execution_count": 5,
   "metadata": {
    "tags": []
   },
   "outputs": [],
   "source": [
    "# model=tf.keras.applications.ResNet50V2(input_shape=(i_s,i_s,3),weights=None ,classes=5, classifier_activation=\"softmax\")\n",
    "# model.summary()"
   ]
  },
  {
   "cell_type": "code",
   "execution_count": 6,
   "metadata": {},
   "outputs": [],
   "source": [
    "# model.compile(optimizer=\"Adam\", loss='categorical_crossentropy', metrics=['acc', tf.keras.metrics.Precision(), tf.keras.metrics.Recall()])"
   ]
  },
  {
   "cell_type": "code",
   "execution_count": 7,
   "metadata": {},
   "outputs": [],
   "source": [
    "model.compile(optimizer=tf.keras.optimizers.SGD(learning_rate=0.01, momentum=0.9, decay=0.0001), loss='categorical_crossentropy', metrics=['acc', tf.keras.metrics.Precision(), tf.keras.metrics.Recall()])"
   ]
  },
  {
   "cell_type": "code",
   "execution_count": 8,
   "metadata": {
    "tags": []
   },
   "outputs": [
    {
     "output_type": "stream",
     "name": "stdout",
     "text": "Found 75831 images belonging to 5 classes.\nFound 10587 images belonging to 5 classes.\n"
    }
   ],
   "source": [
    "def convert_to_grayscale(img):\n",
    "      return tf.image.rgb_to_grayscale(img, name=None)\n",
    "# the preprocess function assumes 1 argument, the image, you do not need to add that inline\n",
    "# validation_datagen = ImageDataGenerator(rescale=1./255, preprocessing_function=convert_to_grayscale,)\n",
    "\n",
    "TRAINING_DIR = \"emotions_5/train/\"\n",
    "train_datagen = ImageDataGenerator(\n",
    "      rescale=1./255,\n",
    "      horizontal_flip=True)\n",
    "      # rotation_range=40,\n",
    "      # width_shift_range=0.1,\n",
    "      # height_shift_range=0.1,\n",
    "      # shear_range=0.2,\n",
    "      # zoom_range=0.1,\n",
    "      # fill_mode='nearest')\n",
    "\n",
    "train_generator = train_datagen.flow_from_directory(TRAINING_DIR, target_size=(i_s,i_s), \n",
    "batch_size=64, class_mode=\"categorical\")\n",
    "\n",
    "VALIDATION_DIR = \"emotions_5/validation/\"\n",
    "validation_datagen = ImageDataGenerator(rescale=1./255)\n",
    "\n",
    "validation_generator = validation_datagen.flow_from_directory(VALIDATION_DIR, target_size=(i_s,i_s),batch_size=64, class_mode=\"categorical\")\n",
    "\n"
   ]
  },
  {
   "cell_type": "code",
   "execution_count": 9,
   "metadata": {},
   "outputs": [],
   "source": [
    "check_points = \"checkpoint/checkpoint.hb/\"\n",
    "check_point_dir = os.path.dirname(check_points)\n",
    "\n",
    "cp_callback = tf.keras.callbacks.ModelCheckpoint(filepath=check_point_dir, verbose=1, monitor=\"val_acc\", save_best_only=True)"
   ]
  },
  {
   "cell_type": "code",
   "execution_count": 10,
   "metadata": {},
   "outputs": [],
   "source": [
    "## Load checkpoint model\n",
    "# model = tf.keras.models.load_model(\"checkpoint/checkpoint.hb/\")"
   ]
  },
  {
   "cell_type": "code",
   "execution_count": 11,
   "metadata": {
    "tags": []
   },
   "outputs": [
    {
     "output_type": "stream",
     "name": "stdout",
     "text": "Epoch 1/200\n1185/1185 [==============================] - ETA: 0s - loss: 17.7180 - acc: 0.4445 - precision: 0.5970 - recall: 0.1704\nEpoch 00001: val_acc improved from -inf to 0.46548, saving model to checkpoint/checkpoint.hb\nWARNING:tensorflow:From c:\\Coding\\real_time_video_classifier\\tfe\\lib\\site-packages\\tensorflow\\python\\ops\\resource_variable_ops.py:1813: calling BaseResourceVariable.__init__ (from tensorflow.python.ops.resource_variable_ops) with constraint is deprecated and will be removed in a future version.\nInstructions for updating:\nIf using Keras pass *_constraint arguments to layers.\nINFO:tensorflow:Assets written to: checkpoint/checkpoint.hb\\assets\n1185/1185 [==============================] - 96s 81ms/step - loss: 17.7180 - acc: 0.4445 - precision: 0.5970 - recall: 0.1704 - val_loss: 2.3727 - val_acc: 0.4655 - val_precision: 0.5315 - val_recall: 0.2760\nEpoch 2/200\n1185/1185 [==============================] - ETA: 0s - loss: 1.5358 - acc: 0.5706 - precision: 0.6798 - recall: 0.3936\nEpoch 00002: val_acc improved from 0.46548 to 0.56635, saving model to checkpoint/checkpoint.hb\nINFO:tensorflow:Assets written to: checkpoint/checkpoint.hb\\assets\n1185/1185 [==============================] - 94s 80ms/step - loss: 1.5358 - acc: 0.5706 - precision: 0.6798 - recall: 0.3936 - val_loss: 1.3941 - val_acc: 0.5664 - val_precision: 0.7280 - val_recall: 0.3317\nEpoch 3/200\n1185/1185 [==============================] - ETA: 0s - loss: 1.3186 - acc: 0.5847 - precision: 0.6868 - recall: 0.4259\nEpoch 00003: val_acc did not improve from 0.56635\n1185/1185 [==============================] - 85s 71ms/step - loss: 1.3186 - acc: 0.5847 - precision: 0.6868 - recall: 0.4259 - val_loss: 1.4971 - val_acc: 0.5016 - val_precision: 0.6072 - val_recall: 0.3490\nEpoch 4/200\n1185/1185 [==============================] - ETA: 0s - loss: 1.2937 - acc: 0.5953 - precision: 0.6905 - recall: 0.4468\nEpoch 00004: val_acc did not improve from 0.56635\n1185/1185 [==============================] - 83s 70ms/step - loss: 1.2937 - acc: 0.5953 - precision: 0.6905 - recall: 0.4468 - val_loss: 1.3552 - val_acc: 0.5492 - val_precision: 0.6144 - val_recall: 0.4673\nEpoch 5/200\n1185/1185 [==============================] - ETA: 0s - loss: 1.2755 - acc: 0.6012 - precision: 0.6946 - recall: 0.4608\nEpoch 00005: val_acc improved from 0.56635 to 0.57571, saving model to checkpoint/checkpoint.hb\nINFO:tensorflow:Assets written to: checkpoint/checkpoint.hb\\assets\n1185/1185 [==============================] - 93s 78ms/step - loss: 1.2755 - acc: 0.6012 - precision: 0.6946 - recall: 0.4608 - val_loss: 1.3231 - val_acc: 0.5757 - val_precision: 0.6426 - val_recall: 0.5042\nEpoch 6/200\n1185/1185 [==============================] - ETA: 0s - loss: 1.2620 - acc: 0.6062 - precision: 0.6983 - recall: 0.4709\nEpoch 00006: val_acc improved from 0.57571 to 0.58581, saving model to checkpoint/checkpoint.hb\nINFO:tensorflow:Assets written to: checkpoint/checkpoint.hb\\assets\n1185/1185 [==============================] - 93s 78ms/step - loss: 1.2620 - acc: 0.6062 - precision: 0.6983 - recall: 0.4709 - val_loss: 1.3241 - val_acc: 0.5858 - val_precision: 0.6643 - val_recall: 0.4842\nEpoch 7/200\n1185/1185 [==============================] - ETA: 0s - loss: 1.2487 - acc: 0.6104 - precision: 0.7014 - recall: 0.4765\nEpoch 00007: val_acc did not improve from 0.58581\n1185/1185 [==============================] - 83s 70ms/step - loss: 1.2487 - acc: 0.6104 - precision: 0.7014 - recall: 0.4765 - val_loss: 1.4129 - val_acc: 0.5048 - val_precision: 0.5662 - val_recall: 0.4283\nEpoch 8/200\n1185/1185 [==============================] - ETA: 0s - loss: 1.2413 - acc: 0.6136 - precision: 0.7006 - recall: 0.4841\nEpoch 00008: val_acc did not improve from 0.58581\n1185/1185 [==============================] - 82s 70ms/step - loss: 1.2413 - acc: 0.6136 - precision: 0.7006 - recall: 0.4841 - val_loss: 1.6020 - val_acc: 0.4137 - val_precision: 0.4474 - val_recall: 0.3787\nEpoch 9/200\n1185/1185 [==============================] - ETA: 0s - loss: 1.2300 - acc: 0.6185 - precision: 0.7056 - recall: 0.4919\nEpoch 00009: val_acc did not improve from 0.58581\n1185/1185 [==============================] - 84s 71ms/step - loss: 1.2300 - acc: 0.6185 - precision: 0.7056 - recall: 0.4919 - val_loss: 1.3731 - val_acc: 0.5458 - val_precision: 0.6304 - val_recall: 0.3771\nEpoch 10/200\n1185/1185 [==============================] - ETA: 0s - loss: 1.2198 - acc: 0.6232 - precision: 0.7083 - recall: 0.5001\nEpoch 00010: val_acc did not improve from 0.58581\n1185/1185 [==============================] - 82s 69ms/step - loss: 1.2198 - acc: 0.6232 - precision: 0.7083 - recall: 0.5001 - val_loss: 1.5080 - val_acc: 0.4373 - val_precision: 0.4567 - val_recall: 0.4091\nEpoch 11/200\n1185/1185 [==============================] - ETA: 0s - loss: 1.2094 - acc: 0.6257 - precision: 0.7129 - recall: 0.5033\nEpoch 00011: val_acc did not improve from 0.58581\n1185/1185 [==============================] - 82s 69ms/step - loss: 1.2094 - acc: 0.6257 - precision: 0.7129 - recall: 0.5033 - val_loss: 1.2924 - val_acc: 0.5811 - val_precision: 0.6589 - val_recall: 0.4752\nEpoch 12/200\n 385/1185 [========>.....................] - ETA: 51s - loss: 1.2055 - acc: 0.6258 - precision: 0.7117 - recall: 0.5019"
    },
    {
     "output_type": "error",
     "ename": "KeyboardInterrupt",
     "evalue": "",
     "traceback": [
      "\u001b[1;31m---------------------------------------------------------------------------\u001b[0m",
      "\u001b[1;31mKeyboardInterrupt\u001b[0m                         Traceback (most recent call last)",
      "\u001b[1;32m<ipython-input-11-2ddeae45a949>\u001b[0m in \u001b[0;36m<module>\u001b[1;34m\u001b[0m\n\u001b[1;32m----> 1\u001b[1;33m history = model.fit(train_generator,\n\u001b[0m\u001b[0;32m      2\u001b[0m                             \u001b[0mepochs\u001b[0m\u001b[1;33m=\u001b[0m\u001b[1;36m200\u001b[0m\u001b[1;33m,\u001b[0m\u001b[1;33m\u001b[0m\u001b[1;33m\u001b[0m\u001b[0m\n\u001b[0;32m      3\u001b[0m                             \u001b[0mverbose\u001b[0m\u001b[1;33m=\u001b[0m\u001b[1;36m1\u001b[0m\u001b[1;33m,\u001b[0m\u001b[1;33m\u001b[0m\u001b[1;33m\u001b[0m\u001b[0m\n\u001b[0;32m      4\u001b[0m                             \u001b[0mvalidation_data\u001b[0m\u001b[1;33m=\u001b[0m\u001b[0mvalidation_generator\u001b[0m\u001b[1;33m,\u001b[0m\u001b[1;33m\u001b[0m\u001b[1;33m\u001b[0m\u001b[0m\n\u001b[0;32m      5\u001b[0m                             callbacks=[cp_callback]) \n",
      "\u001b[1;32mc:\\Coding\\real_time_video_classifier\\tfe\\lib\\site-packages\\tensorflow\\python\\keras\\engine\\training.py\u001b[0m in \u001b[0;36m_method_wrapper\u001b[1;34m(self, *args, **kwargs)\u001b[0m\n\u001b[0;32m     64\u001b[0m   \u001b[1;32mdef\u001b[0m \u001b[0m_method_wrapper\u001b[0m\u001b[1;33m(\u001b[0m\u001b[0mself\u001b[0m\u001b[1;33m,\u001b[0m \u001b[1;33m*\u001b[0m\u001b[0margs\u001b[0m\u001b[1;33m,\u001b[0m \u001b[1;33m**\u001b[0m\u001b[0mkwargs\u001b[0m\u001b[1;33m)\u001b[0m\u001b[1;33m:\u001b[0m\u001b[1;33m\u001b[0m\u001b[1;33m\u001b[0m\u001b[0m\n\u001b[0;32m     65\u001b[0m     \u001b[1;32mif\u001b[0m \u001b[1;32mnot\u001b[0m \u001b[0mself\u001b[0m\u001b[1;33m.\u001b[0m\u001b[0m_in_multi_worker_mode\u001b[0m\u001b[1;33m(\u001b[0m\u001b[1;33m)\u001b[0m\u001b[1;33m:\u001b[0m  \u001b[1;31m# pylint: disable=protected-access\u001b[0m\u001b[1;33m\u001b[0m\u001b[1;33m\u001b[0m\u001b[0m\n\u001b[1;32m---> 66\u001b[1;33m       \u001b[1;32mreturn\u001b[0m \u001b[0mmethod\u001b[0m\u001b[1;33m(\u001b[0m\u001b[0mself\u001b[0m\u001b[1;33m,\u001b[0m \u001b[1;33m*\u001b[0m\u001b[0margs\u001b[0m\u001b[1;33m,\u001b[0m \u001b[1;33m**\u001b[0m\u001b[0mkwargs\u001b[0m\u001b[1;33m)\u001b[0m\u001b[1;33m\u001b[0m\u001b[1;33m\u001b[0m\u001b[0m\n\u001b[0m\u001b[0;32m     67\u001b[0m \u001b[1;33m\u001b[0m\u001b[0m\n\u001b[0;32m     68\u001b[0m     \u001b[1;31m# Running inside `run_distribute_coordinator` already.\u001b[0m\u001b[1;33m\u001b[0m\u001b[1;33m\u001b[0m\u001b[1;33m\u001b[0m\u001b[0m\n",
      "\u001b[1;32mc:\\Coding\\real_time_video_classifier\\tfe\\lib\\site-packages\\tensorflow\\python\\keras\\engine\\training.py\u001b[0m in \u001b[0;36mfit\u001b[1;34m(self, x, y, batch_size, epochs, verbose, callbacks, validation_split, validation_data, shuffle, class_weight, sample_weight, initial_epoch, steps_per_epoch, validation_steps, validation_batch_size, validation_freq, max_queue_size, workers, use_multiprocessing)\u001b[0m\n\u001b[0;32m    846\u001b[0m                 batch_size=batch_size):\n\u001b[0;32m    847\u001b[0m               \u001b[0mcallbacks\u001b[0m\u001b[1;33m.\u001b[0m\u001b[0mon_train_batch_begin\u001b[0m\u001b[1;33m(\u001b[0m\u001b[0mstep\u001b[0m\u001b[1;33m)\u001b[0m\u001b[1;33m\u001b[0m\u001b[1;33m\u001b[0m\u001b[0m\n\u001b[1;32m--> 848\u001b[1;33m               \u001b[0mtmp_logs\u001b[0m \u001b[1;33m=\u001b[0m \u001b[0mtrain_function\u001b[0m\u001b[1;33m(\u001b[0m\u001b[0miterator\u001b[0m\u001b[1;33m)\u001b[0m\u001b[1;33m\u001b[0m\u001b[1;33m\u001b[0m\u001b[0m\n\u001b[0m\u001b[0;32m    849\u001b[0m               \u001b[1;31m# Catch OutOfRangeError for Datasets of unknown size.\u001b[0m\u001b[1;33m\u001b[0m\u001b[1;33m\u001b[0m\u001b[1;33m\u001b[0m\u001b[0m\n\u001b[0;32m    850\u001b[0m               \u001b[1;31m# This blocks until the batch has finished executing.\u001b[0m\u001b[1;33m\u001b[0m\u001b[1;33m\u001b[0m\u001b[1;33m\u001b[0m\u001b[0m\n",
      "\u001b[1;32mc:\\Coding\\real_time_video_classifier\\tfe\\lib\\site-packages\\tensorflow\\python\\eager\\def_function.py\u001b[0m in \u001b[0;36m__call__\u001b[1;34m(self, *args, **kwds)\u001b[0m\n\u001b[0;32m    578\u001b[0m         \u001b[0mxla_context\u001b[0m\u001b[1;33m.\u001b[0m\u001b[0mExit\u001b[0m\u001b[1;33m(\u001b[0m\u001b[1;33m)\u001b[0m\u001b[1;33m\u001b[0m\u001b[1;33m\u001b[0m\u001b[0m\n\u001b[0;32m    579\u001b[0m     \u001b[1;32melse\u001b[0m\u001b[1;33m:\u001b[0m\u001b[1;33m\u001b[0m\u001b[1;33m\u001b[0m\u001b[0m\n\u001b[1;32m--> 580\u001b[1;33m       \u001b[0mresult\u001b[0m \u001b[1;33m=\u001b[0m \u001b[0mself\u001b[0m\u001b[1;33m.\u001b[0m\u001b[0m_call\u001b[0m\u001b[1;33m(\u001b[0m\u001b[1;33m*\u001b[0m\u001b[0margs\u001b[0m\u001b[1;33m,\u001b[0m \u001b[1;33m**\u001b[0m\u001b[0mkwds\u001b[0m\u001b[1;33m)\u001b[0m\u001b[1;33m\u001b[0m\u001b[1;33m\u001b[0m\u001b[0m\n\u001b[0m\u001b[0;32m    581\u001b[0m \u001b[1;33m\u001b[0m\u001b[0m\n\u001b[0;32m    582\u001b[0m     \u001b[1;32mif\u001b[0m \u001b[0mtracing_count\u001b[0m \u001b[1;33m==\u001b[0m \u001b[0mself\u001b[0m\u001b[1;33m.\u001b[0m\u001b[0m_get_tracing_count\u001b[0m\u001b[1;33m(\u001b[0m\u001b[1;33m)\u001b[0m\u001b[1;33m:\u001b[0m\u001b[1;33m\u001b[0m\u001b[1;33m\u001b[0m\u001b[0m\n",
      "\u001b[1;32mc:\\Coding\\real_time_video_classifier\\tfe\\lib\\site-packages\\tensorflow\\python\\eager\\def_function.py\u001b[0m in \u001b[0;36m_call\u001b[1;34m(self, *args, **kwds)\u001b[0m\n\u001b[0;32m    609\u001b[0m       \u001b[1;31m# In this case we have created variables on the first call, so we run the\u001b[0m\u001b[1;33m\u001b[0m\u001b[1;33m\u001b[0m\u001b[1;33m\u001b[0m\u001b[0m\n\u001b[0;32m    610\u001b[0m       \u001b[1;31m# defunned version which is guaranteed to never create variables.\u001b[0m\u001b[1;33m\u001b[0m\u001b[1;33m\u001b[0m\u001b[1;33m\u001b[0m\u001b[0m\n\u001b[1;32m--> 611\u001b[1;33m       \u001b[1;32mreturn\u001b[0m \u001b[0mself\u001b[0m\u001b[1;33m.\u001b[0m\u001b[0m_stateless_fn\u001b[0m\u001b[1;33m(\u001b[0m\u001b[1;33m*\u001b[0m\u001b[0margs\u001b[0m\u001b[1;33m,\u001b[0m \u001b[1;33m**\u001b[0m\u001b[0mkwds\u001b[0m\u001b[1;33m)\u001b[0m  \u001b[1;31m# pylint: disable=not-callable\u001b[0m\u001b[1;33m\u001b[0m\u001b[1;33m\u001b[0m\u001b[0m\n\u001b[0m\u001b[0;32m    612\u001b[0m     \u001b[1;32melif\u001b[0m \u001b[0mself\u001b[0m\u001b[1;33m.\u001b[0m\u001b[0m_stateful_fn\u001b[0m \u001b[1;32mis\u001b[0m \u001b[1;32mnot\u001b[0m \u001b[1;32mNone\u001b[0m\u001b[1;33m:\u001b[0m\u001b[1;33m\u001b[0m\u001b[1;33m\u001b[0m\u001b[0m\n\u001b[0;32m    613\u001b[0m       \u001b[1;31m# Release the lock early so that multiple threads can perform the call\u001b[0m\u001b[1;33m\u001b[0m\u001b[1;33m\u001b[0m\u001b[1;33m\u001b[0m\u001b[0m\n",
      "\u001b[1;32mc:\\Coding\\real_time_video_classifier\\tfe\\lib\\site-packages\\tensorflow\\python\\eager\\function.py\u001b[0m in \u001b[0;36m__call__\u001b[1;34m(self, *args, **kwargs)\u001b[0m\n\u001b[0;32m   2418\u001b[0m     \u001b[1;32mwith\u001b[0m \u001b[0mself\u001b[0m\u001b[1;33m.\u001b[0m\u001b[0m_lock\u001b[0m\u001b[1;33m:\u001b[0m\u001b[1;33m\u001b[0m\u001b[1;33m\u001b[0m\u001b[0m\n\u001b[0;32m   2419\u001b[0m       \u001b[0mgraph_function\u001b[0m\u001b[1;33m,\u001b[0m \u001b[0margs\u001b[0m\u001b[1;33m,\u001b[0m \u001b[0mkwargs\u001b[0m \u001b[1;33m=\u001b[0m \u001b[0mself\u001b[0m\u001b[1;33m.\u001b[0m\u001b[0m_maybe_define_function\u001b[0m\u001b[1;33m(\u001b[0m\u001b[0margs\u001b[0m\u001b[1;33m,\u001b[0m \u001b[0mkwargs\u001b[0m\u001b[1;33m)\u001b[0m\u001b[1;33m\u001b[0m\u001b[1;33m\u001b[0m\u001b[0m\n\u001b[1;32m-> 2420\u001b[1;33m     \u001b[1;32mreturn\u001b[0m \u001b[0mgraph_function\u001b[0m\u001b[1;33m.\u001b[0m\u001b[0m_filtered_call\u001b[0m\u001b[1;33m(\u001b[0m\u001b[0margs\u001b[0m\u001b[1;33m,\u001b[0m \u001b[0mkwargs\u001b[0m\u001b[1;33m)\u001b[0m  \u001b[1;31m# pylint: disable=protected-access\u001b[0m\u001b[1;33m\u001b[0m\u001b[1;33m\u001b[0m\u001b[0m\n\u001b[0m\u001b[0;32m   2421\u001b[0m \u001b[1;33m\u001b[0m\u001b[0m\n\u001b[0;32m   2422\u001b[0m   \u001b[1;33m@\u001b[0m\u001b[0mproperty\u001b[0m\u001b[1;33m\u001b[0m\u001b[1;33m\u001b[0m\u001b[0m\n",
      "\u001b[1;32mc:\\Coding\\real_time_video_classifier\\tfe\\lib\\site-packages\\tensorflow\\python\\eager\\function.py\u001b[0m in \u001b[0;36m_filtered_call\u001b[1;34m(self, args, kwargs)\u001b[0m\n\u001b[0;32m   1659\u001b[0m       \u001b[0;31m`\u001b[0m\u001b[0margs\u001b[0m\u001b[0;31m`\u001b[0m \u001b[1;32mand\u001b[0m\u001b[0;31m \u001b[0m\u001b[0;31m`\u001b[0m\u001b[0mkwargs\u001b[0m\u001b[0;31m`\u001b[0m\u001b[1;33m.\u001b[0m\u001b[1;33m\u001b[0m\u001b[1;33m\u001b[0m\u001b[0m\n\u001b[0;32m   1660\u001b[0m     \"\"\"\n\u001b[1;32m-> 1661\u001b[1;33m     return self._call_flat(\n\u001b[0m\u001b[0;32m   1662\u001b[0m         (t for t in nest.flatten((args, kwargs), expand_composites=True)\n\u001b[0;32m   1663\u001b[0m          if isinstance(t, (ops.Tensor,\n",
      "\u001b[1;32mc:\\Coding\\real_time_video_classifier\\tfe\\lib\\site-packages\\tensorflow\\python\\eager\\function.py\u001b[0m in \u001b[0;36m_call_flat\u001b[1;34m(self, args, captured_inputs, cancellation_manager)\u001b[0m\n\u001b[0;32m   1743\u001b[0m         and executing_eagerly):\n\u001b[0;32m   1744\u001b[0m       \u001b[1;31m# No tape is watching; skip to running the function.\u001b[0m\u001b[1;33m\u001b[0m\u001b[1;33m\u001b[0m\u001b[1;33m\u001b[0m\u001b[0m\n\u001b[1;32m-> 1745\u001b[1;33m       return self._build_call_outputs(self._inference_function.call(\n\u001b[0m\u001b[0;32m   1746\u001b[0m           ctx, args, cancellation_manager=cancellation_manager))\n\u001b[0;32m   1747\u001b[0m     forward_backward = self._select_forward_and_backward_functions(\n",
      "\u001b[1;32mc:\\Coding\\real_time_video_classifier\\tfe\\lib\\site-packages\\tensorflow\\python\\eager\\function.py\u001b[0m in \u001b[0;36mcall\u001b[1;34m(self, ctx, args, cancellation_manager)\u001b[0m\n\u001b[0;32m    591\u001b[0m       \u001b[1;32mwith\u001b[0m \u001b[0m_InterpolateFunctionError\u001b[0m\u001b[1;33m(\u001b[0m\u001b[0mself\u001b[0m\u001b[1;33m)\u001b[0m\u001b[1;33m:\u001b[0m\u001b[1;33m\u001b[0m\u001b[1;33m\u001b[0m\u001b[0m\n\u001b[0;32m    592\u001b[0m         \u001b[1;32mif\u001b[0m \u001b[0mcancellation_manager\u001b[0m \u001b[1;32mis\u001b[0m \u001b[1;32mNone\u001b[0m\u001b[1;33m:\u001b[0m\u001b[1;33m\u001b[0m\u001b[1;33m\u001b[0m\u001b[0m\n\u001b[1;32m--> 593\u001b[1;33m           outputs = execute.execute(\n\u001b[0m\u001b[0;32m    594\u001b[0m               \u001b[0mstr\u001b[0m\u001b[1;33m(\u001b[0m\u001b[0mself\u001b[0m\u001b[1;33m.\u001b[0m\u001b[0msignature\u001b[0m\u001b[1;33m.\u001b[0m\u001b[0mname\u001b[0m\u001b[1;33m)\u001b[0m\u001b[1;33m,\u001b[0m\u001b[1;33m\u001b[0m\u001b[1;33m\u001b[0m\u001b[0m\n\u001b[0;32m    595\u001b[0m               \u001b[0mnum_outputs\u001b[0m\u001b[1;33m=\u001b[0m\u001b[0mself\u001b[0m\u001b[1;33m.\u001b[0m\u001b[0m_num_outputs\u001b[0m\u001b[1;33m,\u001b[0m\u001b[1;33m\u001b[0m\u001b[1;33m\u001b[0m\u001b[0m\n",
      "\u001b[1;32mc:\\Coding\\real_time_video_classifier\\tfe\\lib\\site-packages\\tensorflow\\python\\eager\\execute.py\u001b[0m in \u001b[0;36mquick_execute\u001b[1;34m(op_name, num_outputs, inputs, attrs, ctx, name)\u001b[0m\n\u001b[0;32m     57\u001b[0m   \u001b[1;32mtry\u001b[0m\u001b[1;33m:\u001b[0m\u001b[1;33m\u001b[0m\u001b[1;33m\u001b[0m\u001b[0m\n\u001b[0;32m     58\u001b[0m     \u001b[0mctx\u001b[0m\u001b[1;33m.\u001b[0m\u001b[0mensure_initialized\u001b[0m\u001b[1;33m(\u001b[0m\u001b[1;33m)\u001b[0m\u001b[1;33m\u001b[0m\u001b[1;33m\u001b[0m\u001b[0m\n\u001b[1;32m---> 59\u001b[1;33m     tensors = pywrap_tfe.TFE_Py_Execute(ctx._handle, device_name, op_name,\n\u001b[0m\u001b[0;32m     60\u001b[0m                                         inputs, attrs, num_outputs)\n\u001b[0;32m     61\u001b[0m   \u001b[1;32mexcept\u001b[0m \u001b[0mcore\u001b[0m\u001b[1;33m.\u001b[0m\u001b[0m_NotOkStatusException\u001b[0m \u001b[1;32mas\u001b[0m \u001b[0me\u001b[0m\u001b[1;33m:\u001b[0m\u001b[1;33m\u001b[0m\u001b[1;33m\u001b[0m\u001b[0m\n",
      "\u001b[1;31mKeyboardInterrupt\u001b[0m: "
     ]
    }
   ],
   "source": [
    "history = model.fit(train_generator,\n",
    "                            epochs=200,\n",
    "                            verbose=1,  \n",
    "                            validation_data=validation_generator,\n",
    "                            callbacks=[cp_callback]) "
   ]
  },
  {
   "cell_type": "code",
   "execution_count": 26,
   "metadata": {},
   "outputs": [],
   "source": [
    "faceNet_dir = \"faceNet\\\\xNet_v3.2.0_SGD_80x80_\\\\\""
   ]
  },
  {
   "cell_type": "code",
   "execution_count": 27,
   "metadata": {
    "tags": []
   },
   "outputs": [
    {
     "output_type": "stream",
     "name": "stdout",
     "text": "INFO:tensorflow:Assets written to: faceNet\\xNet_v3.2.0_SGD_80x80_8070\\assets\n"
    }
   ],
   "source": [
    "# Only Run this code if you want to overwrite the old model\n",
    "tf.saved_model.save(model, faceNet_dir)\n",
    "# model.save(\"emotion_model.0_3cnn_2dns_input64x64.model\")"
   ]
  },
  {
   "cell_type": "code",
   "execution_count": null,
   "metadata": {},
   "outputs": [],
   "source": [
    "## Load model\n",
    "# model = tf.keras.models.load_model(faceNet_dir)"
   ]
  },
  {
   "cell_type": "code",
   "execution_count": 28,
   "metadata": {
    "tags": []
   },
   "outputs": [
    {
     "output_type": "stream",
     "name": "stdout",
     "text": "Found 1812 images belonging to 5 classes.\n29/29 [==============================] - 1s 50ms/step - loss: 0.9566 - acc: 0.8035 - precision: 0.8285 - recall: 0.7837\n"
    },
    {
     "output_type": "execute_result",
     "data": {
      "text/plain": "[0.9566, 0.8035, 0.8285, 0.7837]"
     },
     "metadata": {},
     "execution_count": 28
    }
   ],
   "source": [
    "test_dir = \"emotions_5/test/\"\n",
    "test_datagen = ImageDataGenerator(rescale=1./255)\n",
    "test_generator = test_datagen.flow_from_directory(test_dir, target_size=(i_s,i_s), \n",
    "batch_size=64, class_mode=\"categorical\")\n",
    "\n",
    "model.evaluate(test_generator)"
   ]
  },
  {
   "cell_type": "code",
   "execution_count": null,
   "metadata": {
    "tags": []
   },
   "outputs": [],
   "source": [
    "# root_dir = \"img_test\"\n",
    "root_dir = \"emotions_5_test\\\\test\\\\anger_disgust\"\n",
    "dir_ = os.listdir(root_dir)\n",
    "\n",
    "test_img_paths = [os.path.join(root_dir,x) for x in dir_]\n",
    "rows = len(dir_)\n",
    "\n",
    "fig = plt.gcf()\n",
    "fig.set_size_inches(16,48)\n",
    "for i, img in enumerate(test_img_paths):\n",
    "    img_load_for_test = image.load_img(img, target_size=(i_s,i_s))\n",
    "    img_test = image.img_to_array(img_load_for_test)\n",
    "    img_test = np.expand_dims(img_test, axis=0)\n",
    "    title = model.predict(img_test)\n",
    "\n",
    "    img_plot = mpimg.imread(img)\n",
    "    sb = plt.subplot(20,2,i+1)\n",
    "    sb.set_title(str(title))\n",
    "    sb.axis(\"off\")\n",
    "    img_plot = mpimg.imread(img)\n",
    "    plt.imshow(img_plot)\n",
    "plt.show()\n"
   ]
  },
  {
   "cell_type": "code",
   "execution_count": null,
   "metadata": {},
   "outputs": [],
   "source": [
    "# PLOT LOSS AND ACCURACY\n",
    "%matplotlib inline\n",
    "\n",
    "import matplotlib.image  as mpimg\n",
    "import matplotlib.pyplot as plt\n",
    "\n",
    "#-----------------------------------------------------------\n",
    "# Retrieve a list of list results on training and test data\n",
    "# sets for each training epoch\n",
    "#-----------------------------------------------------------\n",
    "acc=history.history['acc']\n",
    "val_acc=history.history['val_acc']\n",
    "loss=history.history['loss']\n",
    "val_loss=history.history['val_loss']\n",
    "\n",
    "epochs=range(len(acc)) # Get number of epochs\n",
    "\n",
    "#------------------------------------------------\n",
    "# Plot training and validation accuracy per epoch\n",
    "#------------------------------------------------\n",
    "plt.plot(epochs, acc, 'r', \"Training Accuracy\")\n",
    "plt.plot(epochs, val_acc, 'b', \"Validation Accuracy\")\n",
    "plt.title('Training and validation accuracy')\n",
    "plt.figure()\n",
    "\n",
    "#------------------------------------------------\n",
    "# Plot training and validation loss per epoch\n",
    "#------------------------------------------------\n",
    "plt.plot(epochs, loss, 'r', \"Training Loss\")\n",
    "plt.plot(epochs, val_loss, 'b', \"Validation Loss\")\n"
   ]
  },
  {
   "cell_type": "code",
   "execution_count": null,
   "metadata": {},
   "outputs": [],
   "source": [
    "\n",
    "import numpy as np\n",
    "import random\n",
    "from   tensorflow.keras.preprocessing.image import img_to_array, load_img\n",
    "\n",
    "# Let's define a new Model that will take an image as input, and will output\n",
    "# intermediate representations for all layers in the previous model after\n",
    "# the first.\n",
    "successive_outputs = [layer.output for layer in model.layers[1:]]\n",
    "\n",
    "#visualization_model = Model(img_input, successive_outputs)\n",
    "visualization_model = tf.keras.models.Model(inputs = model.input, outputs = successive_outputs)\n",
    "\n",
    "# Let's prepare a random input image of a cat or dog from the training set.\n",
    "abc = \"emotions/test/anger\"\n",
    "abc_li = os.listdir(abc)\n",
    "xyz = [os.path.join(abc, f) for f in abc_li]\n",
    "\n",
    "\n",
    "img_path = random.choice(xyz)\n",
    "img = load_img(img_path, target_size=(i_s, i_s))  # this is a PIL image\n",
    "\n",
    "x   = img_to_array(img)                           # Numpy array with shape (150, 150, 3)\n",
    "x   = x.reshape((1,) + x.shape)                   # Numpy array with shape (1, 150, 150, 3)\n",
    "\n",
    "# Rescale by 1/255\n",
    "x /= 255.0\n",
    "\n",
    "# Let's run our image through our network, thus obtaining all\n",
    "# intermediate representations for this image.\n",
    "successive_feature_maps = visualization_model.predict(x)\n",
    "\n",
    "# These are the names of the layers, so can have them as part of our plot\n",
    "layer_names = [layer.name for layer in model.layers]\n",
    "\n",
    "# -----------------------------------------------------------------------\n",
    "# Now let's display our representations\n",
    "# -----------------------------------------------------------------------\n",
    "fig = plt.gcf()\n",
    "fig.set_size_inches(16,48)\n",
    "for layer_name, feature_map in zip(layer_names, successive_feature_maps):\n",
    "  \n",
    "  if len(feature_map.shape) == 4:\n",
    "    \n",
    "    #-------------------------------------------\n",
    "    # Just do this for the conv / maxpool layers, not the fully-connected layers\n",
    "    #-------------------------------------------\n",
    "    n_features = feature_map.shape[-1]  # number of features in the feature map\n",
    "    size       = feature_map.shape[ 1]  # feature map shape (1, size, size, n_features)\n",
    "    \n",
    "    # We will tile our images in this matrix\n",
    "    display_grid = np.zeros((size, size * n_features))\n",
    "    \n",
    "    #-------------------------------------------------\n",
    "    # Postprocess the feature to be visually palatable\n",
    "    #-------------------------------------------------\n",
    "    for i in range(n_features):\n",
    "      x  = feature_map[0, :, :, i]\n",
    "      x -= x.mean()\n",
    "      x /= x.std ()\n",
    "      x *=  64\n",
    "      x += 128\n",
    "      x  = np.clip(x, 0, 255).astype('uint8')\n",
    "      display_grid[:, i * size : (i + 1) * size] = x # Tile each filter into a horizontal grid\n",
    "\n",
    "    #-----------------\n",
    "    # Display the grid\n",
    "    #-----------------\n",
    "\n",
    "    scale = 20. / n_features\n",
    "    plt.figure( figsize=(scale * n_features, scale) )\n",
    "    plt.title ( layer_name )\n",
    "    plt.grid  ( False )\n",
    "    plt.imshow( display_grid, aspect='auto', cmap='viridis') "
   ]
  },
  {
   "cell_type": "code",
   "execution_count": null,
   "metadata": {},
   "outputs": [],
   "source": []
  }
 ],
 "metadata": {
  "language_info": {
   "codemirror_mode": {
    "name": "ipython",
    "version": 3
   },
   "file_extension": ".py",
   "mimetype": "text/x-python",
   "name": "python",
   "nbconvert_exporter": "python",
   "pygments_lexer": "ipython3",
   "version": "3.8.1-final"
  },
  "orig_nbformat": 2,
  "kernelspec": {
   "name": "tfe",
   "display_name": "tfe"
  }
 },
 "nbformat": 4,
 "nbformat_minor": 2
}